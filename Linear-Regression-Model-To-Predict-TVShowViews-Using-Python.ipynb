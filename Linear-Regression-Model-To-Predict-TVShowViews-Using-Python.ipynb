{
 "cells": [
  {
   "cell_type": "code",
   "execution_count": 4,
   "metadata": {},
   "outputs": [],
   "source": [
    "#Import the necessary libraries\n",
    "\n",
    "import pandas as  pd\n",
    "import numpy as np\n",
    "from sklearn import linear_model\n"
   ]
  },
  {
   "cell_type": "code",
   "execution_count": 6,
   "metadata": {},
   "outputs": [],
   "source": [
    "#Loading the dataset\n",
    "\n",
    "df=pd.read_csv('TVshow-Viewers.csv')\n"
   ]
  },
  {
   "cell_type": "code",
   "execution_count": 7,
   "metadata": {},
   "outputs": [
    {
     "data": {
      "text/html": [
       "<div>\n",
       "<style scoped>\n",
       "    .dataframe tbody tr th:only-of-type {\n",
       "        vertical-align: middle;\n",
       "    }\n",
       "\n",
       "    .dataframe tbody tr th {\n",
       "        vertical-align: top;\n",
       "    }\n",
       "\n",
       "    .dataframe thead th {\n",
       "        text-align: right;\n",
       "    }\n",
       "</style>\n",
       "<table border=\"1\" class=\"dataframe\">\n",
       "  <thead>\n",
       "    <tr style=\"text-align: right;\">\n",
       "      <th></th>\n",
       "      <th>Episode</th>\n",
       "      <th>Character1_appeared</th>\n",
       "      <th>Character2_appeared</th>\n",
       "      <th>Character3_appeared</th>\n",
       "      <th>Character4_appeared</th>\n",
       "      <th>Character5_appeared</th>\n",
       "      <th>Fight_scenes</th>\n",
       "      <th>Comedy_scences</th>\n",
       "      <th>Romance_scence</th>\n",
       "      <th>Viewers</th>\n",
       "    </tr>\n",
       "  </thead>\n",
       "  <tbody>\n",
       "    <tr>\n",
       "      <th>0</th>\n",
       "      <td>Episode001</td>\n",
       "      <td>3</td>\n",
       "      <td>5</td>\n",
       "      <td>2</td>\n",
       "      <td>4</td>\n",
       "      <td>4</td>\n",
       "      <td>3</td>\n",
       "      <td>7</td>\n",
       "      <td>9</td>\n",
       "      <td>888983</td>\n",
       "    </tr>\n",
       "    <tr>\n",
       "      <th>1</th>\n",
       "      <td>Episode002</td>\n",
       "      <td>4</td>\n",
       "      <td>6</td>\n",
       "      <td>3</td>\n",
       "      <td>5</td>\n",
       "      <td>3</td>\n",
       "      <td>4</td>\n",
       "      <td>8</td>\n",
       "      <td>7</td>\n",
       "      <td>888737</td>\n",
       "    </tr>\n",
       "    <tr>\n",
       "      <th>2</th>\n",
       "      <td>Episode003</td>\n",
       "      <td>2</td>\n",
       "      <td>4</td>\n",
       "      <td>1</td>\n",
       "      <td>3</td>\n",
       "      <td>5</td>\n",
       "      <td>2</td>\n",
       "      <td>6</td>\n",
       "      <td>8</td>\n",
       "      <td>887743</td>\n",
       "    </tr>\n",
       "    <tr>\n",
       "      <th>3</th>\n",
       "      <td>Episode004</td>\n",
       "      <td>4</td>\n",
       "      <td>6</td>\n",
       "      <td>3</td>\n",
       "      <td>5</td>\n",
       "      <td>2</td>\n",
       "      <td>5</td>\n",
       "      <td>8</td>\n",
       "      <td>7</td>\n",
       "      <td>808437</td>\n",
       "    </tr>\n",
       "    <tr>\n",
       "      <th>4</th>\n",
       "      <td>Episode005</td>\n",
       "      <td>5</td>\n",
       "      <td>7</td>\n",
       "      <td>4</td>\n",
       "      <td>6</td>\n",
       "      <td>4</td>\n",
       "      <td>2</td>\n",
       "      <td>6</td>\n",
       "      <td>6</td>\n",
       "      <td>777626</td>\n",
       "    </tr>\n",
       "  </tbody>\n",
       "</table>\n",
       "</div>"
      ],
      "text/plain": [
       "      Episode  Character1_appeared  Character2_appeared  Character3_appeared  \\\n",
       "0  Episode001                    3                    5                    2   \n",
       "1  Episode002                    4                    6                    3   \n",
       "2  Episode003                    2                    4                    1   \n",
       "3  Episode004                    4                    6                    3   \n",
       "4  Episode005                    5                    7                    4   \n",
       "\n",
       "   Character4_appeared  Character5_appeared  Fight_scenes  Comedy_scences  \\\n",
       "0                    4                    4             3               7   \n",
       "1                    5                    3             4               8   \n",
       "2                    3                    5             2               6   \n",
       "3                    5                    2             5               8   \n",
       "4                    6                    4             2               6   \n",
       "\n",
       "   Romance_scence  Viewers  \n",
       "0               9   888983  \n",
       "1               7   888737  \n",
       "2               8   887743  \n",
       "3               7   808437  \n",
       "4               6   777626  "
      ]
     },
     "execution_count": 7,
     "metadata": {},
     "output_type": "execute_result"
    }
   ],
   "source": [
    "df.head()"
   ]
  },
  {
   "cell_type": "code",
   "execution_count": 8,
   "metadata": {},
   "outputs": [],
   "source": [
    "col_names=list(df.columns.values)"
   ]
  },
  {
   "cell_type": "code",
   "execution_count": 9,
   "metadata": {},
   "outputs": [
    {
     "data": {
      "text/plain": [
       "['Episode',\n",
       " 'Character1_appeared',\n",
       " 'Character2_appeared',\n",
       " 'Character3_appeared',\n",
       " 'Character4_appeared',\n",
       " 'Character5_appeared',\n",
       " 'Fight_scenes',\n",
       " 'Comedy_scences',\n",
       " 'Romance_scence',\n",
       " 'Viewers']"
      ]
     },
     "execution_count": 9,
     "metadata": {},
     "output_type": "execute_result"
    }
   ],
   "source": [
    "col_names"
   ]
  },
  {
   "cell_type": "code",
   "execution_count": 10,
   "metadata": {},
   "outputs": [
    {
     "data": {
      "text/html": [
       "<div>\n",
       "<style scoped>\n",
       "    .dataframe tbody tr th:only-of-type {\n",
       "        vertical-align: middle;\n",
       "    }\n",
       "\n",
       "    .dataframe tbody tr th {\n",
       "        vertical-align: top;\n",
       "    }\n",
       "\n",
       "    .dataframe thead th {\n",
       "        text-align: right;\n",
       "    }\n",
       "</style>\n",
       "<table border=\"1\" class=\"dataframe\">\n",
       "  <thead>\n",
       "    <tr style=\"text-align: right;\">\n",
       "      <th></th>\n",
       "      <th>Character1_appeared</th>\n",
       "      <th>Character2_appeared</th>\n",
       "      <th>Character3_appeared</th>\n",
       "      <th>Character4_appeared</th>\n",
       "      <th>Character5_appeared</th>\n",
       "      <th>Fight_scenes</th>\n",
       "      <th>Comedy_scences</th>\n",
       "      <th>Romance_scence</th>\n",
       "      <th>Viewers</th>\n",
       "    </tr>\n",
       "  </thead>\n",
       "  <tbody>\n",
       "    <tr>\n",
       "      <th>count</th>\n",
       "      <td>50.000000</td>\n",
       "      <td>50.000000</td>\n",
       "      <td>50.000000</td>\n",
       "      <td>50.000000</td>\n",
       "      <td>50.000000</td>\n",
       "      <td>50.000000</td>\n",
       "      <td>50.000000</td>\n",
       "      <td>50.000000</td>\n",
       "      <td>50.000000</td>\n",
       "    </tr>\n",
       "    <tr>\n",
       "      <th>mean</th>\n",
       "      <td>3.180000</td>\n",
       "      <td>5.180000</td>\n",
       "      <td>2.300000</td>\n",
       "      <td>4.180000</td>\n",
       "      <td>3.640000</td>\n",
       "      <td>2.580000</td>\n",
       "      <td>7.000000</td>\n",
       "      <td>6.880000</td>\n",
       "      <td>754132.800000</td>\n",
       "    </tr>\n",
       "    <tr>\n",
       "      <th>std</th>\n",
       "      <td>1.955526</td>\n",
       "      <td>1.955526</td>\n",
       "      <td>1.854394</td>\n",
       "      <td>1.955526</td>\n",
       "      <td>1.987307</td>\n",
       "      <td>1.070762</td>\n",
       "      <td>1.106567</td>\n",
       "      <td>1.189066</td>\n",
       "      <td>152197.668355</td>\n",
       "    </tr>\n",
       "    <tr>\n",
       "      <th>min</th>\n",
       "      <td>0.000000</td>\n",
       "      <td>2.000000</td>\n",
       "      <td>0.000000</td>\n",
       "      <td>1.000000</td>\n",
       "      <td>1.000000</td>\n",
       "      <td>1.000000</td>\n",
       "      <td>5.000000</td>\n",
       "      <td>5.000000</td>\n",
       "      <td>354234.000000</td>\n",
       "    </tr>\n",
       "    <tr>\n",
       "      <th>25%</th>\n",
       "      <td>2.000000</td>\n",
       "      <td>4.000000</td>\n",
       "      <td>1.000000</td>\n",
       "      <td>3.000000</td>\n",
       "      <td>2.000000</td>\n",
       "      <td>2.000000</td>\n",
       "      <td>6.000000</td>\n",
       "      <td>6.000000</td>\n",
       "      <td>665438.750000</td>\n",
       "    </tr>\n",
       "    <tr>\n",
       "      <th>50%</th>\n",
       "      <td>3.000000</td>\n",
       "      <td>5.000000</td>\n",
       "      <td>2.000000</td>\n",
       "      <td>4.000000</td>\n",
       "      <td>3.000000</td>\n",
       "      <td>2.500000</td>\n",
       "      <td>7.000000</td>\n",
       "      <td>7.000000</td>\n",
       "      <td>793954.500000</td>\n",
       "    </tr>\n",
       "    <tr>\n",
       "      <th>75%</th>\n",
       "      <td>4.000000</td>\n",
       "      <td>6.000000</td>\n",
       "      <td>3.000000</td>\n",
       "      <td>5.000000</td>\n",
       "      <td>5.000000</td>\n",
       "      <td>3.000000</td>\n",
       "      <td>8.000000</td>\n",
       "      <td>8.000000</td>\n",
       "      <td>887713.000000</td>\n",
       "    </tr>\n",
       "    <tr>\n",
       "      <th>max</th>\n",
       "      <td>8.000000</td>\n",
       "      <td>10.000000</td>\n",
       "      <td>7.000000</td>\n",
       "      <td>9.000000</td>\n",
       "      <td>9.000000</td>\n",
       "      <td>6.000000</td>\n",
       "      <td>9.000000</td>\n",
       "      <td>9.000000</td>\n",
       "      <td>987342.000000</td>\n",
       "    </tr>\n",
       "  </tbody>\n",
       "</table>\n",
       "</div>"
      ],
      "text/plain": [
       "       Character1_appeared  Character2_appeared  Character3_appeared  \\\n",
       "count            50.000000            50.000000            50.000000   \n",
       "mean              3.180000             5.180000             2.300000   \n",
       "std               1.955526             1.955526             1.854394   \n",
       "min               0.000000             2.000000             0.000000   \n",
       "25%               2.000000             4.000000             1.000000   \n",
       "50%               3.000000             5.000000             2.000000   \n",
       "75%               4.000000             6.000000             3.000000   \n",
       "max               8.000000            10.000000             7.000000   \n",
       "\n",
       "       Character4_appeared  Character5_appeared  Fight_scenes  Comedy_scences  \\\n",
       "count            50.000000            50.000000     50.000000       50.000000   \n",
       "mean              4.180000             3.640000      2.580000        7.000000   \n",
       "std               1.955526             1.987307      1.070762        1.106567   \n",
       "min               1.000000             1.000000      1.000000        5.000000   \n",
       "25%               3.000000             2.000000      2.000000        6.000000   \n",
       "50%               4.000000             3.000000      2.500000        7.000000   \n",
       "75%               5.000000             5.000000      3.000000        8.000000   \n",
       "max               9.000000             9.000000      6.000000        9.000000   \n",
       "\n",
       "       Romance_scence        Viewers  \n",
       "count       50.000000      50.000000  \n",
       "mean         6.880000  754132.800000  \n",
       "std          1.189066  152197.668355  \n",
       "min          5.000000  354234.000000  \n",
       "25%          6.000000  665438.750000  \n",
       "50%          7.000000  793954.500000  \n",
       "75%          8.000000  887713.000000  \n",
       "max          9.000000  987342.000000  "
      ]
     },
     "execution_count": 10,
     "metadata": {},
     "output_type": "execute_result"
    }
   ],
   "source": [
    "#Summary Statistics\n",
    "\n",
    "df.describe()"
   ]
  },
  {
   "cell_type": "code",
   "execution_count": 17,
   "metadata": {},
   "outputs": [],
   "source": [
    "#Split Dataset\n",
    "\n",
    "def split_data(df):\n",
    "    \n",
    "    features = []\n",
    "    target = []\n",
    "    for char1,char2,char3,char4,char5,fight_scene,comedy_scence,romance_scence,viewers_count in zip(\n",
    "                                df['Character1_appeared'],\n",
    "                                 df['Character2_appeared'],\n",
    "                                 df['Character3_appeared'],\n",
    "                                 df['Character4_appeared'],\n",
    "                                 df['Character5_appeared'],\n",
    "                                 df['Fight_scenes'],\n",
    "                                 df['Comedy_scences'],\n",
    "                                 df['Romance_scence'],\n",
    "                                 df['Viewers']\n",
    "                                ):\n",
    "        features.append([char1,char2,char3,\n",
    "                                   char4,char5,fight_scene,\n",
    "                                   comedy_scence,romance_scence])\n",
    "        target.append(viewers_count)\n",
    "        \n",
    "    return features,target\n",
    "         "
   ]
  },
  {
   "cell_type": "code",
   "execution_count": 18,
   "metadata": {},
   "outputs": [
    {
     "name": "stdout",
     "output_type": "stream",
     "text": [
      "[[3, 5, 2, 4, 4, 3, 7, 9], [4, 6, 3, 5, 3, 4, 8, 7], [2, 4, 1, 3, 5, 2, 6, 8], [4, 6, 3, 5, 2, 5, 8, 7], [5, 7, 4, 6, 4, 2, 6, 6], [2, 4, 1, 3, 1, 1, 7, 7], [1, 3, 0, 2, 8, 4, 8, 6], [0, 2, 3, 1, 5, 3, 6, 5], [2, 4, 1, 3, 3, 2, 9, 6], [3, 5, 2, 4, 9, 6, 7, 5], [4, 6, 3, 5, 3, 3, 6, 7], [1, 3, 0, 2, 4, 2, 8, 6], [7, 9, 6, 8, 5, 4, 7, 5], [3, 5, 2, 4, 2, 2, 5, 8], [2, 4, 1, 3, 6, 3, 6, 5], [4, 6, 3, 5, 1, 1, 7, 6], [5, 7, 4, 6, 8, 3, 5, 5], [6, 8, 5, 7, 2, 2, 8, 7], [7, 9, 6, 8, 3, 4, 5, 6], [1, 3, 0, 2, 4, 1, 8, 8], [3, 5, 2, 4, 1, 3, 7, 9], [6, 8, 5, 7, 6, 2, 6, 6], [3, 5, 2, 4, 3, 1, 9, 9], [7, 9, 6, 8, 2, 4, 5, 7], [2, 4, 1, 3, 8, 3, 6, 8], [4, 6, 3, 5, 3, 2, 7, 6], [3, 5, 2, 4, 4, 3, 8, 7], [5, 7, 4, 6, 5, 1, 9, 6], [2, 4, 1, 3, 2, 4, 8, 8], [0, 2, 1, 1, 5, 1, 8, 6], [3, 5, 2, 4, 3, 2, 8, 7], [4, 6, 3, 5, 1, 2, 7, 8], [1, 3, 0, 2, 2, 3, 6, 6], [2, 4, 1, 3, 6, 1, 7, 7], [5, 7, 4, 6, 4, 2, 6, 9], [2, 4, 1, 3, 3, 3, 8, 7], [1, 3, 0, 2, 2, 2, 6, 6], [4, 6, 3, 5, 4, 3, 7, 8], [3, 5, 2, 4, 3, 2, 6, 6], [2, 4, 1, 3, 2, 3, 7, 7], [1, 3, 0, 2, 1, 2, 8, 6], [5, 7, 4, 6, 6, 3, 6, 5], [2, 4, 1, 3, 4, 2, 7, 6], [1, 3, 0, 2, 3, 3, 8, 8], [6, 8, 5, 7, 2, 2, 9, 9], [2, 4, 1, 3, 5, 3, 6, 8], [8, 10, 7, 9, 4, 2, 7, 7], [2, 4, 1, 3, 3, 3, 8, 8], [1, 3, 0, 2, 2, 2, 6, 7], [3, 5, 2, 4, 1, 3, 7, 8]]\n",
      "[888983, 888737, 887743, 808437, 777626, 877672, 799867, 656765, 798732, 506556, 696453, 621321, 453234, 897653, 443535, 723454, 354234, 808324, 432534, 886543, 899876, 564533, 908654, 876553, 896574, 723454, 812312, 709876, 897654, 708983, 762342, 875644, 654564, 789564, 921084, 897423, 552342, 798345, 665434, 708345, 609834, 560973, 665453, 987342, 907823, 887623, 708242, 898723, 765434, 883234]\n"
     ]
    }
   ],
   "source": [
    "train_features,train_target = split_data(df)\n",
    "\n",
    "print(train_features)\n",
    "print(train_target)"
   ]
  },
  {
   "cell_type": "code",
   "execution_count": null,
   "metadata": {},
   "outputs": [],
   "source": []
  },
  {
   "cell_type": "code",
   "execution_count": 20,
   "metadata": {},
   "outputs": [
    {
     "data": {
      "text/html": [
       "<style>#sk-container-id-1 {color: black;background-color: white;}#sk-container-id-1 pre{padding: 0;}#sk-container-id-1 div.sk-toggleable {background-color: white;}#sk-container-id-1 label.sk-toggleable__label {cursor: pointer;display: block;width: 100%;margin-bottom: 0;padding: 0.3em;box-sizing: border-box;text-align: center;}#sk-container-id-1 label.sk-toggleable__label-arrow:before {content: \"▸\";float: left;margin-right: 0.25em;color: #696969;}#sk-container-id-1 label.sk-toggleable__label-arrow:hover:before {color: black;}#sk-container-id-1 div.sk-estimator:hover label.sk-toggleable__label-arrow:before {color: black;}#sk-container-id-1 div.sk-toggleable__content {max-height: 0;max-width: 0;overflow: hidden;text-align: left;background-color: #f0f8ff;}#sk-container-id-1 div.sk-toggleable__content pre {margin: 0.2em;color: black;border-radius: 0.25em;background-color: #f0f8ff;}#sk-container-id-1 input.sk-toggleable__control:checked~div.sk-toggleable__content {max-height: 200px;max-width: 100%;overflow: auto;}#sk-container-id-1 input.sk-toggleable__control:checked~label.sk-toggleable__label-arrow:before {content: \"▾\";}#sk-container-id-1 div.sk-estimator input.sk-toggleable__control:checked~label.sk-toggleable__label {background-color: #d4ebff;}#sk-container-id-1 div.sk-label input.sk-toggleable__control:checked~label.sk-toggleable__label {background-color: #d4ebff;}#sk-container-id-1 input.sk-hidden--visually {border: 0;clip: rect(1px 1px 1px 1px);clip: rect(1px, 1px, 1px, 1px);height: 1px;margin: -1px;overflow: hidden;padding: 0;position: absolute;width: 1px;}#sk-container-id-1 div.sk-estimator {font-family: monospace;background-color: #f0f8ff;border: 1px dotted black;border-radius: 0.25em;box-sizing: border-box;margin-bottom: 0.5em;}#sk-container-id-1 div.sk-estimator:hover {background-color: #d4ebff;}#sk-container-id-1 div.sk-parallel-item::after {content: \"\";width: 100%;border-bottom: 1px solid gray;flex-grow: 1;}#sk-container-id-1 div.sk-label:hover label.sk-toggleable__label {background-color: #d4ebff;}#sk-container-id-1 div.sk-serial::before {content: \"\";position: absolute;border-left: 1px solid gray;box-sizing: border-box;top: 0;bottom: 0;left: 50%;z-index: 0;}#sk-container-id-1 div.sk-serial {display: flex;flex-direction: column;align-items: center;background-color: white;padding-right: 0.2em;padding-left: 0.2em;position: relative;}#sk-container-id-1 div.sk-item {position: relative;z-index: 1;}#sk-container-id-1 div.sk-parallel {display: flex;align-items: stretch;justify-content: center;background-color: white;position: relative;}#sk-container-id-1 div.sk-item::before, #sk-container-id-1 div.sk-parallel-item::before {content: \"\";position: absolute;border-left: 1px solid gray;box-sizing: border-box;top: 0;bottom: 0;left: 50%;z-index: -1;}#sk-container-id-1 div.sk-parallel-item {display: flex;flex-direction: column;z-index: 1;position: relative;background-color: white;}#sk-container-id-1 div.sk-parallel-item:first-child::after {align-self: flex-end;width: 50%;}#sk-container-id-1 div.sk-parallel-item:last-child::after {align-self: flex-start;width: 50%;}#sk-container-id-1 div.sk-parallel-item:only-child::after {width: 0;}#sk-container-id-1 div.sk-dashed-wrapped {border: 1px dashed gray;margin: 0 0.4em 0.5em 0.4em;box-sizing: border-box;padding-bottom: 0.4em;background-color: white;}#sk-container-id-1 div.sk-label label {font-family: monospace;font-weight: bold;display: inline-block;line-height: 1.2em;}#sk-container-id-1 div.sk-label-container {text-align: center;}#sk-container-id-1 div.sk-container {/* jupyter's `normalize.less` sets `[hidden] { display: none; }` but bootstrap.min.css set `[hidden] { display: none !important; }` so we also need the `!important` here to be able to override the default hidden behavior on the sphinx rendered scikit-learn.org. See: https://github.com/scikit-learn/scikit-learn/issues/21755 */display: inline-block !important;position: relative;}#sk-container-id-1 div.sk-text-repr-fallback {display: none;}</style><div id=\"sk-container-id-1\" class=\"sk-top-container\"><div class=\"sk-text-repr-fallback\"><pre>LinearRegression()</pre><b>In a Jupyter environment, please rerun this cell to show the HTML representation or trust the notebook. <br />On GitHub, the HTML representation is unable to render, please try loading this page with nbviewer.org.</b></div><div class=\"sk-container\" hidden><div class=\"sk-item\"><div class=\"sk-estimator sk-toggleable\"><input class=\"sk-toggleable__control sk-hidden--visually\" id=\"sk-estimator-id-1\" type=\"checkbox\" checked><label for=\"sk-estimator-id-1\" class=\"sk-toggleable__label sk-toggleable__label-arrow\">LinearRegression</label><div class=\"sk-toggleable__content\"><pre>LinearRegression()</pre></div></div></div></div></div>"
      ],
      "text/plain": [
       "LinearRegression()"
      ]
     },
     "execution_count": 20,
     "metadata": {},
     "output_type": "execute_result"
    }
   ],
   "source": [
    "#Building Linear Regression Model\n",
    "\n",
    "myReg=linear_model.LinearRegression()\n",
    "myReg.fit(train_features, train_target)"
   ]
  },
  {
   "cell_type": "code",
   "execution_count": 24,
   "metadata": {},
   "outputs": [
    {
     "ename": "TypeError",
     "evalue": "LinearModel.predict() takes 2 positional arguments but 3 were given",
     "output_type": "error",
     "traceback": [
      "\u001b[1;31m---------------------------------------------------------------------------\u001b[0m",
      "\u001b[1;31mTypeError\u001b[0m                                 Traceback (most recent call last)",
      "Cell \u001b[1;32mIn[24], line 6\u001b[0m\n\u001b[0;32m      3\u001b[0m episode51_features \u001b[39m=\u001b[39m [\u001b[39m4\u001b[39m, \u001b[39m6\u001b[39m, \u001b[39m3\u001b[39m, \u001b[39m6\u001b[39m, \u001b[39m3\u001b[39m, \u001b[39m4\u001b[39m, \u001b[39m8\u001b[39m, \u001b[39m9\u001b[39m]\n\u001b[0;32m      5\u001b[0m episode52_features \u001b[39m=\u001b[39m [\u001b[39m4\u001b[39m, \u001b[39m6\u001b[39m, \u001b[39m3\u001b[39m, \u001b[39m6\u001b[39m, \u001b[39m3\u001b[39m, \u001b[39m6\u001b[39m, \u001b[39m2\u001b[39m, \u001b[39m3\u001b[39m]\n\u001b[1;32m----> 6\u001b[0m \u001b[39mprint\u001b[39m (myReg\u001b[39m.\u001b[39;49mpredict(episode51_features, episode52_features))\n\u001b[0;32m      8\u001b[0m \u001b[39m#episode52_features = [4, 6, 3, 6, 3, 6, 2, 3]\u001b[39;00m\n\u001b[0;32m      9\u001b[0m \u001b[39m#print(myReg.predict(episode52_features))\u001b[39;00m\n",
      "\u001b[1;31mTypeError\u001b[0m: LinearModel.predict() takes 2 positional arguments but 3 were given"
     ]
    }
   ],
   "source": [
    "#Predicting Tv Viewers for new Episode\n",
    "\n",
    "episode51_features = [4, 6, 3, 6, 3, 4, 8, 9]\n",
    "\n",
    "episode52_features = [4, 6, 3, 6, 3, 6, 2, 3]\n",
    "print (myReg.predict(episode51_features, episode52_features))\n",
    "\n",
    "#episode52_features = [4, 6, 3, 6, 3, 6, 2, 3]\n",
    "#print(myReg.predict(episode52_features))"
   ]
  },
  {
   "cell_type": "code",
   "execution_count": null,
   "metadata": {},
   "outputs": [],
   "source": []
  },
  {
   "cell_type": "code",
   "execution_count": null,
   "metadata": {},
   "outputs": [],
   "source": []
  },
  {
   "cell_type": "code",
   "execution_count": null,
   "metadata": {},
   "outputs": [],
   "source": []
  },
  {
   "cell_type": "code",
   "execution_count": null,
   "metadata": {},
   "outputs": [],
   "source": []
  },
  {
   "cell_type": "code",
   "execution_count": null,
   "metadata": {},
   "outputs": [],
   "source": []
  },
  {
   "cell_type": "code",
   "execution_count": null,
   "metadata": {},
   "outputs": [],
   "source": []
  },
  {
   "cell_type": "code",
   "execution_count": null,
   "metadata": {},
   "outputs": [],
   "source": []
  },
  {
   "cell_type": "code",
   "execution_count": null,
   "metadata": {},
   "outputs": [],
   "source": []
  },
  {
   "cell_type": "code",
   "execution_count": null,
   "metadata": {},
   "outputs": [],
   "source": []
  },
  {
   "cell_type": "code",
   "execution_count": null,
   "metadata": {},
   "outputs": [],
   "source": []
  },
  {
   "cell_type": "code",
   "execution_count": null,
   "metadata": {},
   "outputs": [],
   "source": []
  },
  {
   "cell_type": "code",
   "execution_count": null,
   "metadata": {},
   "outputs": [],
   "source": []
  },
  {
   "cell_type": "code",
   "execution_count": null,
   "metadata": {},
   "outputs": [],
   "source": []
  },
  {
   "cell_type": "code",
   "execution_count": null,
   "metadata": {},
   "outputs": [],
   "source": []
  },
  {
   "cell_type": "code",
   "execution_count": null,
   "metadata": {},
   "outputs": [],
   "source": []
  },
  {
   "cell_type": "code",
   "execution_count": null,
   "metadata": {},
   "outputs": [],
   "source": []
  },
  {
   "cell_type": "code",
   "execution_count": null,
   "metadata": {},
   "outputs": [],
   "source": []
  },
  {
   "cell_type": "code",
   "execution_count": null,
   "metadata": {},
   "outputs": [],
   "source": []
  },
  {
   "cell_type": "code",
   "execution_count": null,
   "metadata": {},
   "outputs": [],
   "source": []
  },
  {
   "cell_type": "code",
   "execution_count": null,
   "metadata": {},
   "outputs": [],
   "source": []
  },
  {
   "cell_type": "code",
   "execution_count": null,
   "metadata": {},
   "outputs": [],
   "source": []
  },
  {
   "cell_type": "code",
   "execution_count": null,
   "metadata": {},
   "outputs": [],
   "source": []
  },
  {
   "cell_type": "code",
   "execution_count": null,
   "metadata": {},
   "outputs": [],
   "source": []
  },
  {
   "cell_type": "code",
   "execution_count": null,
   "metadata": {},
   "outputs": [],
   "source": []
  },
  {
   "cell_type": "code",
   "execution_count": null,
   "metadata": {},
   "outputs": [],
   "source": []
  },
  {
   "cell_type": "code",
   "execution_count": null,
   "metadata": {},
   "outputs": [],
   "source": []
  },
  {
   "cell_type": "code",
   "execution_count": null,
   "metadata": {},
   "outputs": [],
   "source": []
  },
  {
   "cell_type": "code",
   "execution_count": null,
   "metadata": {},
   "outputs": [],
   "source": []
  },
  {
   "cell_type": "code",
   "execution_count": null,
   "metadata": {},
   "outputs": [],
   "source": []
  },
  {
   "cell_type": "code",
   "execution_count": null,
   "metadata": {},
   "outputs": [],
   "source": []
  },
  {
   "cell_type": "code",
   "execution_count": null,
   "metadata": {},
   "outputs": [],
   "source": []
  },
  {
   "cell_type": "code",
   "execution_count": null,
   "metadata": {},
   "outputs": [],
   "source": []
  },
  {
   "cell_type": "code",
   "execution_count": null,
   "metadata": {},
   "outputs": [],
   "source": []
  },
  {
   "cell_type": "code",
   "execution_count": null,
   "metadata": {},
   "outputs": [],
   "source": []
  },
  {
   "cell_type": "code",
   "execution_count": null,
   "metadata": {},
   "outputs": [],
   "source": []
  },
  {
   "cell_type": "code",
   "execution_count": null,
   "metadata": {},
   "outputs": [],
   "source": []
  },
  {
   "cell_type": "code",
   "execution_count": null,
   "metadata": {},
   "outputs": [],
   "source": []
  },
  {
   "cell_type": "code",
   "execution_count": null,
   "metadata": {},
   "outputs": [],
   "source": []
  },
  {
   "cell_type": "code",
   "execution_count": null,
   "metadata": {},
   "outputs": [],
   "source": []
  },
  {
   "cell_type": "code",
   "execution_count": null,
   "metadata": {},
   "outputs": [],
   "source": []
  },
  {
   "cell_type": "code",
   "execution_count": null,
   "metadata": {},
   "outputs": [],
   "source": []
  },
  {
   "cell_type": "code",
   "execution_count": null,
   "metadata": {},
   "outputs": [],
   "source": []
  },
  {
   "cell_type": "code",
   "execution_count": null,
   "metadata": {},
   "outputs": [],
   "source": []
  },
  {
   "cell_type": "code",
   "execution_count": null,
   "metadata": {},
   "outputs": [],
   "source": []
  },
  {
   "cell_type": "code",
   "execution_count": null,
   "metadata": {},
   "outputs": [],
   "source": []
  },
  {
   "cell_type": "code",
   "execution_count": null,
   "metadata": {},
   "outputs": [],
   "source": []
  },
  {
   "cell_type": "code",
   "execution_count": null,
   "metadata": {},
   "outputs": [],
   "source": []
  },
  {
   "cell_type": "code",
   "execution_count": null,
   "metadata": {},
   "outputs": [],
   "source": []
  },
  {
   "cell_type": "code",
   "execution_count": null,
   "metadata": {},
   "outputs": [],
   "source": []
  },
  {
   "cell_type": "code",
   "execution_count": null,
   "metadata": {},
   "outputs": [],
   "source": []
  },
  {
   "cell_type": "code",
   "execution_count": null,
   "metadata": {},
   "outputs": [],
   "source": []
  },
  {
   "cell_type": "code",
   "execution_count": null,
   "metadata": {},
   "outputs": [],
   "source": []
  },
  {
   "cell_type": "code",
   "execution_count": null,
   "metadata": {},
   "outputs": [],
   "source": []
  },
  {
   "cell_type": "code",
   "execution_count": null,
   "metadata": {},
   "outputs": [],
   "source": []
  },
  {
   "cell_type": "code",
   "execution_count": null,
   "metadata": {},
   "outputs": [],
   "source": []
  },
  {
   "cell_type": "code",
   "execution_count": null,
   "metadata": {},
   "outputs": [],
   "source": []
  },
  {
   "cell_type": "code",
   "execution_count": null,
   "metadata": {},
   "outputs": [],
   "source": []
  },
  {
   "cell_type": "code",
   "execution_count": null,
   "metadata": {},
   "outputs": [],
   "source": []
  }
 ],
 "metadata": {
  "kernelspec": {
   "display_name": "Python 3",
   "language": "python",
   "name": "python3"
  },
  "language_info": {
   "codemirror_mode": {
    "name": "ipython",
    "version": 3
   },
   "file_extension": ".py",
   "mimetype": "text/x-python",
   "name": "python",
   "nbconvert_exporter": "python",
   "pygments_lexer": "ipython3",
   "version": "3.10.6"
  },
  "orig_nbformat": 4
 },
 "nbformat": 4,
 "nbformat_minor": 2
}
