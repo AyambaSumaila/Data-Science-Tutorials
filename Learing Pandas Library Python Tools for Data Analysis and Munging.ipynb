{
 "cells": [
  {
   "cell_type": "code",
   "execution_count": 4,
   "id": "3650ecdc",
   "metadata": {},
   "outputs": [],
   "source": [
    "import numpy as np\n",
    "import pandas as pd"
   ]
  },
  {
   "cell_type": "code",
   "execution_count": 3,
   "id": "6f5b7bb3",
   "metadata": {},
   "outputs": [],
   "source": [
    "from pandas import DataFrame, Series"
   ]
  },
  {
   "cell_type": "code",
   "execution_count": 2,
   "id": "773fd043",
   "metadata": {},
   "outputs": [],
   "source": [
    "import pandas as pd"
   ]
  },
  {
   "cell_type": "raw",
   "id": "dbfb6648",
   "metadata": {},
   "source": []
  },
  {
   "cell_type": "code",
   "execution_count": 5,
   "id": "94393e02",
   "metadata": {},
   "outputs": [
    {
     "name": "stdout",
     "output_type": "stream",
     "text": [
      "==========================\n"
     ]
    },
    {
     "data": {
      "text/plain": [
       "33"
      ]
     },
     "execution_count": 5,
     "metadata": {},
     "output_type": "execute_result"
    }
   ],
   "source": [
    "ser={'index':[0, 1, 2, 3],\n",
    "'data':[123, 44, 11, 22],\n",
    "'name':'songs'}\n",
    "\n",
    "songs={\n",
    "    'index':['Paul', 'John', 'George', 'Ringo'],\n",
    "    'data':[12, 33, 11, 99],\n",
    "    'name':'count'\n",
    "}\n",
    "\n",
    "def get(ser, idx):\n",
    "    value_idx=ser['index'].index(idx)\n",
    "    return ser['data'][value_idx]\n",
    "\n",
    "\n",
    "\n",
    "print('==========================')\n",
    "get(songs, 'John')"
   ]
  },
  {
   "cell_type": "code",
   "execution_count": 6,
   "id": "3e273407",
   "metadata": {},
   "outputs": [
    {
     "data": {
      "text/plain": [
       "44"
      ]
     },
     "execution_count": 6,
     "metadata": {},
     "output_type": "execute_result"
    }
   ],
   "source": [
    "get(ser, 1)"
   ]
  },
  {
   "cell_type": "code",
   "execution_count": 7,
   "id": "ebc77d00",
   "metadata": {},
   "outputs": [],
   "source": [
    "songs2=pd.Series([12, 44, 2, 4],\n",
    "name='counts')"
   ]
  },
  {
   "cell_type": "code",
   "execution_count": null,
   "id": "292eefe9",
   "metadata": {},
   "outputs": [],
   "source": []
  },
  {
   "cell_type": "code",
   "execution_count": null,
   "id": "11575d2d",
   "metadata": {},
   "outputs": [],
   "source": []
  },
  {
   "cell_type": "code",
   "execution_count": null,
   "id": "475bf548",
   "metadata": {},
   "outputs": [],
   "source": []
  },
  {
   "cell_type": "code",
   "execution_count": null,
   "id": "2026bcd8",
   "metadata": {},
   "outputs": [],
   "source": []
  },
  {
   "cell_type": "code",
   "execution_count": null,
   "id": "97145e09",
   "metadata": {},
   "outputs": [],
   "source": []
  },
  {
   "cell_type": "code",
   "execution_count": null,
   "id": "09ad6394",
   "metadata": {},
   "outputs": [],
   "source": []
  },
  {
   "cell_type": "code",
   "execution_count": null,
   "id": "dc4ea68a",
   "metadata": {},
   "outputs": [],
   "source": []
  },
  {
   "cell_type": "code",
   "execution_count": null,
   "id": "6883c59b",
   "metadata": {},
   "outputs": [],
   "source": []
  },
  {
   "cell_type": "code",
   "execution_count": null,
   "id": "9f959a11",
   "metadata": {},
   "outputs": [],
   "source": []
  },
  {
   "cell_type": "code",
   "execution_count": null,
   "id": "885e0ae4",
   "metadata": {},
   "outputs": [],
   "source": []
  },
  {
   "cell_type": "code",
   "execution_count": 8,
   "id": "1ca96b8b",
   "metadata": {},
   "outputs": [
    {
     "data": {
      "text/plain": [
       "0    12\n",
       "1    44\n",
       "2     2\n",
       "3     4\n",
       "Name: counts, dtype: int64"
      ]
     },
     "execution_count": 8,
     "metadata": {},
     "output_type": "execute_result"
    }
   ],
   "source": [
    "songs2"
   ]
  },
  {
   "cell_type": "code",
   "execution_count": 19,
   "id": "7c0bd298",
   "metadata": {},
   "outputs": [
    {
     "data": {
      "text/plain": [
       "RangeIndex(start=0, stop=4, step=1)"
      ]
     },
     "execution_count": 19,
     "metadata": {},
     "output_type": "execute_result"
    }
   ],
   "source": [
    "songs2.index"
   ]
  },
  {
   "cell_type": "code",
   "execution_count": 9,
   "id": "4085a6c1",
   "metadata": {},
   "outputs": [],
   "source": [
    "class Foo:\n",
    "    pass\n",
    "ringo=pd.Series(['Richard', 'Starley', 13, Foo()],\n",
    "               name='ringo')\n",
    "\n"
   ]
  },
  {
   "cell_type": "code",
   "execution_count": 22,
   "id": "9d3a973b",
   "metadata": {},
   "outputs": [
    {
     "data": {
      "text/plain": [
       "0                                        Richard\n",
       "1                                        Starley\n",
       "2                                             13\n",
       "3    <__main__.Foo object at 0x000001DE69386C40>\n",
       "Name: ringo, dtype: object"
      ]
     },
     "execution_count": 22,
     "metadata": {},
     "output_type": "execute_result"
    }
   ],
   "source": [
    "ringo"
   ]
  },
  {
   "cell_type": "code",
   "execution_count": 10,
   "id": "94052a8d",
   "metadata": {},
   "outputs": [
    {
     "data": {
      "text/plain": [
       "ono        2.0\n",
       "clapton    NaN\n",
       "dtype: float64"
      ]
     },
     "execution_count": 10,
     "metadata": {},
     "output_type": "execute_result"
    }
   ],
   "source": [
    "nan_ser=pd.Series([2, None],\n",
    "                 index=['ono', 'clapton'])\n",
    "\n",
    "nan_ser"
   ]
  },
  {
   "cell_type": "code",
   "execution_count": 11,
   "id": "1cb41df7",
   "metadata": {},
   "outputs": [
    {
     "data": {
      "text/plain": [
       "1"
      ]
     },
     "execution_count": 11,
     "metadata": {},
     "output_type": "execute_result"
    }
   ],
   "source": [
    "nan_ser.count()\n"
   ]
  },
  {
   "cell_type": "code",
   "execution_count": 27,
   "id": "41aa586c",
   "metadata": {},
   "outputs": [
    {
     "data": {
      "text/plain": [
       "44"
      ]
     },
     "execution_count": 27,
     "metadata": {},
     "output_type": "execute_result"
    }
   ],
   "source": [
    "numpy_ser=np.array([21, 44, 123])\n",
    "\n",
    "numpy_ser[1]"
   ]
  },
  {
   "cell_type": "code",
   "execution_count": 28,
   "id": "176e1749",
   "metadata": {},
   "outputs": [
    {
     "data": {
      "text/plain": [
       "62.666666666666664"
      ]
     },
     "execution_count": 28,
     "metadata": {},
     "output_type": "execute_result"
    }
   ],
   "source": [
    "numpy_ser.mean()"
   ]
  },
  {
   "cell_type": "code",
   "execution_count": 29,
   "id": "cb306b28",
   "metadata": {},
   "outputs": [
    {
     "data": {
      "text/plain": [
       "188"
      ]
     },
     "execution_count": 29,
     "metadata": {},
     "output_type": "execute_result"
    }
   ],
   "source": [
    "numpy_ser.sum()"
   ]
  },
  {
   "cell_type": "code",
   "execution_count": 30,
   "id": "65ab1fdb",
   "metadata": {},
   "outputs": [
    {
     "data": {
      "text/plain": [
       "123"
      ]
     },
     "execution_count": 30,
     "metadata": {},
     "output_type": "execute_result"
    }
   ],
   "source": [
    "numpy_ser.max()"
   ]
  },
  {
   "cell_type": "code",
   "execution_count": 33,
   "id": "dceb63ed",
   "metadata": {},
   "outputs": [
    {
     "data": {
      "text/plain": [
       "43.683202975768864"
      ]
     },
     "execution_count": 33,
     "metadata": {},
     "output_type": "execute_result"
    }
   ],
   "source": [
    "numpy_ser.std()"
   ]
  },
  {
   "cell_type": "markdown",
   "id": "65315767",
   "metadata": {},
   "source": [
    "# Series CRUD"
   ]
  },
  {
   "cell_type": "code",
   "execution_count": 12,
   "id": "e85b3f85",
   "metadata": {},
   "outputs": [],
   "source": [
    "mySongs=pd.Series([10, 7, 1, 23],\n",
    "                 index=['1992', '1893', '1970', '1970'],\n",
    "                  name='George Songs')\n",
    "\n"
   ]
  },
  {
   "cell_type": "code",
   "execution_count": 38,
   "id": "30b91521",
   "metadata": {},
   "outputs": [
    {
     "data": {
      "text/plain": [
       "1992    10\n",
       "1893     7\n",
       "1970     1\n",
       "1970    23\n",
       "Name: George Songs, dtype: int64"
      ]
     },
     "execution_count": 38,
     "metadata": {},
     "output_type": "execute_result"
    }
   ],
   "source": [
    "mySongs"
   ]
  },
  {
   "cell_type": "code",
   "execution_count": 13,
   "id": "4e32cda9",
   "metadata": {},
   "outputs": [
    {
     "data": {
      "text/plain": [
       "7"
      ]
     },
     "execution_count": 13,
     "metadata": {},
     "output_type": "execute_result"
    }
   ],
   "source": [
    "mySongs[1]"
   ]
  },
  {
   "cell_type": "code",
   "execution_count": 14,
   "id": "49a10c20",
   "metadata": {},
   "outputs": [
    {
     "data": {
      "text/plain": [
       "23"
      ]
     },
     "execution_count": 14,
     "metadata": {},
     "output_type": "execute_result"
    }
   ],
   "source": [
    "mySongs[3]"
   ]
  },
  {
   "cell_type": "code",
   "execution_count": 42,
   "id": "63a5cc9e",
   "metadata": {},
   "outputs": [
    {
     "name": "stdout",
     "output_type": "stream",
     "text": [
      "10\n",
      "7\n",
      "1\n",
      "23\n"
     ]
    }
   ],
   "source": [
    "for item in mySongs:\n",
    "    print(item)"
   ]
  },
  {
   "cell_type": "code",
   "execution_count": 43,
   "id": "b7514d41",
   "metadata": {},
   "outputs": [
    {
     "data": {
      "text/plain": [
       "False"
      ]
     },
     "execution_count": 43,
     "metadata": {},
     "output_type": "execute_result"
    }
   ],
   "source": [
    "34 in set(mySongs)"
   ]
  },
  {
   "cell_type": "code",
   "execution_count": 15,
   "id": "b0d32eef",
   "metadata": {},
   "outputs": [
    {
     "data": {
      "text/plain": [
       "False"
      ]
     },
     "execution_count": 15,
     "metadata": {},
     "output_type": "execute_result"
    }
   ],
   "source": [
    "12 in mySongs.values"
   ]
  },
  {
   "cell_type": "code",
   "execution_count": 45,
   "id": "cf584afd",
   "metadata": {},
   "outputs": [
    {
     "data": {
      "text/plain": [
       "False"
      ]
     },
     "execution_count": 45,
     "metadata": {},
     "output_type": "execute_result"
    }
   ],
   "source": [
    "'2023' in mySongs"
   ]
  },
  {
   "cell_type": "code",
   "execution_count": 16,
   "id": "8012d514",
   "metadata": {},
   "outputs": [
    {
     "name": "stdout",
     "output_type": "stream",
     "text": [
      "('1992', 10)\n",
      "('1893', 7)\n",
      "('1970', 1)\n",
      "('1970', 23)\n"
     ]
    }
   ],
   "source": [
    "for item in mySongs.iteritems():\n",
    "    print(item)"
   ]
  },
  {
   "cell_type": "markdown",
   "id": "eac7ea16",
   "metadata": {},
   "source": [
    "# Updating"
   ]
  },
  {
   "cell_type": "code",
   "execution_count": 17,
   "id": "7bc30c8f",
   "metadata": {},
   "outputs": [],
   "source": [
    "mySongs['1992']=100"
   ]
  },
  {
   "cell_type": "code",
   "execution_count": 18,
   "id": "24638bc6",
   "metadata": {},
   "outputs": [
    {
     "data": {
      "text/plain": [
       "100"
      ]
     },
     "execution_count": 18,
     "metadata": {},
     "output_type": "execute_result"
    }
   ],
   "source": [
    "mySongs['1992']"
   ]
  },
  {
   "cell_type": "code",
   "execution_count": 50,
   "id": "d703e8a2",
   "metadata": {},
   "outputs": [],
   "source": [
    "mySongs['1969']=23"
   ]
  },
  {
   "cell_type": "code",
   "execution_count": 51,
   "id": "d28531d2",
   "metadata": {},
   "outputs": [
    {
     "data": {
      "text/plain": [
       "1992    100\n",
       "1893      7\n",
       "1970      1\n",
       "1970     23\n",
       "1969     23\n",
       "Name: George Songs, dtype: int64"
      ]
     },
     "execution_count": 51,
     "metadata": {},
     "output_type": "execute_result"
    }
   ],
   "source": [
    "mySongs"
   ]
  },
  {
   "cell_type": "code",
   "execution_count": null,
   "id": "671781be",
   "metadata": {},
   "outputs": [],
   "source": []
  },
  {
   "cell_type": "code",
   "execution_count": 19,
   "id": "ba3368b6",
   "metadata": {},
   "outputs": [],
   "source": [
    "mySongs[3]='2000'"
   ]
  },
  {
   "cell_type": "code",
   "execution_count": 53,
   "id": "f77b03a7",
   "metadata": {},
   "outputs": [
    {
     "data": {
      "text/plain": [
       "1992     100\n",
       "1893       7\n",
       "1970       1\n",
       "1970    2000\n",
       "1969      23\n",
       "Name: George Songs, dtype: int64"
      ]
     },
     "execution_count": 53,
     "metadata": {},
     "output_type": "execute_result"
    }
   ],
   "source": [
    "mySongs"
   ]
  },
  {
   "cell_type": "code",
   "execution_count": 54,
   "id": "b939eab4",
   "metadata": {},
   "outputs": [],
   "source": [
    "mySongs['2000']=00"
   ]
  },
  {
   "cell_type": "code",
   "execution_count": 55,
   "id": "84a8ecb7",
   "metadata": {},
   "outputs": [
    {
     "data": {
      "text/plain": [
       "1992     100\n",
       "1893       7\n",
       "1970       1\n",
       "1970    2000\n",
       "1969      23\n",
       "2000       0\n",
       "Name: George Songs, dtype: int64"
      ]
     },
     "execution_count": 55,
     "metadata": {},
     "output_type": "execute_result"
    }
   ],
   "source": [
    "mySongs"
   ]
  },
  {
   "cell_type": "code",
   "execution_count": 20,
   "id": "7bc17c19",
   "metadata": {},
   "outputs": [],
   "source": [
    "mySongs['1970 ']=10"
   ]
  },
  {
   "cell_type": "code",
   "execution_count": 57,
   "id": "4bd898da",
   "metadata": {},
   "outputs": [
    {
     "data": {
      "text/plain": [
       "1992      100\n",
       "1893        7\n",
       "1970        1\n",
       "1970     2000\n",
       "1969       23\n",
       "2000        0\n",
       "1970       10\n",
       "Name: George Songs, dtype: int64"
      ]
     },
     "execution_count": 57,
     "metadata": {},
     "output_type": "execute_result"
    }
   ],
   "source": [
    "mySongs"
   ]
  },
  {
   "cell_type": "code",
   "execution_count": null,
   "id": "962f0e0b",
   "metadata": {},
   "outputs": [],
   "source": []
  },
  {
   "cell_type": "code",
   "execution_count": 21,
   "id": "d17e8781",
   "metadata": {},
   "outputs": [
    {
     "ename": "SyntaxError",
     "evalue": "invalid syntax (<ipython-input-21-eb04e25902c0>, line 1)",
     "output_type": "error",
     "traceback": [
      "\u001b[1;36m  File \u001b[1;32m\"<ipython-input-21-eb04e25902c0>\"\u001b[1;36m, line \u001b[1;32m1\u001b[0m\n\u001b[1;33m    //Use iloc for index location\u001b[0m\n\u001b[1;37m    ^\u001b[0m\n\u001b[1;31mSyntaxError\u001b[0m\u001b[1;31m:\u001b[0m invalid syntax\n"
     ]
    }
   ],
   "source": [
    "\n",
    "//Use iloc for index location \n",
    "mySongs.iloc[3]=15"
   ]
  },
  {
   "cell_type": "code",
   "execution_count": 59,
   "id": "972ae90b",
   "metadata": {},
   "outputs": [
    {
     "data": {
      "text/plain": [
       "1992     100\n",
       "1893       7\n",
       "1970       1\n",
       "1970      15\n",
       "1969      23\n",
       "2000       0\n",
       "1970      10\n",
       "Name: George Songs, dtype: int64"
      ]
     },
     "execution_count": 59,
     "metadata": {},
     "output_type": "execute_result"
    }
   ],
   "source": [
    "mySongs"
   ]
  },
  {
   "cell_type": "code",
   "execution_count": null,
   "id": "decd23a8",
   "metadata": {},
   "outputs": [],
   "source": [
    "# append to a seris"
   ]
  },
  {
   "cell_type": "code",
   "execution_count": 60,
   "id": "2edabd3c",
   "metadata": {},
   "outputs": [
    {
     "data": {
      "text/plain": [
       "1992     100\n",
       "1893       7\n",
       "1970       1\n",
       "1970      15\n",
       "1969      23\n",
       "2000       0\n",
       "1970      10\n",
       "2010      91\n",
       "dtype: int64"
      ]
     },
     "execution_count": 60,
     "metadata": {},
     "output_type": "execute_result"
    }
   ],
   "source": [
    "mySongs.append(pd.Series({'2010':91}))\n"
   ]
  },
  {
   "cell_type": "code",
   "execution_count": null,
   "id": "128a7f9c",
   "metadata": {},
   "outputs": [],
   "source": [
    "#The se_value"
   ]
  },
  {
   "cell_type": "code",
   "execution_count": 22,
   "id": "3075a53c",
   "metadata": {},
   "outputs": [],
   "source": [
    "del mySongs['1992']"
   ]
  },
  {
   "cell_type": "code",
   "execution_count": 64,
   "id": "cdc2ce98",
   "metadata": {},
   "outputs": [
    {
     "data": {
      "text/plain": [
       "1893      7\n",
       "1970      1\n",
       "1970     15\n",
       "1969     23\n",
       "2000      0\n",
       "1970     10\n",
       "Name: George Songs, dtype: int64"
      ]
     },
     "execution_count": 64,
     "metadata": {},
     "output_type": "execute_result"
    }
   ],
   "source": [
    "mySongs"
   ]
  },
  {
   "cell_type": "code",
   "execution_count": 65,
   "id": "3e6b8455",
   "metadata": {},
   "outputs": [
    {
     "data": {
      "text/plain": [
       "1970    1\n",
       "2000    0\n",
       "Name: George Songs, dtype: int64"
      ]
     },
     "execution_count": 65,
     "metadata": {},
     "output_type": "execute_result"
    }
   ],
   "source": [
    "mySongs[mySongs<=3]"
   ]
  },
  {
   "cell_type": "markdown",
   "id": "21571238",
   "metadata": {},
   "source": [
    "# Series Indexing"
   ]
  },
  {
   "cell_type": "code",
   "execution_count": 23,
   "id": "71062129",
   "metadata": {},
   "outputs": [],
   "source": [
    "george=pd.Series([10, 7], \n",
    "                index=['1968', '1969'],\n",
    "                name='mySongs')\n"
   ]
  },
  {
   "cell_type": "code",
   "execution_count": 67,
   "id": "61d7d5bf",
   "metadata": {},
   "outputs": [
    {
     "data": {
      "text/plain": [
       "1968    10\n",
       "1969     7\n",
       "Name: mySongs, dtype: int64"
      ]
     },
     "execution_count": 67,
     "metadata": {},
     "output_type": "execute_result"
    }
   ],
   "source": [
    "george"
   ]
  },
  {
   "cell_type": "code",
   "execution_count": 24,
   "id": "3e8ef78b",
   "metadata": {},
   "outputs": [],
   "source": [
    "dup=pd.Series([10, 2, 7],\n",
    "             index=['1968', '1968', '1969'],\n",
    "             name='mySongs ')\n"
   ]
  },
  {
   "cell_type": "code",
   "execution_count": 69,
   "id": "c98062a9",
   "metadata": {},
   "outputs": [
    {
     "data": {
      "text/plain": [
       "1968    10\n",
       "1968     2\n",
       "1969     7\n",
       "Name: mySongs , dtype: int64"
      ]
     },
     "execution_count": 69,
     "metadata": {},
     "output_type": "execute_result"
    }
   ],
   "source": [
    "dup"
   ]
  },
  {
   "cell_type": "code",
   "execution_count": 25,
   "id": "a1811aaf",
   "metadata": {},
   "outputs": [
    {
     "data": {
      "text/plain": [
       "False"
      ]
     },
     "execution_count": 25,
     "metadata": {},
     "output_type": "execute_result"
    }
   ],
   "source": [
    "dup.index.is_unique"
   ]
  },
  {
   "cell_type": "code",
   "execution_count": 73,
   "id": "8fdf0bf5",
   "metadata": {},
   "outputs": [
    {
     "data": {
      "text/plain": [
       "10"
      ]
     },
     "execution_count": 73,
     "metadata": {},
     "output_type": "execute_result"
    }
   ],
   "source": [
    "george[0]"
   ]
  },
  {
   "cell_type": "code",
   "execution_count": 26,
   "id": "51f0af52",
   "metadata": {},
   "outputs": [
    {
     "data": {
      "text/plain": [
       "1968    10\n",
       "1969     7\n",
       "Name: mySongs, dtype: int64"
      ]
     },
     "execution_count": 26,
     "metadata": {},
     "output_type": "execute_result"
    }
   ],
   "source": [
    "george.iloc[0:3]\n"
   ]
  },
  {
   "cell_type": "code",
   "execution_count": null,
   "id": "840247eb",
   "metadata": {},
   "outputs": [],
   "source": []
  },
  {
   "cell_type": "code",
   "execution_count": 27,
   "id": "4ed9f591",
   "metadata": {},
   "outputs": [
    {
     "data": {
      "text/plain": [
       "10"
      ]
     },
     "execution_count": 27,
     "metadata": {},
     "output_type": "execute_result"
    }
   ],
   "source": [
    "george.loc['1968']"
   ]
  },
  {
   "cell_type": "code",
   "execution_count": 28,
   "id": "e65f3a96",
   "metadata": {},
   "outputs": [
    {
     "data": {
      "text/plain": [
       "10"
      ]
     },
     "execution_count": 28,
     "metadata": {},
     "output_type": "execute_result"
    }
   ],
   "source": [
    "\n",
    "\n",
    "george.iloc[0]"
   ]
  },
  {
   "cell_type": "code",
   "execution_count": 80,
   "id": "0842240a",
   "metadata": {},
   "outputs": [
    {
     "data": {
      "text/plain": [
       "10"
      ]
     },
     "execution_count": 80,
     "metadata": {},
     "output_type": "execute_result"
    }
   ],
   "source": [
    "george.at['1968']"
   ]
  },
  {
   "cell_type": "code",
   "execution_count": 29,
   "id": "4039da5b",
   "metadata": {},
   "outputs": [],
   "source": [
    "george['1962']=12\n"
   ]
  },
  {
   "cell_type": "code",
   "execution_count": 83,
   "id": "99aea0f5",
   "metadata": {},
   "outputs": [],
   "source": [
    "george['1900']=19"
   ]
  },
  {
   "cell_type": "code",
   "execution_count": 84,
   "id": "6d5ff113",
   "metadata": {},
   "outputs": [],
   "source": [
    "george['2011']=76"
   ]
  },
  {
   "cell_type": "code",
   "execution_count": 85,
   "id": "fc6db3e6",
   "metadata": {},
   "outputs": [],
   "source": [
    "george['2019']=67"
   ]
  },
  {
   "cell_type": "code",
   "execution_count": 86,
   "id": "9e990cce",
   "metadata": {},
   "outputs": [
    {
     "data": {
      "text/plain": [
       "1968    10\n",
       "1969     7\n",
       "1962    12\n",
       "1900    19\n",
       "2011    76\n",
       "2019    67\n",
       "Name: mySongs, dtype: int64"
      ]
     },
     "execution_count": 86,
     "metadata": {},
     "output_type": "execute_result"
    }
   ],
   "source": [
    "george"
   ]
  },
  {
   "cell_type": "code",
   "execution_count": 30,
   "id": "213c34c0",
   "metadata": {},
   "outputs": [
    {
     "data": {
      "text/plain": [
       "1968    10\n",
       "1969     7\n",
       "1962    12\n",
       "Name: mySongs, dtype: int64"
      ]
     },
     "execution_count": 30,
     "metadata": {},
     "output_type": "execute_result"
    }
   ],
   "source": [
    "george[0:3]"
   ]
  },
  {
   "cell_type": "code",
   "execution_count": 32,
   "id": "8ddde973",
   "metadata": {},
   "outputs": [],
   "source": [
    "df=george"
   ]
  },
  {
   "cell_type": "code",
   "execution_count": 33,
   "id": "c7c6adde",
   "metadata": {},
   "outputs": [
    {
     "data": {
      "text/plain": [
       "1968    10\n",
       "1969     7\n",
       "1962    12\n",
       "Name: mySongs, dtype: int64"
      ]
     },
     "execution_count": 33,
     "metadata": {},
     "output_type": "execute_result"
    }
   ],
   "source": [
    "df"
   ]
  },
  {
   "cell_type": "code",
   "execution_count": 34,
   "id": "d1982f28",
   "metadata": {},
   "outputs": [
    {
     "data": {
      "text/plain": [
       "1968    10\n",
       "Name: mySongs, dtype: int64"
      ]
     },
     "execution_count": 34,
     "metadata": {},
     "output_type": "execute_result"
    }
   ],
   "source": [
    "df[:-2]"
   ]
  },
  {
   "cell_type": "code",
   "execution_count": null,
   "id": "100733c4",
   "metadata": {},
   "outputs": [],
   "source": []
  },
  {
   "cell_type": "code",
   "execution_count": 35,
   "id": "4707ac7e",
   "metadata": {},
   "outputs": [
    {
     "data": {
      "text/plain": [
       "1968    10\n",
       "1969     7\n",
       "Name: mySongs, dtype: int64"
      ]
     },
     "execution_count": 35,
     "metadata": {},
     "output_type": "execute_result"
    }
   ],
   "source": [
    "df[:-1]"
   ]
  },
  {
   "cell_type": "code",
   "execution_count": 93,
   "id": "5875dcf9",
   "metadata": {},
   "outputs": [],
   "source": [
    "a=df[:]"
   ]
  },
  {
   "cell_type": "code",
   "execution_count": 94,
   "id": "3d3b2318",
   "metadata": {},
   "outputs": [
    {
     "data": {
      "text/plain": [
       "1968    10\n",
       "1969     7\n",
       "1962    12\n",
       "1900    19\n",
       "2011    76\n",
       "2019    67\n",
       "Name: mySongs, dtype: int64"
      ]
     },
     "execution_count": 94,
     "metadata": {},
     "output_type": "execute_result"
    }
   ],
   "source": [
    "a"
   ]
  },
  {
   "cell_type": "code",
   "execution_count": 36,
   "id": "f47f9f63",
   "metadata": {},
   "outputs": [],
   "source": [
    "a=df>4"
   ]
  },
  {
   "cell_type": "code",
   "execution_count": 37,
   "id": "0e34dea8",
   "metadata": {},
   "outputs": [
    {
     "data": {
      "text/plain": [
       "1968    True\n",
       "1969    True\n",
       "1962    True\n",
       "Name: mySongs, dtype: bool"
      ]
     },
     "execution_count": 37,
     "metadata": {},
     "output_type": "execute_result"
    }
   ],
   "source": [
    "a"
   ]
  },
  {
   "cell_type": "code",
   "execution_count": 38,
   "id": "c284384e",
   "metadata": {},
   "outputs": [
    {
     "data": {
      "text/plain": [
       "1968    3\n",
       "1969    3\n",
       "1962    3\n",
       "Name: mySongs, dtype: int32"
      ]
     },
     "execution_count": 38,
     "metadata": {},
     "output_type": "execute_result"
    }
   ],
   "source": [
    "a+2"
   ]
  },
  {
   "cell_type": "code",
   "execution_count": 98,
   "id": "12fb345e",
   "metadata": {},
   "outputs": [
    {
     "data": {
      "text/plain": [
       "1968    12\n",
       "1969     9\n",
       "1962    14\n",
       "1900    21\n",
       "2011    78\n",
       "2019    69\n",
       "Name: mySongs, dtype: int64"
      ]
     },
     "execution_count": 98,
     "metadata": {},
     "output_type": "execute_result"
    }
   ],
   "source": [
    "df+2"
   ]
  },
  {
   "cell_type": "markdown",
   "id": "2343ffde",
   "metadata": {},
   "source": [
    "# Series Methods"
   ]
  },
  {
   "cell_type": "code",
   "execution_count": 39,
   "id": "60fb08fc",
   "metadata": {},
   "outputs": [],
   "source": [
    "songs_66=pd.Series([3, None, 11, 9],\n",
    "                  index=['George', 'Ringo', 'John', 'Paul'],\n",
    "                  name='counts')\n",
    "\n"
   ]
  },
  {
   "cell_type": "code",
   "execution_count": 40,
   "id": "fd34937d",
   "metadata": {},
   "outputs": [
    {
     "name": "stdout",
     "output_type": "stream",
     "text": [
      "3.0\n",
      "nan\n",
      "11.0\n",
      "9.0\n"
     ]
    }
   ],
   "source": [
    "for i in songs_66:\n",
    "    print(i)"
   ]
  },
  {
   "cell_type": "code",
   "execution_count": 41,
   "id": "1bece706",
   "metadata": {},
   "outputs": [
    {
     "name": "stdout",
     "output_type": "stream",
     "text": [
      "George 3.0\n",
      "Ringo nan\n",
      "John 11.0\n",
      "Paul 9.0\n"
     ]
    }
   ],
   "source": [
    "for idx, value in songs_66.iteritems():\n",
    "    print(idx, value)"
   ]
  },
  {
   "cell_type": "code",
   "execution_count": 42,
   "id": "8c4117c8",
   "metadata": {},
   "outputs": [
    {
     "name": "stdout",
     "output_type": "stream",
     "text": [
      "George\n",
      "Ringo\n",
      "John\n",
      "Paul\n"
     ]
    }
   ],
   "source": [
    "for idx in songs_66.keys():\n",
    "    print(idx)"
   ]
  },
  {
   "cell_type": "code",
   "execution_count": 103,
   "id": "d0f448be",
   "metadata": {},
   "outputs": [
    {
     "data": {
      "text/plain": [
       "[1, 3, 4, 1, 3, 4]"
      ]
     },
     "execution_count": 103,
     "metadata": {},
     "output_type": "execute_result"
    }
   ],
   "source": [
    "[1, 3, 4]*2"
   ]
  },
  {
   "cell_type": "code",
   "execution_count": 43,
   "id": "466cda68",
   "metadata": {},
   "outputs": [
    {
     "data": {
      "text/plain": [
       "<bound method Series.count of George     3.0\n",
       "Ringo      NaN\n",
       "John      11.0\n",
       "Paul       9.0\n",
       "Name: counts, dtype: float64>"
      ]
     },
     "execution_count": 43,
     "metadata": {},
     "output_type": "execute_result"
    }
   ],
   "source": [
    "songs_66.count"
   ]
  },
  {
   "cell_type": "code",
   "execution_count": 44,
   "id": "f0011230",
   "metadata": {},
   "outputs": [],
   "source": [
    "ser=pd.Series([1, 2, 3, 4],\n",
    "             index=['normal', 'median', 'class','index'])\n"
   ]
  },
  {
   "cell_type": "code",
   "execution_count": 45,
   "id": "d0e909ca",
   "metadata": {},
   "outputs": [],
   "source": [
    "ser.normal=4"
   ]
  },
  {
   "cell_type": "code",
   "execution_count": 46,
   "id": "3c086883",
   "metadata": {},
   "outputs": [],
   "source": [
    "import keyword as kw"
   ]
  },
  {
   "cell_type": "code",
   "execution_count": 47,
   "id": "e75b95f7",
   "metadata": {},
   "outputs": [],
   "source": [
    "df=kw"
   ]
  },
  {
   "cell_type": "code",
   "execution_count": 48,
   "id": "ae3219d2",
   "metadata": {},
   "outputs": [
    {
     "name": "stdout",
     "output_type": "stream",
     "text": [
      "['False', 'None', 'True', 'and', 'as', 'assert', 'async', 'await', 'break', 'class', 'continue', 'def', 'del', 'elif', 'else', 'except', 'finally', 'for', 'from', 'global', 'if', 'import', 'in', 'is', 'lambda', 'nonlocal', 'not', 'or', 'pass', 'raise', 'return', 'try', 'while', 'with', 'yield']\n"
     ]
    }
   ],
   "source": [
    "print(df.kwlist)"
   ]
  },
  {
   "cell_type": "code",
   "execution_count": 49,
   "id": "4cde2c28",
   "metadata": {},
   "outputs": [
    {
     "data": {
      "text/plain": [
       "Billy     NaN\n",
       "Eric      NaN\n",
       "George    3.0\n",
       "Yorko     NaN\n",
       "Name: counts, dtype: float64"
      ]
     },
     "execution_count": 49,
     "metadata": {},
     "output_type": "execute_result"
    }
   ],
   "source": [
    "songs_66.reindex(['Billy', 'Eric', 'George', 'Yorko'])\n"
   ]
  },
  {
   "cell_type": "code",
   "execution_count": 121,
   "id": "5a2265bd",
   "metadata": {},
   "outputs": [
    {
     "data": {
      "text/plain": [
       "George      3.0\n",
       "Richard     NaN\n",
       "John       11.0\n",
       "Paul        9.0\n",
       "Name: counts, dtype: float64"
      ]
     },
     "execution_count": 121,
     "metadata": {},
     "output_type": "execute_result"
    }
   ],
   "source": [
    "songs_66.rename({'Ringo':'Richard'})\n"
   ]
  },
  {
   "cell_type": "code",
   "execution_count": 50,
   "id": "f582ecc7",
   "metadata": {},
   "outputs": [
    {
     "data": {
      "text/plain": [
       "george     3.0\n",
       "ringo      NaN\n",
       "john      11.0\n",
       "paul       9.0\n",
       "Name: counts, dtype: float64"
      ]
     },
     "execution_count": 50,
     "metadata": {},
     "output_type": "execute_result"
    }
   ],
   "source": [
    "songs_66.rename(lambda x:x.lower())"
   ]
  },
  {
   "cell_type": "code",
   "execution_count": 123,
   "id": "a636c183",
   "metadata": {},
   "outputs": [],
   "source": [
    "idx=songs_66.index"
   ]
  },
  {
   "cell_type": "code",
   "execution_count": 124,
   "id": "481170a1",
   "metadata": {},
   "outputs": [
    {
     "data": {
      "text/plain": [
       "Index(['George', 'Ringo', 'John', 'Paul'], dtype='object')"
      ]
     },
     "execution_count": 124,
     "metadata": {},
     "output_type": "execute_result"
    }
   ],
   "source": [
    "idx"
   ]
  },
  {
   "cell_type": "code",
   "execution_count": 125,
   "id": "40c3f97d",
   "metadata": {},
   "outputs": [
    {
     "data": {
      "text/plain": [
       "3"
      ]
     },
     "execution_count": 125,
     "metadata": {},
     "output_type": "execute_result"
    }
   ],
   "source": [
    "songs_66.count()"
   ]
  },
  {
   "cell_type": "code",
   "execution_count": 51,
   "id": "b95c34d2",
   "metadata": {},
   "outputs": [
    {
     "data": {
      "text/plain": [
       "George    False\n",
       "Ringo     False\n",
       "John      False\n",
       "Paul      False\n",
       "Name: counts, dtype: bool"
      ]
     },
     "execution_count": 51,
     "metadata": {},
     "output_type": "execute_result"
    }
   ],
   "source": [
    "songs_66.duplicated()"
   ]
  },
  {
   "cell_type": "code",
   "execution_count": 53,
   "id": "f53ecc76",
   "metadata": {},
   "outputs": [],
   "source": [
    "songs=pd.Series([12.3, 4.4, 93.4, None, 12, 33],\n",
    "               index=['Ringo', 'Paul', 'George', 'Peter', 'Billy', 'Paul'])\n",
    "\n"
   ]
  },
  {
   "cell_type": "code",
   "execution_count": 129,
   "id": "aac661d9",
   "metadata": {},
   "outputs": [
    {
     "data": {
      "text/plain": [
       "Billy     12.0\n",
       "George    93.4\n",
       "Paul       4.4\n",
       "Peter      NaN\n",
       "Ringo     12.3\n",
       "dtype: float64"
      ]
     },
     "execution_count": 129,
     "metadata": {},
     "output_type": "execute_result"
    }
   ],
   "source": [
    "songs.groupby(songs.index).first()"
   ]
  },
  {
   "cell_type": "code",
   "execution_count": 54,
   "id": "0cdb4e92",
   "metadata": {},
   "outputs": [
    {
     "data": {
      "text/plain": [
       "Billy     12.0\n",
       "George    93.4\n",
       "Paul      33.0\n",
       "Peter      NaN\n",
       "Ringo     12.3\n",
       "dtype: float64"
      ]
     },
     "execution_count": 54,
     "metadata": {},
     "output_type": "execute_result"
    }
   ],
   "source": [
    "songs.groupby(songs.index).last()"
   ]
  },
  {
   "cell_type": "code",
   "execution_count": 55,
   "id": "999f7986",
   "metadata": {},
   "outputs": [
    {
     "data": {
      "text/plain": [
       "155.10000000000002"
      ]
     },
     "execution_count": 55,
     "metadata": {},
     "output_type": "execute_result"
    }
   ],
   "source": [
    "songs.sum()"
   ]
  },
  {
   "cell_type": "code",
   "execution_count": 132,
   "id": "2fca4e97",
   "metadata": {},
   "outputs": [
    {
     "data": {
      "text/plain": [
       "nan"
      ]
     },
     "execution_count": 132,
     "metadata": {},
     "output_type": "execute_result"
    }
   ],
   "source": [
    "songs.sum(skipna=False)"
   ]
  },
  {
   "cell_type": "code",
   "execution_count": 56,
   "id": "f1c6218d",
   "metadata": {},
   "outputs": [
    {
     "data": {
      "text/plain": [
       "31.020000000000003"
      ]
     },
     "execution_count": 56,
     "metadata": {},
     "output_type": "execute_result"
    }
   ],
   "source": [
    "songs.mean()"
   ]
  },
  {
   "cell_type": "code",
   "execution_count": 57,
   "id": "dafcbf90",
   "metadata": {},
   "outputs": [
    {
     "data": {
      "text/plain": [
       "12.3"
      ]
     },
     "execution_count": 57,
     "metadata": {},
     "output_type": "execute_result"
    }
   ],
   "source": [
    "songs.quantile()"
   ]
  },
  {
   "cell_type": "code",
   "execution_count": 58,
   "id": "a3040bfc",
   "metadata": {},
   "outputs": [
    {
     "data": {
      "text/plain": [
       "count     5.00000\n",
       "mean     31.02000\n",
       "std      36.45548\n",
       "min       4.40000\n",
       "25%      12.00000\n",
       "50%      12.30000\n",
       "75%      33.00000\n",
       "max      93.40000\n",
       "dtype: float64"
      ]
     },
     "execution_count": 58,
     "metadata": {},
     "output_type": "execute_result"
    }
   ],
   "source": [
    "songs.describe()"
   ]
  },
  {
   "cell_type": "code",
   "execution_count": 59,
   "id": "ff90432e",
   "metadata": {},
   "outputs": [
    {
     "data": {
      "text/plain": [
       "count     5.00000\n",
       "mean     31.02000\n",
       "std      36.45548\n",
       "min       4.40000\n",
       "5%        5.92000\n",
       "10%       7.44000\n",
       "20%      10.48000\n",
       "50%      12.30000\n",
       "max      93.40000\n",
       "dtype: float64"
      ]
     },
     "execution_count": 59,
     "metadata": {},
     "output_type": "execute_result"
    }
   ],
   "source": [
    "songs.describe(percentiles=[.05, .1, .2])\n"
   ]
  },
  {
   "cell_type": "code",
   "execution_count": null,
   "id": "0b1ca6cc",
   "metadata": {},
   "outputs": [],
   "source": []
  },
  {
   "cell_type": "code",
   "execution_count": 60,
   "id": "09fafc89",
   "metadata": {},
   "outputs": [
    {
     "data": {
      "text/plain": [
       "4.4"
      ]
     },
     "execution_count": 60,
     "metadata": {},
     "output_type": "execute_result"
    }
   ],
   "source": [
    "songs.min()"
   ]
  },
  {
   "cell_type": "code",
   "execution_count": 61,
   "id": "90c81133",
   "metadata": {},
   "outputs": [
    {
     "data": {
      "text/plain": [
       "'Paul'"
      ]
     },
     "execution_count": 61,
     "metadata": {},
     "output_type": "execute_result"
    }
   ],
   "source": [
    "songs.idxmin()"
   ]
  },
  {
   "cell_type": "code",
   "execution_count": 62,
   "id": "ee3543d0",
   "metadata": {},
   "outputs": [
    {
     "data": {
      "text/plain": [
       "'George'"
      ]
     },
     "execution_count": 62,
     "metadata": {},
     "output_type": "execute_result"
    }
   ],
   "source": [
    "songs.idxmax()"
   ]
  },
  {
   "cell_type": "code",
   "execution_count": 141,
   "id": "ce408307",
   "metadata": {},
   "outputs": [
    {
     "data": {
      "text/plain": [
       "1329.0020000000002"
      ]
     },
     "execution_count": 141,
     "metadata": {},
     "output_type": "execute_result"
    }
   ],
   "source": [
    "songs.var()"
   ]
  },
  {
   "cell_type": "code",
   "execution_count": 63,
   "id": "fec10bec",
   "metadata": {},
   "outputs": [
    {
     "data": {
      "text/plain": [
       "36.455479697845156"
      ]
     },
     "execution_count": 63,
     "metadata": {},
     "output_type": "execute_result"
    }
   ],
   "source": [
    "songs.std()"
   ]
  },
  {
   "cell_type": "code",
   "execution_count": 143,
   "id": "bf77c026",
   "metadata": {},
   "outputs": [
    {
     "data": {
      "text/plain": [
       "25.744"
      ]
     },
     "execution_count": 143,
     "metadata": {},
     "output_type": "execute_result"
    }
   ],
   "source": [
    "songs.mad()"
   ]
  },
  {
   "cell_type": "code",
   "execution_count": 64,
   "id": "dfc78744",
   "metadata": {},
   "outputs": [],
   "source": [
    "import matplotlib.pyplot as plt"
   ]
  },
  {
   "cell_type": "code",
   "execution_count": 146,
   "id": "79c00c04",
   "metadata": {},
   "outputs": [
    {
     "data": {
      "image/png": "[encoded data removed]",
      "text/plain": [
       "<Figure size 432x288 with 1 Axes>"
      ]
     },
     "metadata": {
      "needs_background": "light"
     },
     "output_type": "display_data"
    }
   ],
   "source": [
    "fig=plt.figure()\n",
    "ax=fig.add_subplot(111)\n",
    "songs.hist(ax=ax)\n",
    "fig.savefig('sumaila.png')"
   ]
  },
  {
   "cell_type": "code",
   "execution_count": 147,
   "id": "8bf3966b",
   "metadata": {},
   "outputs": [
    {
     "data": {
      "text/plain": [
       "1.8097948658581469"
      ]
     },
     "execution_count": 147,
     "metadata": {},
     "output_type": "execute_result"
    }
   ],
   "source": [
    "songs.skew()"
   ]
  },
  {
   "cell_type": "code",
   "execution_count": 65,
   "id": "8435498d",
   "metadata": {},
   "outputs": [
    {
     "data": {
      "text/plain": [
       "3.251106411143958"
      ]
     },
     "execution_count": 65,
     "metadata": {},
     "output_type": "execute_result"
    }
   ],
   "source": [
    "#Kurtosis is a summary measure that describes how narrow the “peak” of\n",
    "#is distribution is\n",
    "\n",
    "songs.kurt()"
   ]
  },
  {
   "cell_type": "code",
   "execution_count": 66,
   "id": "9cd84da2",
   "metadata": {},
   "outputs": [
    {
     "data": {
      "text/plain": [
       "1329.0020000000002"
      ]
     },
     "execution_count": 66,
     "metadata": {},
     "output_type": "execute_result"
    }
   ],
   "source": [
    "#Covariance is a measure of how two variables change together\n",
    "\n",
    "songs.cov(songs)"
   ]
  },
  {
   "cell_type": "code",
   "execution_count": 67,
   "id": "f8362a0a",
   "metadata": {},
   "outputs": [
    {
     "data": {
      "text/plain": [
       "Ringo     12.3\n",
       "Paul       4.4\n",
       "George    93.4\n",
       "Peter      NaN\n",
       "Billy     12.0\n",
       "Paul      33.0\n",
       "dtype: float64"
      ]
     },
     "execution_count": 67,
     "metadata": {},
     "output_type": "execute_result"
    }
   ],
   "source": [
    "songs"
   ]
  },
  {
   "cell_type": "code",
   "execution_count": 151,
   "id": "e66f040a",
   "metadata": {},
   "outputs": [
    {
     "data": {
      "text/plain": [
       "0.9999999999999998"
      ]
     },
     "execution_count": 151,
     "metadata": {},
     "output_type": "execute_result"
    }
   ],
   "source": [
    "songs.corr(songs)"
   ]
  },
  {
   "cell_type": "code",
   "execution_count": 152,
   "id": "269f1702",
   "metadata": {},
   "outputs": [
    {
     "data": {
      "text/plain": [
       "-0.9591957934926446"
      ]
     },
     "execution_count": 152,
     "metadata": {},
     "output_type": "execute_result"
    }
   ],
   "source": [
    "songs.autocorr()"
   ]
  },
  {
   "cell_type": "code",
   "execution_count": 153,
   "id": "ed659298",
   "metadata": {},
   "outputs": [
    {
     "data": {
      "text/plain": [
       "Ringo      NaN\n",
       "Paul      -7.9\n",
       "George    89.0\n",
       "Peter      NaN\n",
       "Billy      NaN\n",
       "Paul      21.0\n",
       "dtype: float64"
      ]
     },
     "execution_count": 153,
     "metadata": {},
     "output_type": "execute_result"
    }
   ],
   "source": [
    "songs.diff()"
   ]
  },
  {
   "cell_type": "code",
   "execution_count": 68,
   "id": "ecf2b79a",
   "metadata": {},
   "outputs": [
    {
     "data": {
      "text/plain": [
       "Ringo     12.0\n",
       "Paul       4.0\n",
       "George    93.0\n",
       "Peter      NaN\n",
       "Billy     12.0\n",
       "Paul      33.0\n",
       "dtype: float64"
      ]
     },
     "execution_count": 68,
     "metadata": {},
     "output_type": "execute_result"
    }
   ],
   "source": [
    "songs.round()"
   ]
  },
  {
   "cell_type": "code",
   "execution_count": 155,
   "id": "a2d021f8",
   "metadata": {},
   "outputs": [
    {
     "data": {
      "text/plain": [
       "Ringo     13.0\n",
       "Paul      13.0\n",
       "George    93.4\n",
       "Peter      NaN\n",
       "Billy     13.0\n",
       "Paul      33.0\n",
       "dtype: float64"
      ]
     },
     "execution_count": 155,
     "metadata": {},
     "output_type": "execute_result"
    }
   ],
   "source": [
    "songs.clip(lower=13, upper=100)"
   ]
  },
  {
   "cell_type": "code",
   "execution_count": 156,
   "id": "56119358",
   "metadata": {},
   "outputs": [
    {
     "data": {
      "text/plain": [
       "Ringo     12.3\n",
       "Paul       4.4\n",
       "George    93.4\n",
       "Peter      nan\n",
       "Billy     12.0\n",
       "Paul      33.0\n",
       "dtype: object"
      ]
     },
     "execution_count": 156,
     "metadata": {},
     "output_type": "execute_result"
    }
   ],
   "source": [
    "songs.astype(str)"
   ]
  },
  {
   "cell_type": "code",
   "execution_count": 157,
   "id": "bb96fd5c",
   "metadata": {},
   "outputs": [
    {
     "data": {
      "text/plain": [
       "93.4"
      ]
     },
     "execution_count": 157,
     "metadata": {},
     "output_type": "execute_result"
    }
   ],
   "source": [
    "songs.max()"
   ]
  },
  {
   "cell_type": "code",
   "execution_count": 158,
   "id": "5b5561fd",
   "metadata": {},
   "outputs": [
    {
     "data": {
      "text/plain": [
       "'nan'"
      ]
     },
     "execution_count": 158,
     "metadata": {},
     "output_type": "execute_result"
    }
   ],
   "source": [
    "songs.astype(str).max()"
   ]
  },
  {
   "cell_type": "code",
   "execution_count": 159,
   "id": "8dfdbe03",
   "metadata": {},
   "outputs": [
    {
     "data": {
      "text/plain": [
       "Ringo     12.3\n",
       "Paul       4.4\n",
       "George    93.4\n",
       "Peter      NaN\n",
       "Billy     12.0\n",
       "Paul      33.0\n",
       "dtype: float64"
      ]
     },
     "execution_count": 159,
     "metadata": {},
     "output_type": "execute_result"
    }
   ],
   "source": [
    "songs\n"
   ]
  },
  {
   "cell_type": "code",
   "execution_count": 160,
   "id": "0c4c999c",
   "metadata": {},
   "outputs": [
    {
     "data": {
      "text/plain": [
       "Ringo     12.3\n",
       "Paul       4.4\n",
       "George    93.4\n",
       "Peter     -1.0\n",
       "Billy     12.0\n",
       "Paul      33.0\n",
       "dtype: float64"
      ]
     },
     "execution_count": 160,
     "metadata": {},
     "output_type": "execute_result"
    }
   ],
   "source": [
    "songs.fillna(-1)"
   ]
  },
  {
   "cell_type": "code",
   "execution_count": 161,
   "id": "a8e7e563",
   "metadata": {},
   "outputs": [
    {
     "data": {
      "text/plain": [
       "Ringo     12.3\n",
       "Paul       4.4\n",
       "George    93.4\n",
       "Peter      NaN\n",
       "Billy     12.0\n",
       "Paul      33.0\n",
       "dtype: float64"
      ]
     },
     "execution_count": 161,
     "metadata": {},
     "output_type": "execute_result"
    }
   ],
   "source": [
    "songs"
   ]
  },
  {
   "cell_type": "code",
   "execution_count": 162,
   "id": "2f64b40b",
   "metadata": {},
   "outputs": [
    {
     "data": {
      "text/plain": [
       "Ringo     12.3\n",
       "Paul       4.4\n",
       "George    93.4\n",
       "Billy     12.0\n",
       "Paul      33.0\n",
       "dtype: float64"
      ]
     },
     "execution_count": 162,
     "metadata": {},
     "output_type": "execute_result"
    }
   ],
   "source": [
    "songs.dropna()"
   ]
  },
  {
   "cell_type": "code",
   "execution_count": 163,
   "id": "20783308",
   "metadata": {},
   "outputs": [
    {
     "data": {
      "text/plain": [
       "Ringo     12.3\n",
       "Paul       4.4\n",
       "George    93.4\n",
       "Peter      NaN\n",
       "Billy     12.0\n",
       "Paul      33.0\n",
       "dtype: float64"
      ]
     },
     "execution_count": 163,
     "metadata": {},
     "output_type": "execute_result"
    }
   ],
   "source": [
    "songs"
   ]
  },
  {
   "cell_type": "code",
   "execution_count": 165,
   "id": "963c951d",
   "metadata": {},
   "outputs": [],
   "source": [
    "val_mask=songs.notnull()"
   ]
  },
  {
   "cell_type": "code",
   "execution_count": 166,
   "id": "876c77cd",
   "metadata": {},
   "outputs": [
    {
     "data": {
      "text/plain": [
       "Ringo      True\n",
       "Paul       True\n",
       "George     True\n",
       "Peter     False\n",
       "Billy      True\n",
       "Paul       True\n",
       "dtype: bool"
      ]
     },
     "execution_count": 166,
     "metadata": {},
     "output_type": "execute_result"
    }
   ],
   "source": [
    "val_mask"
   ]
  },
  {
   "cell_type": "code",
   "execution_count": 167,
   "id": "9ec63f97",
   "metadata": {},
   "outputs": [
    {
     "data": {
      "text/plain": [
       "Ringo     12.3\n",
       "Paul       4.4\n",
       "George    93.4\n",
       "Peter      NaN\n",
       "Billy     12.0\n",
       "Paul      33.0\n",
       "dtype: float64"
      ]
     },
     "execution_count": 167,
     "metadata": {},
     "output_type": "execute_result"
    }
   ],
   "source": [
    "songs"
   ]
  },
  {
   "cell_type": "code",
   "execution_count": 168,
   "id": "6c1918cd",
   "metadata": {},
   "outputs": [
    {
     "data": {
      "text/plain": [
       "Ringo      True\n",
       "Paul       True\n",
       "George     True\n",
       "Peter     False\n",
       "Billy      True\n",
       "Paul       True\n",
       "dtype: bool"
      ]
     },
     "execution_count": 168,
     "metadata": {},
     "output_type": "execute_result"
    }
   ],
   "source": [
    "val_mask\n",
    "\n"
   ]
  },
  {
   "cell_type": "code",
   "execution_count": null,
   "id": "4bdcccfe",
   "metadata": {},
   "outputs": [],
   "source": []
  },
  {
   "cell_type": "code",
   "execution_count": 169,
   "id": "c70135c7",
   "metadata": {},
   "outputs": [],
   "source": [
    "nan_mask=songs.isnull()"
   ]
  },
  {
   "cell_type": "code",
   "execution_count": 170,
   "id": "7c91cc80",
   "metadata": {},
   "outputs": [
    {
     "data": {
      "text/plain": [
       "Ringo     False\n",
       "Paul      False\n",
       "George    False\n",
       "Peter      True\n",
       "Billy     False\n",
       "Paul      False\n",
       "dtype: bool"
      ]
     },
     "execution_count": 170,
     "metadata": {},
     "output_type": "execute_result"
    }
   ],
   "source": [
    "nan_mask"
   ]
  },
  {
   "cell_type": "code",
   "execution_count": 171,
   "id": "a6787216",
   "metadata": {},
   "outputs": [
    {
     "data": {
      "text/plain": [
       "Ringo      True\n",
       "Paul       True\n",
       "George     True\n",
       "Peter     False\n",
       "Billy      True\n",
       "Paul       True\n",
       "dtype: bool"
      ]
     },
     "execution_count": 171,
     "metadata": {},
     "output_type": "execute_result"
    }
   ],
   "source": [
    "~nan_mask"
   ]
  },
  {
   "cell_type": "code",
   "execution_count": 173,
   "id": "c60e63af",
   "metadata": {},
   "outputs": [
    {
     "data": {
      "text/plain": [
       "'Ringo'"
      ]
     },
     "execution_count": 173,
     "metadata": {},
     "output_type": "execute_result"
    }
   ],
   "source": [
    "songs.first_valid_index()"
   ]
  },
  {
   "cell_type": "code",
   "execution_count": 174,
   "id": "c5463bda",
   "metadata": {},
   "outputs": [
    {
     "data": {
      "text/plain": [
       "nan"
      ]
     },
     "execution_count": 174,
     "metadata": {},
     "output_type": "execute_result"
    }
   ],
   "source": [
    "songs.dot(songs)"
   ]
  },
  {
   "cell_type": "markdown",
   "id": "25c93c99",
   "metadata": {},
   "source": [
    "# Matrix Operations"
   ]
  },
  {
   "cell_type": "code",
   "execution_count": 176,
   "id": "9b8f4097",
   "metadata": {},
   "outputs": [
    {
     "data": {
      "text/plain": [
       "10127.210000000001"
      ]
     },
     "execution_count": 176,
     "metadata": {},
     "output_type": "execute_result"
    }
   ],
   "source": [
    "songs.dropna().dot(songs.dropna())"
   ]
  },
  {
   "cell_type": "code",
   "execution_count": 177,
   "id": "f49ceed5",
   "metadata": {},
   "outputs": [
    {
     "data": {
      "text/plain": [
       "Ringo      151.29\n",
       "Paul        19.36\n",
       "George    8723.56\n",
       "Billy      144.00\n",
       "Paul      1089.00\n",
       "dtype: float64"
      ]
     },
     "execution_count": 177,
     "metadata": {},
     "output_type": "execute_result"
    }
   ],
   "source": [
    "songs.dropna().mul(songs.dropna())"
   ]
  },
  {
   "cell_type": "code",
   "execution_count": 178,
   "id": "aae33507",
   "metadata": {},
   "outputs": [
    {
     "data": {
      "text/plain": [
       "Ringo     0.0\n",
       "Paul      0.0\n",
       "George    0.0\n",
       "Billy     0.0\n",
       "Paul      0.0\n",
       "dtype: float64"
      ]
     },
     "execution_count": 178,
     "metadata": {},
     "output_type": "execute_result"
    }
   ],
   "source": [
    "songs.dropna().sub(songs.dropna())"
   ]
  },
  {
   "cell_type": "code",
   "execution_count": 180,
   "id": "a8655700",
   "metadata": {},
   "outputs": [
    {
     "data": {
      "text/plain": [
       "Ringo      24.6\n",
       "Paul        8.8\n",
       "George    186.8\n",
       "Billy      24.0\n",
       "Paul       66.0\n",
       "dtype: float64"
      ]
     },
     "execution_count": 180,
     "metadata": {},
     "output_type": "execute_result"
    }
   ],
   "source": [
    "songs.dropna().add(songs.dropna())"
   ]
  },
  {
   "cell_type": "markdown",
   "id": "d141e711",
   "metadata": {},
   "source": [
    "# Transpose"
   ]
  },
  {
   "cell_type": "code",
   "execution_count": 182,
   "id": "3d2746a9",
   "metadata": {},
   "outputs": [
    {
     "data": {
      "text/plain": [
       "Ringo     12.3\n",
       "Paul       4.4\n",
       "George    93.4\n",
       "Peter      NaN\n",
       "Billy     12.0\n",
       "Paul      33.0\n",
       "dtype: float64"
      ]
     },
     "execution_count": 182,
     "metadata": {},
     "output_type": "execute_result"
    }
   ],
   "source": [
    "songs.T"
   ]
  },
  {
   "cell_type": "code",
   "execution_count": 183,
   "id": "a177b3ba",
   "metadata": {},
   "outputs": [
    {
     "data": {
      "text/plain": [
       "Ringo     12.3\n",
       "Paul       4.4\n",
       "George    93.4\n",
       "Peter      NaN\n",
       "Billy     12.0\n",
       "Paul      33.0\n",
       "dtype: float64"
      ]
     },
     "execution_count": 183,
     "metadata": {},
     "output_type": "execute_result"
    }
   ],
   "source": [
    "songs.transpose()"
   ]
  },
  {
   "cell_type": "markdown",
   "id": "8c64f447",
   "metadata": {},
   "source": [
    "# Append, combining, and joining two series"
   ]
  },
  {
   "cell_type": "code",
   "execution_count": 69,
   "id": "7943da10",
   "metadata": {},
   "outputs": [
    {
     "data": {
      "text/plain": [
       "Ringo     12.3\n",
       "Paul       4.4\n",
       "George    93.4\n",
       "Peter      NaN\n",
       "Billy     12.0\n",
       "Paul      33.0\n",
       "Ringo     12.3\n",
       "Paul       4.4\n",
       "George    93.4\n",
       "Peter      NaN\n",
       "Billy     12.0\n",
       "Paul      33.0\n",
       "dtype: float64"
      ]
     },
     "execution_count": 69,
     "metadata": {},
     "output_type": "execute_result"
    }
   ],
   "source": [
    "songs.append(songs)"
   ]
  },
  {
   "cell_type": "code",
   "execution_count": null,
   "id": "0bc8aca9",
   "metadata": {},
   "outputs": [],
   "source": [
    "\n",
    "# verify_integrity=True prevents duplicated values\n",
    "songs.append(songs, verify_integrity=True)"
   ]
  },
  {
   "cell_type": "code",
   "execution_count": 187,
   "id": "53104cdb",
   "metadata": {},
   "outputs": [],
   "source": [
    "df=songs.update(songs)"
   ]
  },
  {
   "cell_type": "code",
   "execution_count": 192,
   "id": "94e7496e",
   "metadata": {},
   "outputs": [
    {
     "name": "stdout",
     "output_type": "stream",
     "text": [
      "None\n"
     ]
    }
   ],
   "source": [
    "print(df)"
   ]
  },
  {
   "cell_type": "code",
   "execution_count": 193,
   "id": "408e042a",
   "metadata": {},
   "outputs": [
    {
     "data": {
      "text/plain": [
       "Ringo     12.3\n",
       "Paul       4.4\n",
       "George    93.4\n",
       "Peter      NaN\n",
       "Billy     12.0\n",
       "Paul      33.0\n",
       "dtype: float64"
      ]
     },
     "execution_count": 193,
     "metadata": {},
     "output_type": "execute_result"
    }
   ],
   "source": [
    "songs"
   ]
  },
  {
   "cell_type": "code",
   "execution_count": 194,
   "id": "03dfd765",
   "metadata": {},
   "outputs": [
    {
     "data": {
      "text/plain": [
       "Ringo     12.3\n",
       "Ringo     12.3\n",
       "Paul       4.4\n",
       "Paul       4.4\n",
       "George    93.4\n",
       "George    93.4\n",
       "Peter      NaN\n",
       "Peter      NaN\n",
       "Billy     12.0\n",
       "Billy     12.0\n",
       "Paul      33.0\n",
       "Paul      33.0\n",
       "dtype: float64"
      ]
     },
     "execution_count": 194,
     "metadata": {},
     "output_type": "execute_result"
    }
   ],
   "source": [
    "songs.repeat(2)"
   ]
  },
  {
   "cell_type": "code",
   "execution_count": 197,
   "id": "8559f95c",
   "metadata": {},
   "outputs": [],
   "source": [
    "origional=songs.copy()"
   ]
  },
  {
   "cell_type": "code",
   "execution_count": 198,
   "id": "faf43055",
   "metadata": {},
   "outputs": [
    {
     "data": {
      "text/plain": [
       "Ringo     12.3\n",
       "Paul       4.4\n",
       "George    93.4\n",
       "Peter      NaN\n",
       "Billy     12.0\n",
       "Paul      33.0\n",
       "dtype: float64"
      ]
     },
     "execution_count": 198,
     "metadata": {},
     "output_type": "execute_result"
    }
   ],
   "source": [
    "origional"
   ]
  },
  {
   "cell_type": "code",
   "execution_count": 200,
   "id": "104c083b",
   "metadata": {},
   "outputs": [
    {
     "data": {
      "text/plain": [
       "Paul       4.4\n",
       "Billy     12.0\n",
       "Ringo     12.3\n",
       "Paul      33.0\n",
       "George    93.4\n",
       "Peter      NaN\n",
       "dtype: float64"
      ]
     },
     "execution_count": 200,
     "metadata": {},
     "output_type": "execute_result"
    }
   ],
   "source": [
    "songs.sort_values()"
   ]
  },
  {
   "cell_type": "code",
   "execution_count": null,
   "id": "4c9f474b",
   "metadata": {},
   "outputs": [],
   "source": []
  },
  {
   "cell_type": "code",
   "execution_count": null,
   "id": "2d67d02e",
   "metadata": {},
   "outputs": [],
   "source": []
  },
  {
   "cell_type": "code",
   "execution_count": 201,
   "id": "6834f78b",
   "metadata": {},
   "outputs": [],
   "source": [
    "s=pd.Series([2, 2, 2], index=['a2', 'a1', 'a3'])\n"
   ]
  },
  {
   "cell_type": "code",
   "execution_count": 202,
   "id": "be141a27",
   "metadata": {},
   "outputs": [
    {
     "data": {
      "text/plain": [
       "a2    2\n",
       "a1    2\n",
       "a3    2\n",
       "dtype: int64"
      ]
     },
     "execution_count": 202,
     "metadata": {},
     "output_type": "execute_result"
    }
   ],
   "source": [
    "s.sort_values(kind='mergesort')"
   ]
  },
  {
   "cell_type": "code",
   "execution_count": 203,
   "id": "c96830c0",
   "metadata": {},
   "outputs": [
    {
     "data": {
      "text/plain": [
       "a1    2\n",
       "a3    2\n",
       "a2    2\n",
       "dtype: int64"
      ]
     },
     "execution_count": 203,
     "metadata": {},
     "output_type": "execute_result"
    }
   ],
   "source": [
    "s.sort_values(kind='heapsort')"
   ]
  },
  {
   "cell_type": "code",
   "execution_count": 204,
   "id": "912b6516",
   "metadata": {},
   "outputs": [
    {
     "data": {
      "text/plain": [
       "George    93.4\n",
       "Paul      33.0\n",
       "Ringo     12.3\n",
       "Billy     12.0\n",
       "Paul       4.4\n",
       "Peter      NaN\n",
       "dtype: float64"
      ]
     },
     "execution_count": 204,
     "metadata": {},
     "output_type": "execute_result"
    }
   ],
   "source": [
    "songs.sort_values(ascending=False)"
   ]
  },
  {
   "cell_type": "code",
   "execution_count": 205,
   "id": "c8411cf0",
   "metadata": {},
   "outputs": [
    {
     "data": {
      "text/plain": [
       "Billy     12.0\n",
       "George    93.4\n",
       "Paul       4.4\n",
       "Paul      33.0\n",
       "Peter      NaN\n",
       "Ringo     12.3\n",
       "dtype: float64"
      ]
     },
     "execution_count": 205,
     "metadata": {},
     "output_type": "execute_result"
    }
   ],
   "source": [
    "songs.sort_index()"
   ]
  },
  {
   "cell_type": "code",
   "execution_count": 206,
   "id": "c4d97397",
   "metadata": {},
   "outputs": [
    {
     "data": {
      "text/plain": [
       "Ringo     12.3\n",
       "Peter      NaN\n",
       "Paul       4.4\n",
       "Paul      33.0\n",
       "George    93.4\n",
       "Billy     12.0\n",
       "dtype: float64"
      ]
     },
     "execution_count": 206,
     "metadata": {},
     "output_type": "execute_result"
    }
   ],
   "source": [
    "songs.sort_index(ascending=False)"
   ]
  },
  {
   "cell_type": "code",
   "execution_count": 207,
   "id": "3a2ad28b",
   "metadata": {},
   "outputs": [
    {
     "data": {
      "text/plain": [
       "Ringo     3.0\n",
       "Paul      1.0\n",
       "George    5.0\n",
       "Peter     NaN\n",
       "Billy     2.0\n",
       "Paul      4.0\n",
       "dtype: float64"
      ]
     },
     "execution_count": 207,
     "metadata": {},
     "output_type": "execute_result"
    }
   ],
   "source": [
    "songs.rank()"
   ]
  },
  {
   "cell_type": "code",
   "execution_count": 216,
   "id": "6e353587",
   "metadata": {},
   "outputs": [],
   "source": [
    "def format():\n",
    "    l=[1, 3, 43,4, 54, 5]\n",
    "    for i in range(l):\n",
    "        if i==1:\n",
    "            template='{} song'\n",
    "    else:\n",
    "        template.format()\n",
    "        "
   ]
  },
  {
   "cell_type": "code",
   "execution_count": 217,
   "id": "884c9d37",
   "metadata": {},
   "outputs": [],
   "source": [
    "from io import StringIO"
   ]
  },
  {
   "cell_type": "code",
   "execution_count": 218,
   "id": "993c01f6",
   "metadata": {},
   "outputs": [
    {
     "name": "stdout",
     "output_type": "stream",
     "text": [
      ",0\r\n",
      "Ringo,12.3\r\n",
      "Paul,4.4\r\n",
      "George,93.4\r\n",
      "Peter,\r\n",
      "Billy,12.0\r\n",
      "Paul,33.0\r\n",
      "\n"
     ]
    }
   ],
   "source": [
    "fout=StringIO()\n",
    "songs.to_csv(fout)\n",
    "print(fout.getvalue())"
   ]
  },
  {
   "cell_type": "code",
   "execution_count": 219,
   "id": "81a0dc9d",
   "metadata": {},
   "outputs": [],
   "source": [
    "with open('songs.csv', 'w') as fout:\n",
    "    songs.to_csv(fout)"
   ]
  },
  {
   "cell_type": "code",
   "execution_count": 221,
   "id": "9bd3663a",
   "metadata": {},
   "outputs": [
    {
     "name": "stdout",
     "output_type": "stream",
     "text": [
      ",0\r\n",
      "Ringo,12.3\r\n",
      "Paul,4.4\r\n",
      "George,93.4\r\n",
      "Peter,\r\n",
      "Billy,12.0\r\n",
      "Paul,33.0\r\n",
      "\n"
     ]
    }
   ],
   "source": [
    "fout=StringIO()\n",
    "songs.to_csv(fout, header=True)\n",
    "print(fout.getvalue())"
   ]
  },
  {
   "cell_type": "code",
   "execution_count": 222,
   "id": "9f9166e1",
   "metadata": {},
   "outputs": [
    {
     "ename": "AttributeError",
     "evalue": "type object 'Series' has no attribute 'from_csv'",
     "output_type": "error",
     "traceback": [
      "\u001b[1;31m---------------------------------------------------------------------------\u001b[0m",
      "\u001b[1;31mAttributeError\u001b[0m                            Traceback (most recent call last)",
      "\u001b[1;32m<ipython-input-222-f8b2dd562e1b>\u001b[0m in \u001b[0;36m<module>\u001b[1;34m\u001b[0m\n\u001b[0;32m      1\u001b[0m \u001b[0mfout\u001b[0m\u001b[1;33m.\u001b[0m\u001b[0mseek\u001b[0m\u001b[1;33m(\u001b[0m\u001b[1;36m0\u001b[0m\u001b[1;33m)\u001b[0m\u001b[1;33m\u001b[0m\u001b[1;33m\u001b[0m\u001b[0m\n\u001b[1;32m----> 2\u001b[1;33m \u001b[0mseries\u001b[0m\u001b[1;33m=\u001b[0m\u001b[0mpd\u001b[0m\u001b[1;33m.\u001b[0m\u001b[0mSeries\u001b[0m\u001b[1;33m.\u001b[0m\u001b[0mfrom_csv\u001b[0m\u001b[1;33m(\u001b[0m\u001b[0mfout\u001b[0m\u001b[1;33m,\u001b[0m \u001b[0mheader\u001b[0m\u001b[1;33m=\u001b[0m\u001b[1;36m0\u001b[0m\u001b[1;33m)\u001b[0m\u001b[1;33m\u001b[0m\u001b[1;33m\u001b[0m\u001b[0m\n\u001b[0m",
      "\u001b[1;31mAttributeError\u001b[0m: type object 'Series' has no attribute 'from_csv'"
     ]
    }
   ],
   "source": [
    "fout.seek(0)\n",
    "series=pd.Series.from_csv(fout, header=0)"
   ]
  },
  {
   "cell_type": "markdown",
   "id": "9bd3a54b",
   "metadata": {},
   "source": [
    "# String operations"
   ]
  },
  {
   "cell_type": "markdown",
   "id": "0a6e30fa",
   "metadata": {},
   "source": [
    "# #String operations\n",
    "##String operations\n",
    "###String operations"
   ]
  },
  {
   "cell_type": "markdown",
   "id": "dd8914e6",
   "metadata": {},
   "source": [
    "# findall"
   ]
  },
  {
   "cell_type": "code",
   "execution_count": 223,
   "id": "a8e33964",
   "metadata": {},
   "outputs": [
    {
     "data": {
      "text/plain": [
       "0    george\n",
       "1      hawa\n",
       "2      paul\n",
       "3      kulu\n",
       "4     ratin\n",
       "5     watur\n",
       "dtype: object"
      ]
     },
     "execution_count": 223,
     "metadata": {},
     "output_type": "execute_result"
    }
   ],
   "source": [
    "names=pd.Series(['George', 'Hawa', 'Paul', 'Kulu', 'Ratin', 'Watur'])\n",
    "names.str.lower()"
   ]
  },
  {
   "cell_type": "code",
   "execution_count": 224,
   "id": "51834392",
   "metadata": {},
   "outputs": [
    {
     "data": {
      "text/plain": [
       "0        []\n",
       "1    [a, a]\n",
       "2       [a]\n",
       "3        []\n",
       "4       [a]\n",
       "5       [a]\n",
       "dtype: object"
      ]
     },
     "execution_count": 224,
     "metadata": {},
     "output_type": "execute_result"
    }
   ],
   "source": [
    "names.str.findall('a')"
   ]
  },
  {
   "cell_type": "code",
   "execution_count": 225,
   "id": "dd993c47",
   "metadata": {},
   "outputs": [
    {
     "data": {
      "text/plain": [
       "0    george\n",
       "1      hawa\n",
       "2      paul\n",
       "3      kulu\n",
       "4     ratin\n",
       "5     watur\n",
       "dtype: object"
      ]
     },
     "execution_count": 225,
     "metadata": {},
     "output_type": "execute_result"
    }
   ],
   "source": [
    "def lower(val):\n",
    "    return val.lower()\n",
    "\n",
    "names.apply(lower)"
   ]
  },
  {
   "cell_type": "markdown",
   "id": "73c8134f",
   "metadata": {},
   "source": [
    "# Series Plotting"
   ]
  },
  {
   "cell_type": "code",
   "execution_count": 70,
   "id": "d16c0b5f",
   "metadata": {},
   "outputs": [],
   "source": [
    "songs.name='Counts 69'\n"
   ]
  },
  {
   "cell_type": "code",
   "execution_count": 71,
   "id": "f0ba647d",
   "metadata": {},
   "outputs": [
    {
     "data": {
      "text/plain": [
       "Ringo     12.3\n",
       "Paul       4.4\n",
       "George    93.4\n",
       "Peter      NaN\n",
       "Billy     12.0\n",
       "Paul      33.0\n",
       "Name: Counts 69, dtype: float64"
      ]
     },
     "execution_count": 71,
     "metadata": {},
     "output_type": "execute_result"
    }
   ],
   "source": [
    "songs"
   ]
  },
  {
   "cell_type": "code",
   "execution_count": 72,
   "id": "d44c26f6",
   "metadata": {},
   "outputs": [
    {
     "data": {
      "image/png": "[encoded data removed]",
      "text/plain": [
       "<Figure size 432x288 with 1 Axes>"
      ]
     },
     "metadata": {
      "needs_background": "light"
     },
     "output_type": "display_data"
    }
   ],
   "source": [
    "fig=plt.figure()\n",
    "songs.plot()\n",
    "songs.plot()\n",
    "plt.legend()\n",
    "fig.savefig('songs.png')\n"
   ]
  },
  {
   "cell_type": "code",
   "execution_count": null,
   "id": "8056def2",
   "metadata": {},
   "outputs": [],
   "source": []
  },
  {
   "cell_type": "code",
   "execution_count": 75,
   "id": "202667cb",
   "metadata": {},
   "outputs": [
    {
     "data": {
      "image/png": "[encoded data removed]",
      "text/plain": [
       "<Figure size 432x288 with 1 Axes>"
      ]
     },
     "metadata": {
      "needs_background": "light"
     },
     "output_type": "display_data"
    }
   ],
   "source": [
    "fig=plt.figure()\n",
    "songs.plot(kind='bar')\n",
    "songs.plot(kind='bar', color='k', alpha=.1)\n",
    "plt.legend()\n",
    "fig.savefig('example.png')"
   ]
  },
  {
   "cell_type": "code",
   "execution_count": null,
   "id": "a56e07d2",
   "metadata": {},
   "outputs": [],
   "source": []
  },
  {
   "cell_type": "code",
   "execution_count": 76,
   "id": "e1edf0de",
   "metadata": {},
   "outputs": [],
   "source": [
    "data=pd.Series(np.random.randn(500),\n",
    "              name='500 random')\n"
   ]
  },
  {
   "cell_type": "code",
   "execution_count": 77,
   "id": "fde8352a",
   "metadata": {},
   "outputs": [
    {
     "ename": "NameError",
     "evalue": "name 'figure' is not defined",
     "output_type": "error",
     "traceback": [
      "\u001b[1;31m---------------------------------------------------------------------------\u001b[0m",
      "\u001b[1;31mNameError\u001b[0m                                 Traceback (most recent call last)",
      "\u001b[1;32m<ipython-input-77-a73a1046881c>\u001b[0m in \u001b[0;36m<module>\u001b[1;34m\u001b[0m\n\u001b[0;32m      1\u001b[0m \u001b[0mfig\u001b[0m\u001b[1;33m=\u001b[0m\u001b[0mplt\u001b[0m\u001b[1;33m.\u001b[0m\u001b[0mfigure\u001b[0m\u001b[1;33m(\u001b[0m\u001b[1;33m)\u001b[0m\u001b[1;33m\u001b[0m\u001b[1;33m\u001b[0m\u001b[0m\n\u001b[1;32m----> 2\u001b[1;33m \u001b[0max\u001b[0m\u001b[1;33m=\u001b[0m\u001b[0mfigure\u001b[0m\u001b[1;33m.\u001b[0m\u001b[0madd_subplot\u001b[0m\u001b[1;33m(\u001b[0m\u001b[1;36m111\u001b[0m\u001b[1;33m)\u001b[0m\u001b[1;33m\u001b[0m\u001b[1;33m\u001b[0m\u001b[0m\n\u001b[0m\u001b[0;32m      3\u001b[0m \u001b[0mdata\u001b[0m\u001b[1;33m.\u001b[0m\u001b[0mhist\u001b[0m\u001b[1;33m(\u001b[0m\u001b[1;33m)\u001b[0m\u001b[1;33m\u001b[0m\u001b[1;33m\u001b[0m\u001b[0m\n\u001b[0;32m      4\u001b[0m \u001b[0mfig\u001b[0m\u001b[1;33m.\u001b[0m\u001b[0msavefig\u001b[0m\u001b[1;33m(\u001b[0m\u001b[1;34m'example2.png'\u001b[0m\u001b[1;33m)\u001b[0m\u001b[1;33m\u001b[0m\u001b[1;33m\u001b[0m\u001b[0m\n",
      "\u001b[1;31mNameError\u001b[0m: name 'figure' is not defined"
     ]
    },
    {
     "data": {
      "text/plain": [
       "<Figure size 432x288 with 0 Axes>"
      ]
     },
     "metadata": {},
     "output_type": "display_data"
    }
   ],
   "source": [
    "fig=plt.figure()\n",
    "ax=figure.add_subplot(111)\n",
    "data.hist()\n",
    "fig.savefig('example2.png')"
   ]
  },
  {
   "cell_type": "code",
   "execution_count": 78,
   "id": "4a0333bd",
   "metadata": {},
   "outputs": [
    {
     "data": {
      "image/png": "[encoded data removed]",
      "text/plain": [
       "<Figure size 432x288 with 1 Axes>"
      ]
     },
     "metadata": {
      "needs_background": "light"
     },
     "output_type": "display_data"
    }
   ],
   "source": [
    "fig=plt.figure()\n",
    "data.plot(kind='kde')\n",
    "fig.savefig('example4.png')"
   ]
  },
  {
   "cell_type": "code",
   "execution_count": null,
   "id": "f189269e",
   "metadata": {},
   "outputs": [],
   "source": []
  },
  {
   "cell_type": "markdown",
   "id": "6ea47ce7",
   "metadata": {},
   "source": [
    "# Pandas's DataFrame"
   ]
  },
  {
   "cell_type": "code",
   "execution_count": 79,
   "id": "4ad50903",
   "metadata": {},
   "outputs": [],
   "source": [
    "df={'index':[0, 1, 2, 3],\n",
    "   'cols':[{'name':'growth',\n",
    "           'data':[.5, .7, 1.2]},\n",
    "          {'name':'Name',\n",
    "          'data':['Paul', 'George', 'Ringo']},\n",
    "          \n",
    "          ]}"
   ]
  },
  {
   "cell_type": "code",
   "execution_count": 81,
   "id": "6120290d",
   "metadata": {},
   "outputs": [
    {
     "data": {
      "text/plain": [
       "[0.7, 'George']"
      ]
     },
     "execution_count": 81,
     "metadata": {},
     "output_type": "execute_result"
    }
   ],
   "source": [
    "def get_row(df, idx):\n",
    "    results=[]\n",
    "    value_idx=df['index'].index(idx)\n",
    "    for col in df['cols']:\n",
    "        results.append(col['data'][value_idx])\n",
    "    return results\n",
    "get_row(df, 1)"
   ]
  },
  {
   "cell_type": "code",
   "execution_count": 85,
   "id": "bed037e8",
   "metadata": {},
   "outputs": [],
   "source": [
    "def get_col(df, name):\n",
    "    for col in df['cols']:\n",
    "        if col in df['name']==name:\n",
    "            return col['data']\n",
    "            "
   ]
  },
  {
   "cell_type": "code",
   "execution_count": 86,
   "id": "c5b28040",
   "metadata": {},
   "outputs": [
    {
     "ename": "KeyError",
     "evalue": "'name'",
     "output_type": "error",
     "traceback": [
      "\u001b[1;31m---------------------------------------------------------------------------\u001b[0m",
      "\u001b[1;31mKeyError\u001b[0m                                  Traceback (most recent call last)",
      "\u001b[1;32m<ipython-input-86-2d0ada8bf8b8>\u001b[0m in \u001b[0;36m<module>\u001b[1;34m\u001b[0m\n\u001b[1;32m----> 1\u001b[1;33m \u001b[0mget_col\u001b[0m\u001b[1;33m(\u001b[0m\u001b[0mdf\u001b[0m\u001b[1;33m,\u001b[0m \u001b[1;34m'Name'\u001b[0m\u001b[1;33m)\u001b[0m\u001b[1;33m\u001b[0m\u001b[1;33m\u001b[0m\u001b[0m\n\u001b[0m",
      "\u001b[1;32m<ipython-input-85-7d8453d4d40f>\u001b[0m in \u001b[0;36mget_col\u001b[1;34m(df, name)\u001b[0m\n\u001b[0;32m      1\u001b[0m \u001b[1;32mdef\u001b[0m \u001b[0mget_col\u001b[0m\u001b[1;33m(\u001b[0m\u001b[0mdf\u001b[0m\u001b[1;33m,\u001b[0m \u001b[0mname\u001b[0m\u001b[1;33m)\u001b[0m\u001b[1;33m:\u001b[0m\u001b[1;33m\u001b[0m\u001b[1;33m\u001b[0m\u001b[0m\n\u001b[0;32m      2\u001b[0m     \u001b[1;32mfor\u001b[0m \u001b[0mcol\u001b[0m \u001b[1;32min\u001b[0m \u001b[0mdf\u001b[0m\u001b[1;33m[\u001b[0m\u001b[1;34m'cols'\u001b[0m\u001b[1;33m]\u001b[0m\u001b[1;33m:\u001b[0m\u001b[1;33m\u001b[0m\u001b[1;33m\u001b[0m\u001b[0m\n\u001b[1;32m----> 3\u001b[1;33m         \u001b[1;32mif\u001b[0m \u001b[0mcol\u001b[0m \u001b[1;32min\u001b[0m \u001b[0mdf\u001b[0m\u001b[1;33m[\u001b[0m\u001b[1;34m'name'\u001b[0m\u001b[1;33m]\u001b[0m\u001b[1;33m==\u001b[0m\u001b[0mname\u001b[0m\u001b[1;33m:\u001b[0m\u001b[1;33m\u001b[0m\u001b[1;33m\u001b[0m\u001b[0m\n\u001b[0m\u001b[0;32m      4\u001b[0m             \u001b[1;32mreturn\u001b[0m \u001b[0mcol\u001b[0m\u001b[1;33m[\u001b[0m\u001b[1;34m'data'\u001b[0m\u001b[1;33m]\u001b[0m\u001b[1;33m\u001b[0m\u001b[1;33m\u001b[0m\u001b[0m\n\u001b[0;32m      5\u001b[0m \u001b[1;33m\u001b[0m\u001b[0m\n",
      "\u001b[1;31mKeyError\u001b[0m: 'name'"
     ]
    }
   ],
   "source": [
    "get_col(df, 'Name')"
   ]
  },
  {
   "cell_type": "code",
   "execution_count": 87,
   "id": "26033d38",
   "metadata": {},
   "outputs": [],
   "source": [
    "df=pd.DataFrame({\n",
    "    'Growth':[.5, .7, 1.2],\n",
    "    'Name':['Paul', 'George', 'Ringo']\n",
    "})"
   ]
  },
  {
   "cell_type": "code",
   "execution_count": 88,
   "id": "6431eec6",
   "metadata": {},
   "outputs": [
    {
     "data": {
      "text/html": [
       "<div>\n",
       "<style scoped>\n",
       "    .dataframe tbody tr th:only-of-type {\n",
       "        vertical-align: middle;\n",
       "    }\n",
       "\n",
       "    .dataframe tbody tr th {\n",
       "        vertical-align: top;\n",
       "    }\n",
       "\n",
       "    .dataframe thead th {\n",
       "        text-align: right;\n",
       "    }\n",
       "</style>\n",
       "<table border=\"1\" class=\"dataframe\">\n",
       "  <thead>\n",
       "    <tr style=\"text-align: right;\">\n",
       "      <th></th>\n",
       "      <th>Growth</th>\n",
       "      <th>Name</th>\n",
       "    </tr>\n",
       "  </thead>\n",
       "  <tbody>\n",
       "    <tr>\n",
       "      <th>0</th>\n",
       "      <td>0.5</td>\n",
       "      <td>Paul</td>\n",
       "    </tr>\n",
       "    <tr>\n",
       "      <th>1</th>\n",
       "      <td>0.7</td>\n",
       "      <td>George</td>\n",
       "    </tr>\n",
       "    <tr>\n",
       "      <th>2</th>\n",
       "      <td>1.2</td>\n",
       "      <td>Ringo</td>\n",
       "    </tr>\n",
       "  </tbody>\n",
       "</table>\n",
       "</div>"
      ],
      "text/plain": [
       "   Growth    Name\n",
       "0     0.5    Paul\n",
       "1     0.7  George\n",
       "2     1.2   Ringo"
      ]
     },
     "execution_count": 88,
     "metadata": {},
     "output_type": "execute_result"
    }
   ],
   "source": [
    "df"
   ]
  },
  {
   "cell_type": "code",
   "execution_count": 89,
   "id": "b65bbe5e",
   "metadata": {},
   "outputs": [
    {
     "data": {
      "text/plain": [
       "Growth      1.2\n",
       "Name      Ringo\n",
       "Name: 2, dtype: object"
      ]
     },
     "execution_count": 89,
     "metadata": {},
     "output_type": "execute_result"
    }
   ],
   "source": [
    "df.iloc[2]"
   ]
  },
  {
   "cell_type": "code",
   "execution_count": 95,
   "id": "74cd2f82",
   "metadata": {},
   "outputs": [
    {
     "data": {
      "text/plain": [
       "0      Paul\n",
       "1    George\n",
       "2     Ringo\n",
       "Name: Name, dtype: object"
      ]
     },
     "execution_count": 95,
     "metadata": {},
     "output_type": "execute_result"
    }
   ],
   "source": [
    "df['Name']"
   ]
  },
  {
   "cell_type": "code",
   "execution_count": 96,
   "id": "df95f4bf",
   "metadata": {},
   "outputs": [
    {
     "data": {
      "text/plain": [
       "pandas.core.series.Series"
      ]
     },
     "execution_count": 96,
     "metadata": {},
     "output_type": "execute_result"
    }
   ],
   "source": [
    "type(df['Name'])"
   ]
  },
  {
   "cell_type": "code",
   "execution_count": 97,
   "id": "99b1c90d",
   "metadata": {},
   "outputs": [
    {
     "data": {
      "text/plain": [
       "0      paul\n",
       "1    george\n",
       "2     ringo\n",
       "Name: Name, dtype: object"
      ]
     },
     "execution_count": 97,
     "metadata": {},
     "output_type": "execute_result"
    }
   ],
   "source": [
    "df['Name'].str.lower()"
   ]
  },
  {
   "cell_type": "code",
   "execution_count": 98,
   "id": "b2b9c29f",
   "metadata": {},
   "outputs": [
    {
     "data": {
      "text/plain": [
       "0      Paul\n",
       "1    George\n",
       "2     Ringo\n",
       "Name: Name, dtype: object"
      ]
     },
     "execution_count": 98,
     "metadata": {},
     "output_type": "execute_result"
    }
   ],
   "source": [
    "df.Name"
   ]
  },
  {
   "cell_type": "code",
   "execution_count": 102,
   "id": "7fecd639",
   "metadata": {},
   "outputs": [
    {
     "data": {
      "text/html": [
       "<div>\n",
       "<style scoped>\n",
       "    .dataframe tbody tr th:only-of-type {\n",
       "        vertical-align: middle;\n",
       "    }\n",
       "\n",
       "    .dataframe tbody tr th {\n",
       "        vertical-align: top;\n",
       "    }\n",
       "\n",
       "    .dataframe thead th {\n",
       "        text-align: right;\n",
       "    }\n",
       "</style>\n",
       "<table border=\"1\" class=\"dataframe\">\n",
       "  <thead>\n",
       "    <tr style=\"text-align: right;\">\n",
       "      <th></th>\n",
       "      <th>growth</th>\n",
       "      <th>Name</th>\n",
       "    </tr>\n",
       "  </thead>\n",
       "  <tbody>\n",
       "    <tr>\n",
       "      <th>0</th>\n",
       "      <td>0.5</td>\n",
       "      <td>Paul</td>\n",
       "    </tr>\n",
       "    <tr>\n",
       "      <th>1</th>\n",
       "      <td>0.7</td>\n",
       "      <td>George</td>\n",
       "    </tr>\n",
       "    <tr>\n",
       "      <th>2</th>\n",
       "      <td>1.2</td>\n",
       "      <td>Ringo</td>\n",
       "    </tr>\n",
       "    <tr>\n",
       "      <th>3</th>\n",
       "      <td>3.2</td>\n",
       "      <td>Binga</td>\n",
       "    </tr>\n",
       "    <tr>\n",
       "      <th>4</th>\n",
       "      <td>2.0</td>\n",
       "      <td>Pinge</td>\n",
       "    </tr>\n",
       "    <tr>\n",
       "      <th>5</th>\n",
       "      <td>1.7</td>\n",
       "      <td>Tinger</td>\n",
       "    </tr>\n",
       "    <tr>\n",
       "      <th>6</th>\n",
       "      <td>4.8</td>\n",
       "      <td>Qangor</td>\n",
       "    </tr>\n",
       "    <tr>\n",
       "      <th>7</th>\n",
       "      <td>9.2</td>\n",
       "      <td>Ding</td>\n",
       "    </tr>\n",
       "  </tbody>\n",
       "</table>\n",
       "</div>"
      ],
      "text/plain": [
       "   growth    Name\n",
       "0     0.5    Paul\n",
       "1     0.7  George\n",
       "2     1.2   Ringo\n",
       "3     3.2   Binga\n",
       "4     2.0   Pinge\n",
       "5     1.7  Tinger\n",
       "6     4.8  Qangor\n",
       "7     9.2    Ding"
      ]
     },
     "execution_count": 102,
     "metadata": {},
     "output_type": "execute_result"
    }
   ],
   "source": [
    "pd.DataFrame([\n",
    "        {'growth':.5, 'Name':'Paul'},\n",
    "        {'growth':.7, 'Name':'George'},\n",
    "        {'growth':1.2, 'Name':'Ringo'},\n",
    "        {'growth':3.2, 'Name':'Binga'},\n",
    "        {'growth':2.0, 'Name':'Pinge'},\n",
    "        {'growth':1.7, 'Name':'Tinger'},\n",
    "        {'growth':4.8, 'Name':'Qangor'},\n",
    "        {'growth':9.2, 'Name':'Ding'}])"
   ]
  },
  {
   "cell_type": "code",
   "execution_count": null,
   "id": "b45874cb",
   "metadata": {},
   "outputs": [],
   "source": [
    "csv_file=StringIO(\"\"\"growth, Name\n",
    "                    \"\"\")"
   ]
  },
  {
   "cell_type": "code",
   "execution_count": 103,
   "id": "571a38d3",
   "metadata": {},
   "outputs": [
    {
     "ename": "NameError",
     "evalue": "name 'csv_file' is not defined",
     "output_type": "error",
     "traceback": [
      "\u001b[1;31m---------------------------------------------------------------------------\u001b[0m",
      "\u001b[1;31mNameError\u001b[0m                                 Traceback (most recent call last)",
      "\u001b[1;32m<ipython-input-103-3323ef2b35b7>\u001b[0m in \u001b[0;36m<module>\u001b[1;34m\u001b[0m\n\u001b[1;32m----> 1\u001b[1;33m \u001b[0mpd\u001b[0m\u001b[1;33m.\u001b[0m\u001b[0mread_csv\u001b[0m\u001b[1;33m(\u001b[0m\u001b[0mcsv_file\u001b[0m\u001b[1;33m)\u001b[0m\u001b[1;33m\u001b[0m\u001b[1;33m\u001b[0m\u001b[0m\n\u001b[0m",
      "\u001b[1;31mNameError\u001b[0m: name 'csv_file' is not defined"
     ]
    }
   ],
   "source": [
    "pd.read_csv(csv_file)"
   ]
  },
  {
   "cell_type": "code",
   "execution_count": 104,
   "id": "cf40c230",
   "metadata": {},
   "outputs": [
    {
     "data": {
      "text/html": [
       "<div>\n",
       "<style scoped>\n",
       "    .dataframe tbody tr th:only-of-type {\n",
       "        vertical-align: middle;\n",
       "    }\n",
       "\n",
       "    .dataframe tbody tr th {\n",
       "        vertical-align: top;\n",
       "    }\n",
       "\n",
       "    .dataframe thead th {\n",
       "        text-align: right;\n",
       "    }\n",
       "</style>\n",
       "<table border=\"1\" class=\"dataframe\">\n",
       "  <thead>\n",
       "    <tr style=\"text-align: right;\">\n",
       "      <th></th>\n",
       "      <th>a</th>\n",
       "      <th>b</th>\n",
       "      <th>c</th>\n",
       "    </tr>\n",
       "  </thead>\n",
       "  <tbody>\n",
       "    <tr>\n",
       "      <th>0</th>\n",
       "      <td>0.438109</td>\n",
       "      <td>0.016891</td>\n",
       "      <td>-1.741978</td>\n",
       "    </tr>\n",
       "    <tr>\n",
       "      <th>1</th>\n",
       "      <td>-0.561757</td>\n",
       "      <td>-1.267227</td>\n",
       "      <td>-0.586952</td>\n",
       "    </tr>\n",
       "    <tr>\n",
       "      <th>2</th>\n",
       "      <td>-0.267612</td>\n",
       "      <td>0.186666</td>\n",
       "      <td>0.150505</td>\n",
       "    </tr>\n",
       "    <tr>\n",
       "      <th>3</th>\n",
       "      <td>1.726714</td>\n",
       "      <td>-1.162576</td>\n",
       "      <td>0.360474</td>\n",
       "    </tr>\n",
       "    <tr>\n",
       "      <th>4</th>\n",
       "      <td>-1.040253</td>\n",
       "      <td>-0.277286</td>\n",
       "      <td>-0.303724</td>\n",
       "    </tr>\n",
       "    <tr>\n",
       "      <th>5</th>\n",
       "      <td>0.519777</td>\n",
       "      <td>0.625204</td>\n",
       "      <td>0.206687</td>\n",
       "    </tr>\n",
       "    <tr>\n",
       "      <th>6</th>\n",
       "      <td>-0.552518</td>\n",
       "      <td>0.172141</td>\n",
       "      <td>-0.206372</td>\n",
       "    </tr>\n",
       "    <tr>\n",
       "      <th>7</th>\n",
       "      <td>0.122052</td>\n",
       "      <td>0.086798</td>\n",
       "      <td>0.061920</td>\n",
       "    </tr>\n",
       "    <tr>\n",
       "      <th>8</th>\n",
       "      <td>1.387738</td>\n",
       "      <td>-0.192177</td>\n",
       "      <td>-0.611344</td>\n",
       "    </tr>\n",
       "    <tr>\n",
       "      <th>9</th>\n",
       "      <td>-0.022333</td>\n",
       "      <td>-1.557869</td>\n",
       "      <td>-1.877087</td>\n",
       "    </tr>\n",
       "  </tbody>\n",
       "</table>\n",
       "</div>"
      ],
      "text/plain": [
       "          a         b         c\n",
       "0  0.438109  0.016891 -1.741978\n",
       "1 -0.561757 -1.267227 -0.586952\n",
       "2 -0.267612  0.186666  0.150505\n",
       "3  1.726714 -1.162576  0.360474\n",
       "4 -1.040253 -0.277286 -0.303724\n",
       "5  0.519777  0.625204  0.206687\n",
       "6 -0.552518  0.172141 -0.206372\n",
       "7  0.122052  0.086798  0.061920\n",
       "8  1.387738 -0.192177 -0.611344\n",
       "9 -0.022333 -1.557869 -1.877087"
      ]
     },
     "execution_count": 104,
     "metadata": {},
     "output_type": "execute_result"
    }
   ],
   "source": [
    "pd.DataFrame(np.random.randn(10, 3), columns=['a', 'b', 'c'])\n"
   ]
  },
  {
   "cell_type": "markdown",
   "id": "1d60c0dc",
   "metadata": {},
   "source": [
    "# #Descriptive Statistics (EDA)"
   ]
  },
  {
   "cell_type": "code",
   "execution_count": 112,
   "id": "fc7edd53",
   "metadata": {},
   "outputs": [],
   "source": [
    "df=pd.read_csv('demo2.csv')\n"
   ]
  },
  {
   "cell_type": "code",
   "execution_count": 113,
   "id": "f2c5f0b4",
   "metadata": {},
   "outputs": [
    {
     "data": {
      "text/html": [
       "<div>\n",
       "<style scoped>\n",
       "    .dataframe tbody tr th:only-of-type {\n",
       "        vertical-align: middle;\n",
       "    }\n",
       "\n",
       "    .dataframe tbody tr th {\n",
       "        vertical-align: top;\n",
       "    }\n",
       "\n",
       "    .dataframe thead th {\n",
       "        text-align: right;\n",
       "    }\n",
       "</style>\n",
       "<table border=\"1\" class=\"dataframe\">\n",
       "  <thead>\n",
       "    <tr style=\"text-align: right;\">\n",
       "      <th></th>\n",
       "      <th>LOCATION</th>\n",
       "      <th>MILES</th>\n",
       "      <th>ELEVATION</th>\n",
       "      <th>CUMUL</th>\n",
       "      <th>% CUMUL GAIN</th>\n",
       "    </tr>\n",
       "  </thead>\n",
       "  <tbody>\n",
       "    <tr>\n",
       "      <th>0</th>\n",
       "      <td>Big Mountain Pass Aid Station</td>\n",
       "      <td>39.07</td>\n",
       "      <td>7432</td>\n",
       "      <td>11579.0</td>\n",
       "      <td>43.8%</td>\n",
       "    </tr>\n",
       "    <tr>\n",
       "      <th>1</th>\n",
       "      <td>Mules Ear Meadow</td>\n",
       "      <td>40.75</td>\n",
       "      <td>7478</td>\n",
       "      <td>12008.0</td>\n",
       "      <td>45.4%</td>\n",
       "    </tr>\n",
       "    <tr>\n",
       "      <th>2</th>\n",
       "      <td>Bald Mountain</td>\n",
       "      <td>42.46</td>\n",
       "      <td>7869</td>\n",
       "      <td>12593.0</td>\n",
       "      <td>47.6%</td>\n",
       "    </tr>\n",
       "    <tr>\n",
       "      <th>3</th>\n",
       "      <td>Pence Point</td>\n",
       "      <td>43.99</td>\n",
       "      <td>7521</td>\n",
       "      <td>12813.0</td>\n",
       "      <td>48.4%</td>\n",
       "    </tr>\n",
       "    <tr>\n",
       "      <th>4</th>\n",
       "      <td>Alexander Ridge Aid Station</td>\n",
       "      <td>46.90</td>\n",
       "      <td>6160</td>\n",
       "      <td>13169.0</td>\n",
       "      <td>49.8%</td>\n",
       "    </tr>\n",
       "    <tr>\n",
       "      <th>5</th>\n",
       "      <td>Alexander Springs</td>\n",
       "      <td>47.97</td>\n",
       "      <td>5956</td>\n",
       "      <td>13319.0</td>\n",
       "      <td>50.3%</td>\n",
       "    </tr>\n",
       "    <tr>\n",
       "      <th>6</th>\n",
       "      <td>Rogers Trail junction</td>\n",
       "      <td>49.52</td>\n",
       "      <td>6698</td>\n",
       "      <td>13967.0</td>\n",
       "      <td>52.8%</td>\n",
       "    </tr>\n",
       "    <tr>\n",
       "      <th>7</th>\n",
       "      <td>Rogers Saddle</td>\n",
       "      <td>49.77</td>\n",
       "      <td>6790</td>\n",
       "      <td>14073.0</td>\n",
       "      <td>53.2%</td>\n",
       "    </tr>\n",
       "    <tr>\n",
       "      <th>8</th>\n",
       "      <td>Railroad Bed</td>\n",
       "      <td>50.15</td>\n",
       "      <td>6520</td>\n",
       "      <td>NaN</td>\n",
       "      <td>NaN</td>\n",
       "    </tr>\n",
       "    <tr>\n",
       "      <th>9</th>\n",
       "      <td>Lambs Canyon Underpass Aid Station</td>\n",
       "      <td>52.48</td>\n",
       "      <td>6111</td>\n",
       "      <td>14329.0</td>\n",
       "      <td>54.2%</td>\n",
       "    </tr>\n",
       "  </tbody>\n",
       "</table>\n",
       "</div>"
      ],
      "text/plain": [
       "                             LOCATION  MILES  ELEVATION    CUMUL % CUMUL GAIN\n",
       "0       Big Mountain Pass Aid Station  39.07       7432  11579.0        43.8%\n",
       "1                    Mules Ear Meadow  40.75       7478  12008.0        45.4%\n",
       "2                       Bald Mountain  42.46       7869  12593.0        47.6%\n",
       "3                         Pence Point  43.99       7521  12813.0        48.4%\n",
       "4         Alexander Ridge Aid Station  46.90       6160  13169.0        49.8%\n",
       "5                   Alexander Springs  47.97       5956  13319.0        50.3%\n",
       "6               Rogers Trail junction  49.52       6698  13967.0        52.8%\n",
       "7                       Rogers Saddle  49.77       6790  14073.0        53.2%\n",
       "8                        Railroad Bed  50.15       6520      NaN          NaN\n",
       "9  Lambs Canyon Underpass Aid Station  52.48       6111  14329.0        54.2%"
      ]
     },
     "execution_count": 113,
     "metadata": {},
     "output_type": "execute_result"
    }
   ],
   "source": [
    "df"
   ]
  },
  {
   "cell_type": "code",
   "execution_count": 114,
   "id": "606219dd",
   "metadata": {},
   "outputs": [
    {
     "data": {
      "text/html": [
       "<div>\n",
       "<style scoped>\n",
       "    .dataframe tbody tr th:only-of-type {\n",
       "        vertical-align: middle;\n",
       "    }\n",
       "\n",
       "    .dataframe tbody tr th {\n",
       "        vertical-align: top;\n",
       "    }\n",
       "\n",
       "    .dataframe thead th {\n",
       "        text-align: right;\n",
       "    }\n",
       "</style>\n",
       "<table border=\"1\" class=\"dataframe\">\n",
       "  <thead>\n",
       "    <tr style=\"text-align: right;\">\n",
       "      <th></th>\n",
       "      <th>MILES</th>\n",
       "      <th>ELEVATION</th>\n",
       "      <th>CUMUL</th>\n",
       "    </tr>\n",
       "  </thead>\n",
       "  <tbody>\n",
       "    <tr>\n",
       "      <th>count</th>\n",
       "      <td>10.000000</td>\n",
       "      <td>10.000000</td>\n",
       "      <td>9.000000</td>\n",
       "    </tr>\n",
       "    <tr>\n",
       "      <th>mean</th>\n",
       "      <td>46.306000</td>\n",
       "      <td>6853.500000</td>\n",
       "      <td>13094.444444</td>\n",
       "    </tr>\n",
       "    <tr>\n",
       "      <th>std</th>\n",
       "      <td>4.493574</td>\n",
       "      <td>681.391428</td>\n",
       "      <td>942.511686</td>\n",
       "    </tr>\n",
       "    <tr>\n",
       "      <th>min</th>\n",
       "      <td>39.070000</td>\n",
       "      <td>5956.000000</td>\n",
       "      <td>11579.000000</td>\n",
       "    </tr>\n",
       "    <tr>\n",
       "      <th>25%</th>\n",
       "      <td>42.842500</td>\n",
       "      <td>6250.000000</td>\n",
       "      <td>12593.000000</td>\n",
       "    </tr>\n",
       "    <tr>\n",
       "      <th>50%</th>\n",
       "      <td>47.435000</td>\n",
       "      <td>6744.000000</td>\n",
       "      <td>13169.000000</td>\n",
       "    </tr>\n",
       "    <tr>\n",
       "      <th>75%</th>\n",
       "      <td>49.707500</td>\n",
       "      <td>7466.500000</td>\n",
       "      <td>13967.000000</td>\n",
       "    </tr>\n",
       "    <tr>\n",
       "      <th>max</th>\n",
       "      <td>52.480000</td>\n",
       "      <td>7869.000000</td>\n",
       "      <td>14329.000000</td>\n",
       "    </tr>\n",
       "  </tbody>\n",
       "</table>\n",
       "</div>"
      ],
      "text/plain": [
       "           MILES    ELEVATION         CUMUL\n",
       "count  10.000000    10.000000      9.000000\n",
       "mean   46.306000  6853.500000  13094.444444\n",
       "std     4.493574   681.391428    942.511686\n",
       "min    39.070000  5956.000000  11579.000000\n",
       "25%    42.842500  6250.000000  12593.000000\n",
       "50%    47.435000  6744.000000  13169.000000\n",
       "75%    49.707500  7466.500000  13967.000000\n",
       "max    52.480000  7869.000000  14329.000000"
      ]
     },
     "execution_count": 114,
     "metadata": {},
     "output_type": "execute_result"
    }
   ],
   "source": [
    "df.describe()"
   ]
  },
  {
   "cell_type": "code",
   "execution_count": 116,
   "id": "92821838",
   "metadata": {},
   "outputs": [
    {
     "data": {
      "text/html": [
       "<div>\n",
       "<style scoped>\n",
       "    .dataframe tbody tr th:only-of-type {\n",
       "        vertical-align: middle;\n",
       "    }\n",
       "\n",
       "    .dataframe tbody tr th {\n",
       "        vertical-align: top;\n",
       "    }\n",
       "\n",
       "    .dataframe thead th {\n",
       "        text-align: right;\n",
       "    }\n",
       "</style>\n",
       "<table border=\"1\" class=\"dataframe\">\n",
       "  <thead>\n",
       "    <tr style=\"text-align: right;\">\n",
       "      <th></th>\n",
       "      <th>MILES</th>\n",
       "      <th>ELEVATION</th>\n",
       "      <th>CUMUL</th>\n",
       "    </tr>\n",
       "  </thead>\n",
       "  <tbody>\n",
       "    <tr>\n",
       "      <th>count</th>\n",
       "      <td>5.000000</td>\n",
       "      <td>5.000000</td>\n",
       "      <td>5.000000</td>\n",
       "    </tr>\n",
       "    <tr>\n",
       "      <th>mean</th>\n",
       "      <td>42.634000</td>\n",
       "      <td>7292.000000</td>\n",
       "      <td>12432.400000</td>\n",
       "    </tr>\n",
       "    <tr>\n",
       "      <th>std</th>\n",
       "      <td>3.013276</td>\n",
       "      <td>655.932542</td>\n",
       "      <td>636.717206</td>\n",
       "    </tr>\n",
       "    <tr>\n",
       "      <th>min</th>\n",
       "      <td>39.070000</td>\n",
       "      <td>6160.000000</td>\n",
       "      <td>11579.000000</td>\n",
       "    </tr>\n",
       "    <tr>\n",
       "      <th>25%</th>\n",
       "      <td>40.750000</td>\n",
       "      <td>7432.000000</td>\n",
       "      <td>12008.000000</td>\n",
       "    </tr>\n",
       "    <tr>\n",
       "      <th>50%</th>\n",
       "      <td>42.460000</td>\n",
       "      <td>7478.000000</td>\n",
       "      <td>12593.000000</td>\n",
       "    </tr>\n",
       "    <tr>\n",
       "      <th>75%</th>\n",
       "      <td>43.990000</td>\n",
       "      <td>7521.000000</td>\n",
       "      <td>12813.000000</td>\n",
       "    </tr>\n",
       "    <tr>\n",
       "      <th>max</th>\n",
       "      <td>46.900000</td>\n",
       "      <td>7869.000000</td>\n",
       "      <td>13169.000000</td>\n",
       "    </tr>\n",
       "  </tbody>\n",
       "</table>\n",
       "</div>"
      ],
      "text/plain": [
       "           MILES    ELEVATION         CUMUL\n",
       "count   5.000000     5.000000      5.000000\n",
       "mean   42.634000  7292.000000  12432.400000\n",
       "std     3.013276   655.932542    636.717206\n",
       "min    39.070000  6160.000000  11579.000000\n",
       "25%    40.750000  7432.000000  12008.000000\n",
       "50%    42.460000  7478.000000  12593.000000\n",
       "75%    43.990000  7521.000000  12813.000000\n",
       "max    46.900000  7869.000000  13169.000000"
      ]
     },
     "execution_count": 116,
     "metadata": {},
     "output_type": "execute_result"
    }
   ],
   "source": [
    "df.head().describe()"
   ]
  },
  {
   "cell_type": "code",
   "execution_count": 118,
   "id": "82d8e59a",
   "metadata": {},
   "outputs": [
    {
     "name": "stdout",
     "output_type": "stream",
     "text": [
      "<class 'pandas.core.frame.DataFrame'>\n",
      "RangeIndex: 10 entries, 0 to 9\n",
      "Data columns (total 5 columns):\n",
      " #   Column        Non-Null Count  Dtype  \n",
      "---  ------        --------------  -----  \n",
      " 0   LOCATION      10 non-null     object \n",
      " 1   MILES         10 non-null     float64\n",
      " 2   ELEVATION     10 non-null     int64  \n",
      " 3   CUMUL         9 non-null      float64\n",
      " 4   % CUMUL GAIN  9 non-null      object \n",
      "dtypes: float64(2), int64(1), object(2)\n",
      "memory usage: 528.0+ bytes\n"
     ]
    }
   ],
   "source": [
    "df.info()"
   ]
  },
  {
   "cell_type": "code",
   "execution_count": 119,
   "id": "dc83a978",
   "metadata": {},
   "outputs": [
    {
     "data": {
      "text/plain": [
       "14329.0"
      ]
     },
     "execution_count": 119,
     "metadata": {},
     "output_type": "execute_result"
    }
   ],
   "source": [
    "df['CUMUL'].max()"
   ]
  },
  {
   "cell_type": "code",
   "execution_count": 120,
   "id": "4b7f02d0",
   "metadata": {},
   "outputs": [
    {
     "data": {
      "text/plain": [
       "0     True\n",
       "1     True\n",
       "2     True\n",
       "3     True\n",
       "4     True\n",
       "5     True\n",
       "6     True\n",
       "7     True\n",
       "8    False\n",
       "9     True\n",
       "Name: CUMUL, dtype: bool"
      ]
     },
     "execution_count": 120,
     "metadata": {},
     "output_type": "execute_result"
    }
   ],
   "source": [
    "df['CUMUL']>2000"
   ]
  },
  {
   "cell_type": "code",
   "execution_count": null,
   "id": "bae0b434",
   "metadata": {},
   "outputs": [],
   "source": []
  },
  {
   "cell_type": "code",
   "execution_count": 121,
   "id": "02cd218b",
   "metadata": {},
   "outputs": [
    {
     "data": {
      "text/html": [
       "<div>\n",
       "<style scoped>\n",
       "    .dataframe tbody tr th:only-of-type {\n",
       "        vertical-align: middle;\n",
       "    }\n",
       "\n",
       "    .dataframe tbody tr th {\n",
       "        vertical-align: top;\n",
       "    }\n",
       "\n",
       "    .dataframe thead th {\n",
       "        text-align: right;\n",
       "    }\n",
       "</style>\n",
       "<table border=\"1\" class=\"dataframe\">\n",
       "  <thead>\n",
       "    <tr style=\"text-align: right;\">\n",
       "      <th></th>\n",
       "      <th>LOCATION</th>\n",
       "      <th>MILES</th>\n",
       "      <th>ELEVATION</th>\n",
       "      <th>CUMUL</th>\n",
       "      <th>% CUMUL GAIN</th>\n",
       "    </tr>\n",
       "  </thead>\n",
       "  <tbody>\n",
       "    <tr>\n",
       "      <th>0</th>\n",
       "      <td>Big Mountain Pass Aid Station</td>\n",
       "      <td>39.07</td>\n",
       "      <td>7432</td>\n",
       "      <td>11579.0</td>\n",
       "      <td>43.8%</td>\n",
       "    </tr>\n",
       "    <tr>\n",
       "      <th>1</th>\n",
       "      <td>Mules Ear Meadow</td>\n",
       "      <td>40.75</td>\n",
       "      <td>7478</td>\n",
       "      <td>12008.0</td>\n",
       "      <td>45.4%</td>\n",
       "    </tr>\n",
       "    <tr>\n",
       "      <th>2</th>\n",
       "      <td>Bald Mountain</td>\n",
       "      <td>42.46</td>\n",
       "      <td>7869</td>\n",
       "      <td>12593.0</td>\n",
       "      <td>47.6%</td>\n",
       "    </tr>\n",
       "    <tr>\n",
       "      <th>3</th>\n",
       "      <td>Pence Point</td>\n",
       "      <td>43.99</td>\n",
       "      <td>7521</td>\n",
       "      <td>12813.0</td>\n",
       "      <td>48.4%</td>\n",
       "    </tr>\n",
       "    <tr>\n",
       "      <th>4</th>\n",
       "      <td>Alexander Ridge Aid Station</td>\n",
       "      <td>46.90</td>\n",
       "      <td>6160</td>\n",
       "      <td>13169.0</td>\n",
       "      <td>49.8%</td>\n",
       "    </tr>\n",
       "    <tr>\n",
       "      <th>5</th>\n",
       "      <td>Alexander Springs</td>\n",
       "      <td>47.97</td>\n",
       "      <td>5956</td>\n",
       "      <td>13319.0</td>\n",
       "      <td>50.3%</td>\n",
       "    </tr>\n",
       "    <tr>\n",
       "      <th>6</th>\n",
       "      <td>Rogers Trail junction</td>\n",
       "      <td>49.52</td>\n",
       "      <td>6698</td>\n",
       "      <td>13967.0</td>\n",
       "      <td>52.8%</td>\n",
       "    </tr>\n",
       "    <tr>\n",
       "      <th>7</th>\n",
       "      <td>Rogers Saddle</td>\n",
       "      <td>49.77</td>\n",
       "      <td>6790</td>\n",
       "      <td>14073.0</td>\n",
       "      <td>53.2%</td>\n",
       "    </tr>\n",
       "    <tr>\n",
       "      <th>8</th>\n",
       "      <td>Railroad Bed</td>\n",
       "      <td>50.15</td>\n",
       "      <td>6520</td>\n",
       "      <td>1.0</td>\n",
       "      <td>1</td>\n",
       "    </tr>\n",
       "    <tr>\n",
       "      <th>9</th>\n",
       "      <td>Lambs Canyon Underpass Aid Station</td>\n",
       "      <td>52.48</td>\n",
       "      <td>6111</td>\n",
       "      <td>14329.0</td>\n",
       "      <td>54.2%</td>\n",
       "    </tr>\n",
       "  </tbody>\n",
       "</table>\n",
       "</div>"
      ],
      "text/plain": [
       "                             LOCATION  MILES  ELEVATION    CUMUL % CUMUL GAIN\n",
       "0       Big Mountain Pass Aid Station  39.07       7432  11579.0        43.8%\n",
       "1                    Mules Ear Meadow  40.75       7478  12008.0        45.4%\n",
       "2                       Bald Mountain  42.46       7869  12593.0        47.6%\n",
       "3                         Pence Point  43.99       7521  12813.0        48.4%\n",
       "4         Alexander Ridge Aid Station  46.90       6160  13169.0        49.8%\n",
       "5                   Alexander Springs  47.97       5956  13319.0        50.3%\n",
       "6               Rogers Trail junction  49.52       6698  13967.0        52.8%\n",
       "7                       Rogers Saddle  49.77       6790  14073.0        53.2%\n",
       "8                        Railroad Bed  50.15       6520      1.0            1\n",
       "9  Lambs Canyon Underpass Aid Station  52.48       6111  14329.0        54.2%"
      ]
     },
     "execution_count": 121,
     "metadata": {},
     "output_type": "execute_result"
    }
   ],
   "source": [
    "df.fillna(1)"
   ]
  },
  {
   "cell_type": "code",
   "execution_count": 122,
   "id": "d3d70f55",
   "metadata": {},
   "outputs": [
    {
     "data": {
      "text/html": [
       "<div>\n",
       "<style scoped>\n",
       "    .dataframe tbody tr th:only-of-type {\n",
       "        vertical-align: middle;\n",
       "    }\n",
       "\n",
       "    .dataframe tbody tr th {\n",
       "        vertical-align: top;\n",
       "    }\n",
       "\n",
       "    .dataframe thead th {\n",
       "        text-align: right;\n",
       "    }\n",
       "</style>\n",
       "<table border=\"1\" class=\"dataframe\">\n",
       "  <thead>\n",
       "    <tr style=\"text-align: right;\">\n",
       "      <th></th>\n",
       "      <th>LOCATION</th>\n",
       "      <th>MILES</th>\n",
       "      <th>ELEVATION</th>\n",
       "      <th>CUMUL</th>\n",
       "      <th>% CUMUL GAIN</th>\n",
       "    </tr>\n",
       "  </thead>\n",
       "  <tbody>\n",
       "    <tr>\n",
       "      <th>0</th>\n",
       "      <td>Big Mountain Pass Aid Station</td>\n",
       "      <td>39.07</td>\n",
       "      <td>7432</td>\n",
       "      <td>11579.0</td>\n",
       "      <td>43.8%</td>\n",
       "    </tr>\n",
       "    <tr>\n",
       "      <th>1</th>\n",
       "      <td>Mules Ear Meadow</td>\n",
       "      <td>40.75</td>\n",
       "      <td>7478</td>\n",
       "      <td>12008.0</td>\n",
       "      <td>45.4%</td>\n",
       "    </tr>\n",
       "    <tr>\n",
       "      <th>2</th>\n",
       "      <td>Bald Mountain</td>\n",
       "      <td>42.46</td>\n",
       "      <td>7869</td>\n",
       "      <td>12593.0</td>\n",
       "      <td>47.6%</td>\n",
       "    </tr>\n",
       "    <tr>\n",
       "      <th>3</th>\n",
       "      <td>Pence Point</td>\n",
       "      <td>43.99</td>\n",
       "      <td>7521</td>\n",
       "      <td>12813.0</td>\n",
       "      <td>48.4%</td>\n",
       "    </tr>\n",
       "    <tr>\n",
       "      <th>4</th>\n",
       "      <td>Alexander Ridge Aid Station</td>\n",
       "      <td>46.90</td>\n",
       "      <td>6160</td>\n",
       "      <td>13169.0</td>\n",
       "      <td>49.8%</td>\n",
       "    </tr>\n",
       "    <tr>\n",
       "      <th>5</th>\n",
       "      <td>Alexander Springs</td>\n",
       "      <td>47.97</td>\n",
       "      <td>5956</td>\n",
       "      <td>13319.0</td>\n",
       "      <td>50.3%</td>\n",
       "    </tr>\n",
       "    <tr>\n",
       "      <th>6</th>\n",
       "      <td>Rogers Trail junction</td>\n",
       "      <td>49.52</td>\n",
       "      <td>6698</td>\n",
       "      <td>13967.0</td>\n",
       "      <td>52.8%</td>\n",
       "    </tr>\n",
       "    <tr>\n",
       "      <th>7</th>\n",
       "      <td>Rogers Saddle</td>\n",
       "      <td>49.77</td>\n",
       "      <td>6790</td>\n",
       "      <td>14073.0</td>\n",
       "      <td>53.2%</td>\n",
       "    </tr>\n",
       "    <tr>\n",
       "      <th>8</th>\n",
       "      <td>Railroad Bed</td>\n",
       "      <td>50.15</td>\n",
       "      <td>6520</td>\n",
       "      <td>NaN</td>\n",
       "      <td>NaN</td>\n",
       "    </tr>\n",
       "    <tr>\n",
       "      <th>9</th>\n",
       "      <td>Lambs Canyon Underpass Aid Station</td>\n",
       "      <td>52.48</td>\n",
       "      <td>6111</td>\n",
       "      <td>14329.0</td>\n",
       "      <td>54.2%</td>\n",
       "    </tr>\n",
       "  </tbody>\n",
       "</table>\n",
       "</div>"
      ],
      "text/plain": [
       "                             LOCATION  MILES  ELEVATION    CUMUL % CUMUL GAIN\n",
       "0       Big Mountain Pass Aid Station  39.07       7432  11579.0        43.8%\n",
       "1                    Mules Ear Meadow  40.75       7478  12008.0        45.4%\n",
       "2                       Bald Mountain  42.46       7869  12593.0        47.6%\n",
       "3                         Pence Point  43.99       7521  12813.0        48.4%\n",
       "4         Alexander Ridge Aid Station  46.90       6160  13169.0        49.8%\n",
       "5                   Alexander Springs  47.97       5956  13319.0        50.3%\n",
       "6               Rogers Trail junction  49.52       6698  13967.0        52.8%\n",
       "7                       Rogers Saddle  49.77       6790  14073.0        53.2%\n",
       "8                        Railroad Bed  50.15       6520      NaN          NaN\n",
       "9  Lambs Canyon Underpass Aid Station  52.48       6111  14329.0        54.2%"
      ]
     },
     "execution_count": 122,
     "metadata": {},
     "output_type": "execute_result"
    }
   ],
   "source": [
    "df"
   ]
  },
  {
   "cell_type": "code",
   "execution_count": null,
   "id": "f1408837",
   "metadata": {},
   "outputs": [],
   "source": []
  },
  {
   "cell_type": "code",
   "execution_count": 124,
   "id": "2f8d6ecd",
   "metadata": {},
   "outputs": [
    {
     "data": {
      "text/plain": [
       "Railroad Bed                          1\n",
       "Rogers Trail junction                 1\n",
       "Alexander Springs                     1\n",
       "Big Mountain Pass Aid Station         1\n",
       "Alexander Ridge Aid Station           1\n",
       "Bald Mountain                         1\n",
       "Rogers Saddle                         1\n",
       "Pence Point                           1\n",
       "Lambs Canyon Underpass Aid Station    1\n",
       "Mules Ear Meadow                      1\n",
       "Name: LOCATION, dtype: int64"
      ]
     },
     "execution_count": 124,
     "metadata": {},
     "output_type": "execute_result"
    }
   ],
   "source": [
    "df['LOCATION'].value_counts()"
   ]
  },
  {
   "cell_type": "code",
   "execution_count": 129,
   "id": "c4471d87",
   "metadata": {},
   "outputs": [
    {
     "data": {
      "text/html": [
       "<div>\n",
       "<style scoped>\n",
       "    .dataframe tbody tr th:only-of-type {\n",
       "        vertical-align: middle;\n",
       "    }\n",
       "\n",
       "    .dataframe tbody tr th {\n",
       "        vertical-align: top;\n",
       "    }\n",
       "\n",
       "    .dataframe thead th {\n",
       "        text-align: right;\n",
       "    }\n",
       "</style>\n",
       "<table border=\"1\" class=\"dataframe\">\n",
       "  <thead>\n",
       "    <tr style=\"text-align: right;\">\n",
       "      <th></th>\n",
       "      <th>MILES</th>\n",
       "      <th>ELEVATION</th>\n",
       "      <th>CUMUL</th>\n",
       "    </tr>\n",
       "  </thead>\n",
       "  <tbody>\n",
       "    <tr>\n",
       "      <th>MILES</th>\n",
       "      <td>1.000000</td>\n",
       "      <td>-0.783780</td>\n",
       "      <td>0.986613</td>\n",
       "    </tr>\n",
       "    <tr>\n",
       "      <th>ELEVATION</th>\n",
       "      <td>-0.783780</td>\n",
       "      <td>1.000000</td>\n",
       "      <td>-0.674333</td>\n",
       "    </tr>\n",
       "    <tr>\n",
       "      <th>CUMUL</th>\n",
       "      <td>0.986613</td>\n",
       "      <td>-0.674333</td>\n",
       "      <td>1.000000</td>\n",
       "    </tr>\n",
       "  </tbody>\n",
       "</table>\n",
       "</div>"
      ],
      "text/plain": [
       "              MILES  ELEVATION     CUMUL\n",
       "MILES      1.000000  -0.783780  0.986613\n",
       "ELEVATION -0.783780   1.000000 -0.674333\n",
       "CUMUL      0.986613  -0.674333  1.000000"
      ]
     },
     "execution_count": 129,
     "metadata": {},
     "output_type": "execute_result"
    }
   ],
   "source": [
    "df.corr()"
   ]
  },
  {
   "cell_type": "code",
   "execution_count": 131,
   "id": "5172031c",
   "metadata": {},
   "outputs": [
    {
     "data": {
      "text/plain": [
       "<Figure size 432x288 with 0 Axes>"
      ]
     },
     "metadata": {},
     "output_type": "display_data"
    },
    {
     "data": {
      "image/png": "[encoded data removed]",
      "text/plain": [
       "<Figure size 432x288 with 1 Axes>"
      ]
     },
     "metadata": {
      "needs_background": "light"
     },
     "output_type": "display_data"
    }
   ],
   "source": [
    "fig=plt.figure()\n",
    "df.plot()\n",
    "fig.savefig('exampleDemo2.png')"
   ]
  },
  {
   "cell_type": "code",
   "execution_count": 133,
   "id": "601791ec",
   "metadata": {},
   "outputs": [
    {
     "data": {
      "image/png": "[encoded data removed]",
      "text/plain": [
       "<Figure size 432x288 with 2 Axes>"
      ]
     },
     "metadata": {
      "needs_background": "light"
     },
     "output_type": "display_data"
    }
   ],
   "source": [
    "fig=plt.figure()\n",
    "ax=fig.add_subplot(111)\n",
    "df.plot(x='LOCATION', y=['ELEVATION', 'CUMUL'], ax=ax)\n",
    "df.plot(x='LOCATION', y='MILES', secondary_y=True, ax=ax)\n",
    "ax.set_ylabel('ELEVATION (feet)')\n",
    "ax.right_ax.set_ylabel('Distance (mile)')\n",
    "fig.autofmt_xdate()\n",
    "fig.savefig('exampleDemo2.png', bbox_inches='tight')\n"
   ]
  },
  {
   "cell_type": "code",
   "execution_count": 135,
   "id": "de9dea13",
   "metadata": {},
   "outputs": [
    {
     "data": {
      "text/html": [
       "<div>\n",
       "<style scoped>\n",
       "    .dataframe tbody tr th:only-of-type {\n",
       "        vertical-align: middle;\n",
       "    }\n",
       "\n",
       "    .dataframe tbody tr th {\n",
       "        vertical-align: top;\n",
       "    }\n",
       "\n",
       "    .dataframe thead th {\n",
       "        text-align: right;\n",
       "    }\n",
       "</style>\n",
       "<table border=\"1\" class=\"dataframe\">\n",
       "  <thead>\n",
       "    <tr style=\"text-align: right;\">\n",
       "      <th></th>\n",
       "      <th>LOCATION</th>\n",
       "      <th>MILES</th>\n",
       "      <th>ELEVATION</th>\n",
       "      <th>CUMUL</th>\n",
       "      <th>% CUMUL GAIN</th>\n",
       "    </tr>\n",
       "  </thead>\n",
       "  <tbody>\n",
       "    <tr>\n",
       "      <th>0</th>\n",
       "      <td>Big Mountain Pass Aid Station</td>\n",
       "      <td>39.07</td>\n",
       "      <td>7432</td>\n",
       "      <td>11579.0</td>\n",
       "      <td>43.8%</td>\n",
       "    </tr>\n",
       "    <tr>\n",
       "      <th>1</th>\n",
       "      <td>Mules Ear Meadow</td>\n",
       "      <td>40.75</td>\n",
       "      <td>7478</td>\n",
       "      <td>12008.0</td>\n",
       "      <td>45.4%</td>\n",
       "    </tr>\n",
       "    <tr>\n",
       "      <th>2</th>\n",
       "      <td>Bald Mountain</td>\n",
       "      <td>42.46</td>\n",
       "      <td>7869</td>\n",
       "      <td>12593.0</td>\n",
       "      <td>47.6%</td>\n",
       "    </tr>\n",
       "    <tr>\n",
       "      <th>3</th>\n",
       "      <td>Pence Point</td>\n",
       "      <td>43.99</td>\n",
       "      <td>7521</td>\n",
       "      <td>12813.0</td>\n",
       "      <td>48.4%</td>\n",
       "    </tr>\n",
       "    <tr>\n",
       "      <th>4</th>\n",
       "      <td>Alexander Ridge Aid Station</td>\n",
       "      <td>46.90</td>\n",
       "      <td>6160</td>\n",
       "      <td>13169.0</td>\n",
       "      <td>49.8%</td>\n",
       "    </tr>\n",
       "    <tr>\n",
       "      <th>6</th>\n",
       "      <td>Rogers Trail junction</td>\n",
       "      <td>49.52</td>\n",
       "      <td>6698</td>\n",
       "      <td>13967.0</td>\n",
       "      <td>52.8%</td>\n",
       "    </tr>\n",
       "    <tr>\n",
       "      <th>7</th>\n",
       "      <td>Rogers Saddle</td>\n",
       "      <td>49.77</td>\n",
       "      <td>6790</td>\n",
       "      <td>14073.0</td>\n",
       "      <td>53.2%</td>\n",
       "    </tr>\n",
       "    <tr>\n",
       "      <th>8</th>\n",
       "      <td>Railroad Bed</td>\n",
       "      <td>50.15</td>\n",
       "      <td>6520</td>\n",
       "      <td>NaN</td>\n",
       "      <td>NaN</td>\n",
       "    </tr>\n",
       "  </tbody>\n",
       "</table>\n",
       "</div>"
      ],
      "text/plain": [
       "                        LOCATION  MILES  ELEVATION    CUMUL % CUMUL GAIN\n",
       "0  Big Mountain Pass Aid Station  39.07       7432  11579.0        43.8%\n",
       "1               Mules Ear Meadow  40.75       7478  12008.0        45.4%\n",
       "2                  Bald Mountain  42.46       7869  12593.0        47.6%\n",
       "3                    Pence Point  43.99       7521  12813.0        48.4%\n",
       "4    Alexander Ridge Aid Station  46.90       6160  13169.0        49.8%\n",
       "6          Rogers Trail junction  49.52       6698  13967.0        52.8%\n",
       "7                  Rogers Saddle  49.77       6790  14073.0        53.2%\n",
       "8                   Railroad Bed  50.15       6520      NaN          NaN"
      ]
     },
     "execution_count": 135,
     "metadata": {},
     "output_type": "execute_result"
    }
   ],
   "source": [
    "df.drop(df.index[5:10:4])"
   ]
  },
  {
   "cell_type": "markdown",
   "id": "2cb35bea",
   "metadata": {},
   "source": [
    "# Data Frame Methods"
   ]
  },
  {
   "cell_type": "code",
   "execution_count": 137,
   "id": "718ec385",
   "metadata": {},
   "outputs": [],
   "source": [
    "sales=pd.read_csv('demo4.csv')"
   ]
  },
  {
   "cell_type": "code",
   "execution_count": 138,
   "id": "92744fb8",
   "metadata": {},
   "outputs": [
    {
     "data": {
      "text/html": [
       "<div>\n",
       "<style scoped>\n",
       "    .dataframe tbody tr th:only-of-type {\n",
       "        vertical-align: middle;\n",
       "    }\n",
       "\n",
       "    .dataframe tbody tr th {\n",
       "        vertical-align: top;\n",
       "    }\n",
       "\n",
       "    .dataframe thead th {\n",
       "        text-align: right;\n",
       "    }\n",
       "</style>\n",
       "<table border=\"1\" class=\"dataframe\">\n",
       "  <thead>\n",
       "    <tr style=\"text-align: right;\">\n",
       "      <th></th>\n",
       "      <th>UPC</th>\n",
       "      <th>Units</th>\n",
       "      <th>Sales</th>\n",
       "      <th>Date</th>\n",
       "    </tr>\n",
       "  </thead>\n",
       "  <tbody>\n",
       "    <tr>\n",
       "      <th>0</th>\n",
       "      <td>1234</td>\n",
       "      <td>5.0</td>\n",
       "      <td>20.2</td>\n",
       "      <td>1-1-2014</td>\n",
       "    </tr>\n",
       "    <tr>\n",
       "      <th>1</th>\n",
       "      <td>1234</td>\n",
       "      <td>2.0</td>\n",
       "      <td>8.0</td>\n",
       "      <td>1-2-2014</td>\n",
       "    </tr>\n",
       "    <tr>\n",
       "      <th>2</th>\n",
       "      <td>1234</td>\n",
       "      <td>3.0</td>\n",
       "      <td>13.0</td>\n",
       "      <td>1-3-2014</td>\n",
       "    </tr>\n",
       "    <tr>\n",
       "      <th>3</th>\n",
       "      <td>789</td>\n",
       "      <td>1.0</td>\n",
       "      <td>2.0</td>\n",
       "      <td>1-1-2014</td>\n",
       "    </tr>\n",
       "    <tr>\n",
       "      <th>4</th>\n",
       "      <td>789</td>\n",
       "      <td>2.0</td>\n",
       "      <td>3.8</td>\n",
       "      <td>1-2-2014</td>\n",
       "    </tr>\n",
       "    <tr>\n",
       "      <th>5</th>\n",
       "      <td>789</td>\n",
       "      <td>NaN</td>\n",
       "      <td>NaN</td>\n",
       "      <td>1-3-2014</td>\n",
       "    </tr>\n",
       "    <tr>\n",
       "      <th>6</th>\n",
       "      <td>789</td>\n",
       "      <td>1.0</td>\n",
       "      <td>1.8</td>\n",
       "      <td>1-5-2014</td>\n",
       "    </tr>\n",
       "  </tbody>\n",
       "</table>\n",
       "</div>"
      ],
      "text/plain": [
       "    UPC  Units  Sales      Date\n",
       "0  1234    5.0   20.2  1-1-2014\n",
       "1  1234    2.0    8.0  1-2-2014\n",
       "2  1234    3.0   13.0  1-3-2014\n",
       "3   789    1.0    2.0  1-1-2014\n",
       "4   789    2.0    3.8  1-2-2014\n",
       "5   789    NaN    NaN  1-3-2014\n",
       "6   789    1.0    1.8  1-5-2014"
      ]
     },
     "execution_count": 138,
     "metadata": {},
     "output_type": "execute_result"
    }
   ],
   "source": [
    "sales"
   ]
  },
  {
   "cell_type": "code",
   "execution_count": 139,
   "id": "5a6e13ca",
   "metadata": {},
   "outputs": [
    {
     "data": {
      "text/plain": [
       "[RangeIndex(start=0, stop=7, step=1),\n",
       " Index([' UPC', 'Units', 'Sales', 'Date'], dtype='object')]"
      ]
     },
     "execution_count": 139,
     "metadata": {},
     "output_type": "execute_result"
    }
   ],
   "source": [
    "sales.axes"
   ]
  },
  {
   "cell_type": "code",
   "execution_count": 140,
   "id": "6dd82d92",
   "metadata": {},
   "outputs": [
    {
     "data": {
      "text/plain": [
       "Index([' UPC', 'Units', 'Sales', 'Date'], dtype='object')"
      ]
     },
     "execution_count": 140,
     "metadata": {},
     "output_type": "execute_result"
    }
   ],
   "source": [
    "sales.columns\n"
   ]
  },
  {
   "cell_type": "code",
   "execution_count": 141,
   "id": "ef1d9116",
   "metadata": {},
   "outputs": [
    {
     "data": {
      "text/plain": [
       "(7, 4)"
      ]
     },
     "execution_count": 141,
     "metadata": {},
     "output_type": "execute_result"
    }
   ],
   "source": [
    "sales.shape"
   ]
  },
  {
   "cell_type": "code",
   "execution_count": 142,
   "id": "aa319565",
   "metadata": {},
   "outputs": [
    {
     "name": "stdout",
     "output_type": "stream",
     "text": [
      "<class 'pandas.core.frame.DataFrame'>\n",
      "RangeIndex: 7 entries, 0 to 6\n",
      "Data columns (total 4 columns):\n",
      " #   Column  Non-Null Count  Dtype  \n",
      "---  ------  --------------  -----  \n",
      " 0    UPC    7 non-null      int64  \n",
      " 1   Units   6 non-null      float64\n",
      " 2   Sales   6 non-null      float64\n",
      " 3   Date    7 non-null      object \n",
      "dtypes: float64(2), int64(1), object(1)\n",
      "memory usage: 352.0+ bytes\n"
     ]
    }
   ],
   "source": [
    "sales.info()"
   ]
  },
  {
   "cell_type": "code",
   "execution_count": null,
   "id": "fa64aa6f",
   "metadata": {},
   "outputs": [],
   "source": []
  },
  {
   "cell_type": "code",
   "execution_count": 143,
   "id": "e3ef94a7",
   "metadata": {},
   "outputs": [
    {
     "name": "stdout",
     "output_type": "stream",
     "text": [
      " UPC\n",
      "Units\n",
      "Sales\n",
      "Date\n"
     ]
    }
   ],
   "source": [
    "for column in sales:\n",
    "    print(column)"
   ]
  },
  {
   "cell_type": "code",
   "execution_count": 144,
   "id": "39513065",
   "metadata": {},
   "outputs": [
    {
     "name": "stdout",
     "output_type": "stream",
     "text": [
      " UPC\n",
      "Units\n",
      "Sales\n",
      "Date\n"
     ]
    }
   ],
   "source": [
    "for column in sales.keys():\n",
    "    print(column)"
   ]
  },
  {
   "cell_type": "code",
   "execution_count": 145,
   "id": "7d7ac3a2",
   "metadata": {},
   "outputs": [
    {
     "data": {
      "text/plain": [
       "True"
      ]
     },
     "execution_count": 145,
     "metadata": {},
     "output_type": "execute_result"
    }
   ],
   "source": [
    "'Units' in sales"
   ]
  },
  {
   "cell_type": "code",
   "execution_count": 146,
   "id": "750bad12",
   "metadata": {},
   "outputs": [
    {
     "name": "stdout",
     "output_type": "stream",
     "text": [
      " UPC 0    1234\n",
      "1    1234\n",
      "2    1234\n",
      "3     789\n",
      "4     789\n",
      "5     789\n",
      "6     789\n",
      "Name:  UPC, dtype: int64\n",
      "Units 0    5.0\n",
      "1    2.0\n",
      "2    3.0\n",
      "3    1.0\n",
      "4    2.0\n",
      "5    NaN\n",
      "6    1.0\n",
      "Name: Units, dtype: float64\n",
      "Sales 0    20.2\n",
      "1     8.0\n",
      "2    13.0\n",
      "3     2.0\n",
      "4     3.8\n",
      "5     NaN\n",
      "6     1.8\n",
      "Name: Sales, dtype: float64\n",
      "Date 0    1-1-2014\n",
      "1    1-2-2014\n",
      "2    1-3-2014\n",
      "3    1-1-2014\n",
      "4    1-2-2014\n",
      "5    1-3-2014\n",
      "6    1-5-2014\n",
      "Name: Date, dtype: object\n"
     ]
    }
   ],
   "source": [
    "for col, ser in sales.iteritems():\n",
    "    print(col, ser)"
   ]
  },
  {
   "cell_type": "code",
   "execution_count": 147,
   "id": "b1e0120c",
   "metadata": {},
   "outputs": [
    {
     "name": "stdout",
     "output_type": "stream",
     "text": [
      "(0,  UPC         1234\n",
      "Units         5.0\n",
      "Sales        20.2\n",
      "Date     1-1-2014\n",
      "Name: 0, dtype: object)\n",
      "(1,  UPC         1234\n",
      "Units         2.0\n",
      "Sales         8.0\n",
      "Date     1-2-2014\n",
      "Name: 1, dtype: object)\n",
      "(2,  UPC         1234\n",
      "Units         3.0\n",
      "Sales        13.0\n",
      "Date     1-3-2014\n",
      "Name: 2, dtype: object)\n",
      "(3,  UPC          789\n",
      "Units         1.0\n",
      "Sales         2.0\n",
      "Date     1-1-2014\n",
      "Name: 3, dtype: object)\n",
      "(4,  UPC          789\n",
      "Units         2.0\n",
      "Sales         3.8\n",
      "Date     1-2-2014\n",
      "Name: 4, dtype: object)\n",
      "(5,  UPC          789\n",
      "Units         NaN\n",
      "Sales         NaN\n",
      "Date     1-3-2014\n",
      "Name: 5, dtype: object)\n",
      "(6,  UPC          789\n",
      "Units         1.0\n",
      "Sales         1.8\n",
      "Date     1-5-2014\n",
      "Name: 6, dtype: object)\n"
     ]
    }
   ],
   "source": [
    "for row in sales.iterrows():\n",
    "    print(row)"
   ]
  },
  {
   "cell_type": "code",
   "execution_count": 148,
   "id": "fee0153e",
   "metadata": {},
   "outputs": [
    {
     "name": "stdout",
     "output_type": "stream",
     "text": [
      "Pandas(Index=0, _1=1234, Units=5.0, Sales=20.2, Date='1-1-2014')\n",
      "Pandas(Index=1, _1=1234, Units=2.0, Sales=8.0, Date='1-2-2014')\n",
      "Pandas(Index=2, _1=1234, Units=3.0, Sales=13.0, Date='1-3-2014')\n",
      "Pandas(Index=3, _1=789, Units=1.0, Sales=2.0, Date='1-1-2014')\n",
      "Pandas(Index=4, _1=789, Units=2.0, Sales=3.8, Date='1-2-2014')\n",
      "Pandas(Index=5, _1=789, Units=nan, Sales=nan, Date='1-3-2014')\n",
      "Pandas(Index=6, _1=789, Units=1.0, Sales=1.8, Date='1-5-2014')\n"
     ]
    }
   ],
   "source": [
    "for row in sales.itertuples():\n",
    "    print(row)"
   ]
  },
  {
   "cell_type": "code",
   "execution_count": null,
   "id": "6c537125",
   "metadata": {},
   "outputs": [],
   "source": []
  },
  {
   "cell_type": "code",
   "execution_count": 149,
   "id": "40962855",
   "metadata": {},
   "outputs": [],
   "source": [
    "import collections"
   ]
  },
  {
   "cell_type": "code",
   "execution_count": 150,
   "id": "30899b58",
   "metadata": {},
   "outputs": [],
   "source": [
    "Sales=collections.namedtuple('Sales', 'upc, units, sales')\n"
   ]
  },
  {
   "cell_type": "code",
   "execution_count": 152,
   "id": "d9bf5485",
   "metadata": {},
   "outputs": [
    {
     "data": {
      "text/html": [
       "<div>\n",
       "<style scoped>\n",
       "    .dataframe tbody tr th:only-of-type {\n",
       "        vertical-align: middle;\n",
       "    }\n",
       "\n",
       "    .dataframe tbody tr th {\n",
       "        vertical-align: top;\n",
       "    }\n",
       "\n",
       "    .dataframe thead th {\n",
       "        text-align: right;\n",
       "    }\n",
       "</style>\n",
       "<table border=\"1\" class=\"dataframe\">\n",
       "  <thead>\n",
       "    <tr style=\"text-align: right;\">\n",
       "      <th></th>\n",
       "      <th>Sales</th>\n",
       "      <th>Units</th>\n",
       "    </tr>\n",
       "  </thead>\n",
       "  <tbody>\n",
       "    <tr>\n",
       "      <th>0</th>\n",
       "      <td>30.2</td>\n",
       "      <td>15.0</td>\n",
       "    </tr>\n",
       "    <tr>\n",
       "      <th>1</th>\n",
       "      <td>18.0</td>\n",
       "      <td>12.0</td>\n",
       "    </tr>\n",
       "    <tr>\n",
       "      <th>2</th>\n",
       "      <td>23.0</td>\n",
       "      <td>13.0</td>\n",
       "    </tr>\n",
       "    <tr>\n",
       "      <th>3</th>\n",
       "      <td>12.0</td>\n",
       "      <td>11.0</td>\n",
       "    </tr>\n",
       "    <tr>\n",
       "      <th>4</th>\n",
       "      <td>13.8</td>\n",
       "      <td>12.0</td>\n",
       "    </tr>\n",
       "    <tr>\n",
       "      <th>5</th>\n",
       "      <td>NaN</td>\n",
       "      <td>NaN</td>\n",
       "    </tr>\n",
       "    <tr>\n",
       "      <th>6</th>\n",
       "      <td>11.8</td>\n",
       "      <td>11.0</td>\n",
       "    </tr>\n",
       "  </tbody>\n",
       "</table>\n",
       "</div>"
      ],
      "text/plain": [
       "   Sales  Units\n",
       "0   30.2   15.0\n",
       "1   18.0   12.0\n",
       "2   23.0   13.0\n",
       "3   12.0   11.0\n",
       "4   13.8   12.0\n",
       "5    NaN    NaN\n",
       "6   11.8   11.0"
      ]
     },
     "execution_count": 152,
     "metadata": {},
     "output_type": "execute_result"
    }
   ],
   "source": [
    "sales[['Sales', 'Units']]+10"
   ]
  },
  {
   "cell_type": "code",
   "execution_count": 153,
   "id": "69533f80",
   "metadata": {},
   "outputs": [
    {
     "data": {
      "text/plain": [
       "0    7.0\n",
       "1    4.0\n",
       "2    5.0\n",
       "3    3.0\n",
       "4    4.0\n",
       "5    NaN\n",
       "6    3.0\n",
       "Name: Units, dtype: float64"
      ]
     },
     "execution_count": 153,
     "metadata": {},
     "output_type": "execute_result"
    }
   ],
   "source": [
    "sales.Units+2"
   ]
  },
  {
   "cell_type": "code",
   "execution_count": null,
   "id": "5e60b5c9",
   "metadata": {},
   "outputs": [],
   "source": []
  },
  {
   "cell_type": "code",
   "execution_count": 154,
   "id": "63ada607",
   "metadata": {},
   "outputs": [
    {
     "data": {
      "text/html": [
       "<div>\n",
       "<style scoped>\n",
       "    .dataframe tbody tr th:only-of-type {\n",
       "        vertical-align: middle;\n",
       "    }\n",
       "\n",
       "    .dataframe tbody tr th {\n",
       "        vertical-align: top;\n",
       "    }\n",
       "\n",
       "    .dataframe thead th {\n",
       "        text-align: right;\n",
       "    }\n",
       "</style>\n",
       "<table border=\"1\" class=\"dataframe\">\n",
       "  <thead>\n",
       "    <tr style=\"text-align: right;\">\n",
       "      <th></th>\n",
       "      <th>0</th>\n",
       "      <th>1</th>\n",
       "      <th>2</th>\n",
       "      <th>3</th>\n",
       "      <th>4</th>\n",
       "      <th>5</th>\n",
       "      <th>6</th>\n",
       "    </tr>\n",
       "  </thead>\n",
       "  <tbody>\n",
       "    <tr>\n",
       "      <th>UPC</th>\n",
       "      <td>1234</td>\n",
       "      <td>1234</td>\n",
       "      <td>1234</td>\n",
       "      <td>789</td>\n",
       "      <td>789</td>\n",
       "      <td>789</td>\n",
       "      <td>789</td>\n",
       "    </tr>\n",
       "    <tr>\n",
       "      <th>Units</th>\n",
       "      <td>5.0</td>\n",
       "      <td>2.0</td>\n",
       "      <td>3.0</td>\n",
       "      <td>1.0</td>\n",
       "      <td>2.0</td>\n",
       "      <td>NaN</td>\n",
       "      <td>1.0</td>\n",
       "    </tr>\n",
       "    <tr>\n",
       "      <th>Sales</th>\n",
       "      <td>20.2</td>\n",
       "      <td>8.0</td>\n",
       "      <td>13.0</td>\n",
       "      <td>2.0</td>\n",
       "      <td>3.8</td>\n",
       "      <td>NaN</td>\n",
       "      <td>1.8</td>\n",
       "    </tr>\n",
       "    <tr>\n",
       "      <th>Date</th>\n",
       "      <td>1-1-2014</td>\n",
       "      <td>1-2-2014</td>\n",
       "      <td>1-3-2014</td>\n",
       "      <td>1-1-2014</td>\n",
       "      <td>1-2-2014</td>\n",
       "      <td>1-3-2014</td>\n",
       "      <td>1-5-2014</td>\n",
       "    </tr>\n",
       "  </tbody>\n",
       "</table>\n",
       "</div>"
      ],
      "text/plain": [
       "              0         1         2         3         4         5         6\n",
       " UPC       1234      1234      1234       789       789       789       789\n",
       "Units       5.0       2.0       3.0       1.0       2.0       NaN       1.0\n",
       "Sales      20.2       8.0      13.0       2.0       3.8       NaN       1.8\n",
       "Date   1-1-2014  1-2-2014  1-3-2014  1-1-2014  1-2-2014  1-3-2014  1-5-2014"
      ]
     },
     "execution_count": 154,
     "metadata": {},
     "output_type": "execute_result"
    }
   ],
   "source": [
    "sales.transpose()"
   ]
  },
  {
   "cell_type": "markdown",
   "id": "04b7cde1",
   "metadata": {},
   "source": [
    "# Serialization"
   ]
  },
  {
   "cell_type": "code",
   "execution_count": 157,
   "id": "faac4195",
   "metadata": {},
   "outputs": [
    {
     "ename": "NameError",
     "evalue": "name 'stringIO' is not defined",
     "output_type": "error",
     "traceback": [
      "\u001b[1;31m---------------------------------------------------------------------------\u001b[0m",
      "\u001b[1;31mNameError\u001b[0m                                 Traceback (most recent call last)",
      "\u001b[1;32m<ipython-input-157-b9a37f88716d>\u001b[0m in \u001b[0;36m<module>\u001b[1;34m\u001b[0m\n\u001b[1;32m----> 1\u001b[1;33m \u001b[0mfout\u001b[0m\u001b[1;33m=\u001b[0m\u001b[0mstringIO\u001b[0m\u001b[1;33m(\u001b[0m\u001b[1;33m)\u001b[0m\u001b[1;33m\u001b[0m\u001b[1;33m\u001b[0m\u001b[0m\n\u001b[0m",
      "\u001b[1;31mNameError\u001b[0m: name 'stringIO' is not defined"
     ]
    }
   ],
   "source": [
    "fout=stringIO()"
   ]
  },
  {
   "cell_type": "code",
   "execution_count": 158,
   "id": "9f4e95b0",
   "metadata": {},
   "outputs": [
    {
     "data": {
      "text/plain": [
       "{' UPC': {0: 1234, 1: 1234, 2: 1234, 3: 789, 4: 789, 5: 789, 6: 789},\n",
       " 'Units': {0: 5.0, 1: 2.0, 2: 3.0, 3: 1.0, 4: 2.0, 5: nan, 6: 1.0},\n",
       " 'Sales': {0: 20.2, 1: 8.0, 2: 13.0, 3: 2.0, 4: 3.8, 5: nan, 6: 1.8},\n",
       " 'Date': {0: '1-1-2014',\n",
       "  1: '1-2-2014',\n",
       "  2: '1-3-2014',\n",
       "  3: '1-1-2014',\n",
       "  4: '1-2-2014',\n",
       "  5: '1-3-2014',\n",
       "  6: '1-5-2014'}}"
      ]
     },
     "execution_count": 158,
     "metadata": {},
     "output_type": "execute_result"
    }
   ],
   "source": [
    "sales.to_dict()"
   ]
  },
  {
   "cell_type": "code",
   "execution_count": 159,
   "id": "9a4bdbe4",
   "metadata": {},
   "outputs": [
    {
     "data": {
      "text/plain": [
       "{' UPC': [1234, 1234, 1234, 789, 789, 789, 789],\n",
       " 'Units': [5.0, 2.0, 3.0, 1.0, 2.0, nan, 1.0],\n",
       " 'Sales': [20.2, 8.0, 13.0, 2.0, 3.8, nan, 1.8],\n",
       " 'Date': ['1-1-2014',\n",
       "  '1-2-2014',\n",
       "  '1-3-2014',\n",
       "  '1-1-2014',\n",
       "  '1-2-2014',\n",
       "  '1-3-2014',\n",
       "  '1-5-2014']}"
      ]
     },
     "execution_count": 159,
     "metadata": {},
     "output_type": "execute_result"
    }
   ],
   "source": [
    "sales.to_dict(orient='list')"
   ]
  },
  {
   "cell_type": "code",
   "execution_count": null,
   "id": "24aa23cb",
   "metadata": {},
   "outputs": [],
   "source": []
  },
  {
   "cell_type": "code",
   "execution_count": 160,
   "id": "035a908a",
   "metadata": {},
   "outputs": [
    {
     "data": {
      "text/html": [
       "<div>\n",
       "<style scoped>\n",
       "    .dataframe tbody tr th:only-of-type {\n",
       "        vertical-align: middle;\n",
       "    }\n",
       "\n",
       "    .dataframe tbody tr th {\n",
       "        vertical-align: top;\n",
       "    }\n",
       "\n",
       "    .dataframe thead th {\n",
       "        text-align: right;\n",
       "    }\n",
       "</style>\n",
       "<table border=\"1\" class=\"dataframe\">\n",
       "  <thead>\n",
       "    <tr style=\"text-align: right;\">\n",
       "      <th></th>\n",
       "      <th>UPC</th>\n",
       "      <th>Units</th>\n",
       "      <th>Sales</th>\n",
       "      <th>Date</th>\n",
       "    </tr>\n",
       "  </thead>\n",
       "  <tbody>\n",
       "    <tr>\n",
       "      <th>0</th>\n",
       "      <td>1234</td>\n",
       "      <td>5.0</td>\n",
       "      <td>20.2</td>\n",
       "      <td>1-1-2014</td>\n",
       "    </tr>\n",
       "    <tr>\n",
       "      <th>1</th>\n",
       "      <td>1234</td>\n",
       "      <td>2.0</td>\n",
       "      <td>8.0</td>\n",
       "      <td>1-2-2014</td>\n",
       "    </tr>\n",
       "    <tr>\n",
       "      <th>2</th>\n",
       "      <td>1234</td>\n",
       "      <td>3.0</td>\n",
       "      <td>13.0</td>\n",
       "      <td>1-3-2014</td>\n",
       "    </tr>\n",
       "    <tr>\n",
       "      <th>3</th>\n",
       "      <td>789</td>\n",
       "      <td>1.0</td>\n",
       "      <td>2.0</td>\n",
       "      <td>1-1-2014</td>\n",
       "    </tr>\n",
       "    <tr>\n",
       "      <th>4</th>\n",
       "      <td>789</td>\n",
       "      <td>2.0</td>\n",
       "      <td>3.8</td>\n",
       "      <td>1-2-2014</td>\n",
       "    </tr>\n",
       "    <tr>\n",
       "      <th>5</th>\n",
       "      <td>789</td>\n",
       "      <td>NaN</td>\n",
       "      <td>NaN</td>\n",
       "      <td>1-3-2014</td>\n",
       "    </tr>\n",
       "    <tr>\n",
       "      <th>6</th>\n",
       "      <td>789</td>\n",
       "      <td>1.0</td>\n",
       "      <td>1.8</td>\n",
       "      <td>1-5-2014</td>\n",
       "    </tr>\n",
       "  </tbody>\n",
       "</table>\n",
       "</div>"
      ],
      "text/plain": [
       "    UPC  Units  Sales      Date\n",
       "0  1234    5.0   20.2  1-1-2014\n",
       "1  1234    2.0    8.0  1-2-2014\n",
       "2  1234    3.0   13.0  1-3-2014\n",
       "3   789    1.0    2.0  1-1-2014\n",
       "4   789    2.0    3.8  1-2-2014\n",
       "5   789    NaN    NaN  1-3-2014\n",
       "6   789    1.0    1.8  1-5-2014"
      ]
     },
     "execution_count": 160,
     "metadata": {},
     "output_type": "execute_result"
    }
   ],
   "source": [
    "pd.DataFrame.from_dict(sales.to_dict())"
   ]
  },
  {
   "cell_type": "code",
   "execution_count": 161,
   "id": "081b92c1",
   "metadata": {},
   "outputs": [],
   "source": [
    "writer=pd.ExcelWriter('demo4_excel.xlsx')\n",
    "sales.to_excel(writer, 'sheet1')\n",
    "writer.save()"
   ]
  },
  {
   "cell_type": "code",
   "execution_count": 162,
   "id": "70e4b8da",
   "metadata": {},
   "outputs": [
    {
     "data": {
      "text/html": [
       "<div>\n",
       "<style scoped>\n",
       "    .dataframe tbody tr th:only-of-type {\n",
       "        vertical-align: middle;\n",
       "    }\n",
       "\n",
       "    .dataframe tbody tr th {\n",
       "        vertical-align: top;\n",
       "    }\n",
       "\n",
       "    .dataframe thead th {\n",
       "        text-align: right;\n",
       "    }\n",
       "</style>\n",
       "<table border=\"1\" class=\"dataframe\">\n",
       "  <thead>\n",
       "    <tr style=\"text-align: right;\">\n",
       "      <th></th>\n",
       "      <th>Unnamed: 0</th>\n",
       "      <th>UPC</th>\n",
       "      <th>Units</th>\n",
       "      <th>Sales</th>\n",
       "      <th>Date</th>\n",
       "    </tr>\n",
       "  </thead>\n",
       "  <tbody>\n",
       "    <tr>\n",
       "      <th>0</th>\n",
       "      <td>0</td>\n",
       "      <td>1234</td>\n",
       "      <td>5.0</td>\n",
       "      <td>20.2</td>\n",
       "      <td>1-1-2014</td>\n",
       "    </tr>\n",
       "    <tr>\n",
       "      <th>1</th>\n",
       "      <td>1</td>\n",
       "      <td>1234</td>\n",
       "      <td>2.0</td>\n",
       "      <td>8.0</td>\n",
       "      <td>1-2-2014</td>\n",
       "    </tr>\n",
       "    <tr>\n",
       "      <th>2</th>\n",
       "      <td>2</td>\n",
       "      <td>1234</td>\n",
       "      <td>3.0</td>\n",
       "      <td>13.0</td>\n",
       "      <td>1-3-2014</td>\n",
       "    </tr>\n",
       "    <tr>\n",
       "      <th>3</th>\n",
       "      <td>3</td>\n",
       "      <td>789</td>\n",
       "      <td>1.0</td>\n",
       "      <td>2.0</td>\n",
       "      <td>1-1-2014</td>\n",
       "    </tr>\n",
       "    <tr>\n",
       "      <th>4</th>\n",
       "      <td>4</td>\n",
       "      <td>789</td>\n",
       "      <td>2.0</td>\n",
       "      <td>3.8</td>\n",
       "      <td>1-2-2014</td>\n",
       "    </tr>\n",
       "    <tr>\n",
       "      <th>5</th>\n",
       "      <td>5</td>\n",
       "      <td>789</td>\n",
       "      <td>NaN</td>\n",
       "      <td>NaN</td>\n",
       "      <td>1-3-2014</td>\n",
       "    </tr>\n",
       "    <tr>\n",
       "      <th>6</th>\n",
       "      <td>6</td>\n",
       "      <td>789</td>\n",
       "      <td>1.0</td>\n",
       "      <td>1.8</td>\n",
       "      <td>1-5-2014</td>\n",
       "    </tr>\n",
       "  </tbody>\n",
       "</table>\n",
       "</div>"
      ],
      "text/plain": [
       "   Unnamed: 0   UPC  Units  Sales      Date\n",
       "0           0  1234    5.0   20.2  1-1-2014\n",
       "1           1  1234    2.0    8.0  1-2-2014\n",
       "2           2  1234    3.0   13.0  1-3-2014\n",
       "3           3   789    1.0    2.0  1-1-2014\n",
       "4           4   789    2.0    3.8  1-2-2014\n",
       "5           5   789    NaN    NaN  1-3-2014\n",
       "6           6   789    1.0    1.8  1-5-2014"
      ]
     },
     "execution_count": 162,
     "metadata": {},
     "output_type": "execute_result"
    }
   ],
   "source": [
    "pd.read_excel('demo4_excel.xlsx')"
   ]
  },
  {
   "cell_type": "code",
   "execution_count": null,
   "id": "c048ea42",
   "metadata": {},
   "outputs": [],
   "source": []
  },
  {
   "cell_type": "code",
   "execution_count": 163,
   "id": "88db96aa",
   "metadata": {},
   "outputs": [
    {
     "name": "stdout",
     "output_type": "stream",
     "text": [
      "Requirement already satisfied: openpyxl in d:\\conda\\lib\\site-packages (3.0.7)\n",
      "Requirement already satisfied: et-xmlfile in d:\\conda\\lib\\site-packages (from openpyxl) (1.0.1)\n",
      "Note: you may need to restart the kernel to use updated packages.\n"
     ]
    }
   ],
   "source": [
    "pip install openpyxl"
   ]
  },
  {
   "cell_type": "code",
   "execution_count": 164,
   "id": "7614caaf",
   "metadata": {},
   "outputs": [
    {
     "name": "stdout",
     "output_type": "stream",
     "text": [
      "Requirement already satisfied: xlrd in d:\\conda\\lib\\site-packages (2.0.1)\n",
      "Requirement already satisfied: xlwt in d:\\conda\\lib\\site-packages (1.3.0)\n",
      "Note: you may need to restart the kernel to use updated packages.\n"
     ]
    }
   ],
   "source": [
    "pip install xlrd xlwt"
   ]
  },
  {
   "cell_type": "markdown",
   "id": "bd53ce11",
   "metadata": {},
   "source": [
    "# Converting DataFrame to Numpy matrix"
   ]
  },
  {
   "cell_type": "code",
   "execution_count": 166,
   "id": "c0dbd25a",
   "metadata": {},
   "outputs": [
    {
     "data": {
      "text/html": [
       "<div>\n",
       "<style scoped>\n",
       "    .dataframe tbody tr th:only-of-type {\n",
       "        vertical-align: middle;\n",
       "    }\n",
       "\n",
       "    .dataframe tbody tr th {\n",
       "        vertical-align: top;\n",
       "    }\n",
       "\n",
       "    .dataframe thead th {\n",
       "        text-align: right;\n",
       "    }\n",
       "</style>\n",
       "<table border=\"1\" class=\"dataframe\">\n",
       "  <thead>\n",
       "    <tr style=\"text-align: right;\">\n",
       "      <th></th>\n",
       "      <th>UPC</th>\n",
       "      <th>Units</th>\n",
       "      <th>Sales</th>\n",
       "      <th>Date</th>\n",
       "    </tr>\n",
       "  </thead>\n",
       "  <tbody>\n",
       "    <tr>\n",
       "      <th>0</th>\n",
       "      <td>1234</td>\n",
       "      <td>5.0</td>\n",
       "      <td>20.2</td>\n",
       "      <td>1-1-2014</td>\n",
       "    </tr>\n",
       "    <tr>\n",
       "      <th>4</th>\n",
       "      <td>789</td>\n",
       "      <td>2.0</td>\n",
       "      <td>3.8</td>\n",
       "      <td>1-2-2014</td>\n",
       "    </tr>\n",
       "  </tbody>\n",
       "</table>\n",
       "</div>"
      ],
      "text/plain": [
       "    UPC  Units  Sales      Date\n",
       "0  1234    5.0   20.2  1-1-2014\n",
       "4   789    2.0    3.8  1-2-2014"
      ]
     },
     "execution_count": 166,
     "metadata": {},
     "output_type": "execute_result"
    }
   ],
   "source": [
    "sales.reindex([0, 4])"
   ]
  },
  {
   "cell_type": "code",
   "execution_count": 167,
   "id": "9c8f41ef",
   "metadata": {},
   "outputs": [
    {
     "data": {
      "text/html": [
       "<div>\n",
       "<style scoped>\n",
       "    .dataframe tbody tr th:only-of-type {\n",
       "        vertical-align: middle;\n",
       "    }\n",
       "\n",
       "    .dataframe tbody tr th {\n",
       "        vertical-align: top;\n",
       "    }\n",
       "\n",
       "    .dataframe thead th {\n",
       "        text-align: right;\n",
       "    }\n",
       "</style>\n",
       "<table border=\"1\" class=\"dataframe\">\n",
       "  <thead>\n",
       "    <tr style=\"text-align: right;\">\n",
       "      <th></th>\n",
       "      <th>Date</th>\n",
       "      <th>Sales</th>\n",
       "    </tr>\n",
       "  </thead>\n",
       "  <tbody>\n",
       "    <tr>\n",
       "      <th>0</th>\n",
       "      <td>1-1-2014</td>\n",
       "      <td>20.2</td>\n",
       "    </tr>\n",
       "    <tr>\n",
       "      <th>1</th>\n",
       "      <td>1-2-2014</td>\n",
       "      <td>8.0</td>\n",
       "    </tr>\n",
       "    <tr>\n",
       "      <th>2</th>\n",
       "      <td>1-3-2014</td>\n",
       "      <td>13.0</td>\n",
       "    </tr>\n",
       "    <tr>\n",
       "      <th>3</th>\n",
       "      <td>1-1-2014</td>\n",
       "      <td>2.0</td>\n",
       "    </tr>\n",
       "    <tr>\n",
       "      <th>4</th>\n",
       "      <td>1-2-2014</td>\n",
       "      <td>3.8</td>\n",
       "    </tr>\n",
       "    <tr>\n",
       "      <th>5</th>\n",
       "      <td>1-3-2014</td>\n",
       "      <td>NaN</td>\n",
       "    </tr>\n",
       "    <tr>\n",
       "      <th>6</th>\n",
       "      <td>1-5-2014</td>\n",
       "      <td>1.8</td>\n",
       "    </tr>\n",
       "  </tbody>\n",
       "</table>\n",
       "</div>"
      ],
      "text/plain": [
       "       Date  Sales\n",
       "0  1-1-2014   20.2\n",
       "1  1-2-2014    8.0\n",
       "2  1-3-2014   13.0\n",
       "3  1-1-2014    2.0\n",
       "4  1-2-2014    3.8\n",
       "5  1-3-2014    NaN\n",
       "6  1-5-2014    1.8"
      ]
     },
     "execution_count": 167,
     "metadata": {},
     "output_type": "execute_result"
    }
   ],
   "source": [
    "sales.reindex(columns=['Date', 'Sales'])"
   ]
  },
  {
   "cell_type": "code",
   "execution_count": 168,
   "id": "fc972782",
   "metadata": {},
   "outputs": [
    {
     "data": {
      "text/html": [
       "<div>\n",
       "<style scoped>\n",
       "    .dataframe tbody tr th:only-of-type {\n",
       "        vertical-align: middle;\n",
       "    }\n",
       "\n",
       "    .dataframe tbody tr th {\n",
       "        vertical-align: top;\n",
       "    }\n",
       "\n",
       "    .dataframe thead th {\n",
       "        text-align: right;\n",
       "    }\n",
       "</style>\n",
       "<table border=\"1\" class=\"dataframe\">\n",
       "  <thead>\n",
       "    <tr style=\"text-align: right;\">\n",
       "      <th></th>\n",
       "      <th>Sales</th>\n",
       "      <th>UPC</th>\n",
       "      <th>missing</th>\n",
       "    </tr>\n",
       "  </thead>\n",
       "  <tbody>\n",
       "    <tr>\n",
       "      <th>2</th>\n",
       "      <td>13.0</td>\n",
       "      <td>NaN</td>\n",
       "      <td>NaN</td>\n",
       "    </tr>\n",
       "    <tr>\n",
       "      <th>6</th>\n",
       "      <td>1.8</td>\n",
       "      <td>NaN</td>\n",
       "      <td>NaN</td>\n",
       "    </tr>\n",
       "    <tr>\n",
       "      <th>8</th>\n",
       "      <td>NaN</td>\n",
       "      <td>NaN</td>\n",
       "      <td>NaN</td>\n",
       "    </tr>\n",
       "  </tbody>\n",
       "</table>\n",
       "</div>"
      ],
      "text/plain": [
       "   Sales  UPC  missing\n",
       "2   13.0  NaN      NaN\n",
       "6    1.8  NaN      NaN\n",
       "8    NaN  NaN      NaN"
      ]
     },
     "execution_count": 168,
     "metadata": {},
     "output_type": "execute_result"
    }
   ],
   "source": [
    "sales.reindex(index=[2, 6, 8], \n",
    "             columns=['Sales', 'UPC', 'missing'])"
   ]
  },
  {
   "cell_type": "code",
   "execution_count": 169,
   "id": "2f0f78fe",
   "metadata": {},
   "outputs": [],
   "source": [
    "by_date=sales.set_index('Date')"
   ]
  },
  {
   "cell_type": "code",
   "execution_count": 170,
   "id": "20d8e8a4",
   "metadata": {},
   "outputs": [
    {
     "data": {
      "text/html": [
       "<div>\n",
       "<style scoped>\n",
       "    .dataframe tbody tr th:only-of-type {\n",
       "        vertical-align: middle;\n",
       "    }\n",
       "\n",
       "    .dataframe tbody tr th {\n",
       "        vertical-align: top;\n",
       "    }\n",
       "\n",
       "    .dataframe thead th {\n",
       "        text-align: right;\n",
       "    }\n",
       "</style>\n",
       "<table border=\"1\" class=\"dataframe\">\n",
       "  <thead>\n",
       "    <tr style=\"text-align: right;\">\n",
       "      <th></th>\n",
       "      <th>UPC</th>\n",
       "      <th>Units</th>\n",
       "      <th>Sales</th>\n",
       "    </tr>\n",
       "    <tr>\n",
       "      <th>Date</th>\n",
       "      <th></th>\n",
       "      <th></th>\n",
       "      <th></th>\n",
       "    </tr>\n",
       "  </thead>\n",
       "  <tbody>\n",
       "    <tr>\n",
       "      <th>1-1-2014</th>\n",
       "      <td>1234</td>\n",
       "      <td>5.0</td>\n",
       "      <td>20.2</td>\n",
       "    </tr>\n",
       "    <tr>\n",
       "      <th>1-2-2014</th>\n",
       "      <td>1234</td>\n",
       "      <td>2.0</td>\n",
       "      <td>8.0</td>\n",
       "    </tr>\n",
       "    <tr>\n",
       "      <th>1-3-2014</th>\n",
       "      <td>1234</td>\n",
       "      <td>3.0</td>\n",
       "      <td>13.0</td>\n",
       "    </tr>\n",
       "    <tr>\n",
       "      <th>1-1-2014</th>\n",
       "      <td>789</td>\n",
       "      <td>1.0</td>\n",
       "      <td>2.0</td>\n",
       "    </tr>\n",
       "    <tr>\n",
       "      <th>1-2-2014</th>\n",
       "      <td>789</td>\n",
       "      <td>2.0</td>\n",
       "      <td>3.8</td>\n",
       "    </tr>\n",
       "    <tr>\n",
       "      <th>1-3-2014</th>\n",
       "      <td>789</td>\n",
       "      <td>NaN</td>\n",
       "      <td>NaN</td>\n",
       "    </tr>\n",
       "    <tr>\n",
       "      <th>1-5-2014</th>\n",
       "      <td>789</td>\n",
       "      <td>1.0</td>\n",
       "      <td>1.8</td>\n",
       "    </tr>\n",
       "  </tbody>\n",
       "</table>\n",
       "</div>"
      ],
      "text/plain": [
       "           UPC  Units  Sales\n",
       "Date                        \n",
       "1-1-2014  1234    5.0   20.2\n",
       "1-2-2014  1234    2.0    8.0\n",
       "1-3-2014  1234    3.0   13.0\n",
       "1-1-2014   789    1.0    2.0\n",
       "1-2-2014   789    2.0    3.8\n",
       "1-3-2014   789    NaN    NaN\n",
       "1-5-2014   789    1.0    1.8"
      ]
     },
     "execution_count": 170,
     "metadata": {},
     "output_type": "execute_result"
    }
   ],
   "source": [
    "by_date"
   ]
  },
  {
   "cell_type": "code",
   "execution_count": 172,
   "id": "bc06d598",
   "metadata": {},
   "outputs": [
    {
     "data": {
      "text/plain": [
       "3.8"
      ]
     },
     "execution_count": 172,
     "metadata": {},
     "output_type": "execute_result"
    }
   ],
   "source": [
    "sales.iat[4, 2]"
   ]
  },
  {
   "cell_type": "code",
   "execution_count": 175,
   "id": "45ced18d",
   "metadata": {},
   "outputs": [
    {
     "data": {
      "text/html": [
       "<div>\n",
       "<style scoped>\n",
       "    .dataframe tbody tr th:only-of-type {\n",
       "        vertical-align: middle;\n",
       "    }\n",
       "\n",
       "    .dataframe tbody tr th {\n",
       "        vertical-align: top;\n",
       "    }\n",
       "\n",
       "    .dataframe thead th {\n",
       "        text-align: right;\n",
       "    }\n",
       "</style>\n",
       "<table border=\"1\" class=\"dataframe\">\n",
       "  <thead>\n",
       "    <tr style=\"text-align: right;\">\n",
       "      <th></th>\n",
       "      <th>UPC</th>\n",
       "      <th>Units</th>\n",
       "      <th>Sales</th>\n",
       "      <th>Date</th>\n",
       "    </tr>\n",
       "  </thead>\n",
       "  <tbody>\n",
       "    <tr>\n",
       "      <th>0</th>\n",
       "      <td>1234</td>\n",
       "      <td>5.0</td>\n",
       "      <td>20.2</td>\n",
       "      <td>1-1-2014</td>\n",
       "    </tr>\n",
       "    <tr>\n",
       "      <th>1</th>\n",
       "      <td>1234</td>\n",
       "      <td>2.0</td>\n",
       "      <td>8.0</td>\n",
       "      <td>1-2-2014</td>\n",
       "    </tr>\n",
       "    <tr>\n",
       "      <th>2</th>\n",
       "      <td>1234</td>\n",
       "      <td>3.0</td>\n",
       "      <td>13.0</td>\n",
       "      <td>1-3-2014</td>\n",
       "    </tr>\n",
       "    <tr>\n",
       "      <th>3</th>\n",
       "      <td>799</td>\n",
       "      <td>1.0</td>\n",
       "      <td>2.0</td>\n",
       "      <td>1-1-2014</td>\n",
       "    </tr>\n",
       "    <tr>\n",
       "      <th>4</th>\n",
       "      <td>799</td>\n",
       "      <td>2.0</td>\n",
       "      <td>3.8</td>\n",
       "      <td>1-2-2014</td>\n",
       "    </tr>\n",
       "    <tr>\n",
       "      <th>5</th>\n",
       "      <td>799</td>\n",
       "      <td>NaN</td>\n",
       "      <td>NaN</td>\n",
       "      <td>1-3-2014</td>\n",
       "    </tr>\n",
       "    <tr>\n",
       "      <th>6</th>\n",
       "      <td>799</td>\n",
       "      <td>1.0</td>\n",
       "      <td>1.8</td>\n",
       "      <td>1-5-2014</td>\n",
       "    </tr>\n",
       "  </tbody>\n",
       "</table>\n",
       "</div>"
      ],
      "text/plain": [
       "    UPC  Units  Sales      Date\n",
       "0  1234    5.0   20.2  1-1-2014\n",
       "1  1234    2.0    8.0  1-2-2014\n",
       "2  1234    3.0   13.0  1-3-2014\n",
       "3   799    1.0    2.0  1-1-2014\n",
       "4   799    2.0    3.8  1-2-2014\n",
       "5   799    NaN    NaN  1-3-2014\n",
       "6   799    1.0    1.8  1-5-2014"
      ]
     },
     "execution_count": 175,
     "metadata": {},
     "output_type": "execute_result"
    }
   ],
   "source": [
    "sales.replace(789, 799)"
   ]
  },
  {
   "cell_type": "code",
   "execution_count": 177,
   "id": "fd0fadf6",
   "metadata": {},
   "outputs": [
    {
     "data": {
      "text/html": [
       "<div>\n",
       "<style scoped>\n",
       "    .dataframe tbody tr th:only-of-type {\n",
       "        vertical-align: middle;\n",
       "    }\n",
       "\n",
       "    .dataframe tbody tr th {\n",
       "        vertical-align: top;\n",
       "    }\n",
       "\n",
       "    .dataframe thead th {\n",
       "        text-align: right;\n",
       "    }\n",
       "</style>\n",
       "<table border=\"1\" class=\"dataframe\">\n",
       "  <thead>\n",
       "    <tr style=\"text-align: right;\">\n",
       "      <th></th>\n",
       "      <th>UPC</th>\n",
       "      <th>Units</th>\n",
       "      <th>Sales</th>\n",
       "      <th>Date</th>\n",
       "    </tr>\n",
       "  </thead>\n",
       "  <tbody>\n",
       "    <tr>\n",
       "      <th>0</th>\n",
       "      <td>1234</td>\n",
       "      <td>5.0</td>\n",
       "      <td>20.2</td>\n",
       "      <td>1-1-2014</td>\n",
       "    </tr>\n",
       "    <tr>\n",
       "      <th>1</th>\n",
       "      <td>1234</td>\n",
       "      <td>2.0</td>\n",
       "      <td>8.0</td>\n",
       "      <td>1-2-2014</td>\n",
       "    </tr>\n",
       "    <tr>\n",
       "      <th>2</th>\n",
       "      <td>1234</td>\n",
       "      <td>3.0</td>\n",
       "      <td>13.0</td>\n",
       "      <td>1-3-2014</td>\n",
       "    </tr>\n",
       "    <tr>\n",
       "      <th>3</th>\n",
       "      <td>789</td>\n",
       "      <td>1.0</td>\n",
       "      <td>2.0</td>\n",
       "      <td>1-1-2014</td>\n",
       "    </tr>\n",
       "    <tr>\n",
       "      <th>4</th>\n",
       "      <td>789</td>\n",
       "      <td>2.0</td>\n",
       "      <td>3.8</td>\n",
       "      <td>1-2-2014</td>\n",
       "    </tr>\n",
       "    <tr>\n",
       "      <th>5</th>\n",
       "      <td>789</td>\n",
       "      <td>NaN</td>\n",
       "      <td>NaN</td>\n",
       "      <td>1-3-2014</td>\n",
       "    </tr>\n",
       "    <tr>\n",
       "      <th>6</th>\n",
       "      <td>789</td>\n",
       "      <td>1.0</td>\n",
       "      <td>1.8</td>\n",
       "      <td>1-5-2014</td>\n",
       "    </tr>\n",
       "  </tbody>\n",
       "</table>\n",
       "</div>"
      ],
      "text/plain": [
       "    UPC  Units  Sales      Date\n",
       "0  1234    5.0   20.2  1-1-2014\n",
       "1  1234    2.0    8.0  1-2-2014\n",
       "2  1234    3.0   13.0  1-3-2014\n",
       "3   789    1.0    2.0  1-1-2014\n",
       "4   789    2.0    3.8  1-2-2014\n",
       "5   789    NaN    NaN  1-3-2014\n",
       "6   789    1.0    1.8  1-5-2014"
      ]
     },
     "execution_count": 177,
     "metadata": {},
     "output_type": "execute_result"
    }
   ],
   "source": [
    "sales.replace({\n",
    "    'UPC':{789: 790},\n",
    "    'Sales':{789: 1.4}})"
   ]
  },
  {
   "cell_type": "code",
   "execution_count": null,
   "id": "fedb2ad0",
   "metadata": {},
   "outputs": [],
   "source": []
  },
  {
   "cell_type": "code",
   "execution_count": 179,
   "id": "72315d38",
   "metadata": {},
   "outputs": [
    {
     "data": {
      "text/html": [
       "<div>\n",
       "<style scoped>\n",
       "    .dataframe tbody tr th:only-of-type {\n",
       "        vertical-align: middle;\n",
       "    }\n",
       "\n",
       "    .dataframe tbody tr th {\n",
       "        vertical-align: top;\n",
       "    }\n",
       "\n",
       "    .dataframe thead th {\n",
       "        text-align: right;\n",
       "    }\n",
       "</style>\n",
       "<table border=\"1\" class=\"dataframe\">\n",
       "  <thead>\n",
       "    <tr style=\"text-align: right;\">\n",
       "      <th></th>\n",
       "      <th>UPC</th>\n",
       "      <th>Units</th>\n",
       "      <th>Sales</th>\n",
       "      <th>Date</th>\n",
       "      <th>subcat</th>\n",
       "    </tr>\n",
       "  </thead>\n",
       "  <tbody>\n",
       "    <tr>\n",
       "      <th>0</th>\n",
       "      <td>1234</td>\n",
       "      <td>5.0</td>\n",
       "      <td>20.2</td>\n",
       "      <td>1-1-2014</td>\n",
       "      <td>Dairy</td>\n",
       "    </tr>\n",
       "    <tr>\n",
       "      <th>1</th>\n",
       "      <td>1234</td>\n",
       "      <td>2.0</td>\n",
       "      <td>8.0</td>\n",
       "      <td>1-2-2014</td>\n",
       "      <td>Dairy</td>\n",
       "    </tr>\n",
       "    <tr>\n",
       "      <th>2</th>\n",
       "      <td>1234</td>\n",
       "      <td>3.0</td>\n",
       "      <td>13.0</td>\n",
       "      <td>1-3-2014</td>\n",
       "      <td>Dairy</td>\n",
       "    </tr>\n",
       "    <tr>\n",
       "      <th>3</th>\n",
       "      <td>789</td>\n",
       "      <td>1.0</td>\n",
       "      <td>2.0</td>\n",
       "      <td>1-1-2014</td>\n",
       "      <td>Dairy</td>\n",
       "    </tr>\n",
       "    <tr>\n",
       "      <th>4</th>\n",
       "      <td>789</td>\n",
       "      <td>2.0</td>\n",
       "      <td>3.8</td>\n",
       "      <td>1-2-2014</td>\n",
       "      <td>Dairy</td>\n",
       "    </tr>\n",
       "    <tr>\n",
       "      <th>5</th>\n",
       "      <td>789</td>\n",
       "      <td>NaN</td>\n",
       "      <td>NaN</td>\n",
       "      <td>1-3-2014</td>\n",
       "      <td>Dairy</td>\n",
       "    </tr>\n",
       "    <tr>\n",
       "      <th>6</th>\n",
       "      <td>789</td>\n",
       "      <td>1.0</td>\n",
       "      <td>1.8</td>\n",
       "      <td>1-5-2014</td>\n",
       "      <td>Dairy</td>\n",
       "    </tr>\n",
       "  </tbody>\n",
       "</table>\n",
       "</div>"
      ],
      "text/plain": [
       "    UPC  Units  Sales      Date subcat\n",
       "0  1234    5.0   20.2  1-1-2014  Dairy\n",
       "1  1234    2.0    8.0  1-2-2014  Dairy\n",
       "2  1234    3.0   13.0  1-3-2014  Dairy\n",
       "3   789    1.0    2.0  1-1-2014  Dairy\n",
       "4   789    2.0    3.8  1-2-2014  Dairy\n",
       "5   789    NaN    NaN  1-3-2014  Dairy\n",
       "6   789    1.0    1.8  1-5-2014  Dairy"
      ]
     },
     "execution_count": 179,
     "metadata": {},
     "output_type": "execute_result"
    }
   ],
   "source": [
    "sales"
   ]
  },
  {
   "cell_type": "code",
   "execution_count": 183,
   "id": "b37ff6ee",
   "metadata": {},
   "outputs": [
    {
     "data": {
      "text/plain": [
       "0    Dairy\n",
       "1    Dairy\n",
       "2    Dairy\n",
       "3    Dairy\n",
       "4    Dairy\n",
       "5    Dairy\n",
       "6    Dairy\n",
       "Name: subcat, dtype: object"
      ]
     },
     "execution_count": 183,
     "metadata": {},
     "output_type": "execute_result"
    }
   ],
   "source": [
    "sales.pop('subcat')"
   ]
  },
  {
   "cell_type": "code",
   "execution_count": 185,
   "id": "a49b685d",
   "metadata": {},
   "outputs": [
    {
     "data": {
      "text/plain": [
       "0    5.0\n",
       "1    2.0\n",
       "2    3.0\n",
       "3    1.0\n",
       "4    2.0\n",
       "5    NaN\n",
       "6    1.0\n",
       "Name: Units, dtype: float64"
      ]
     },
     "execution_count": 185,
     "metadata": {},
     "output_type": "execute_result"
    }
   ],
   "source": [
    "sales.pop('Units')"
   ]
  },
  {
   "cell_type": "code",
   "execution_count": 187,
   "id": "e7b96ea9",
   "metadata": {},
   "outputs": [],
   "source": [
    "\n",
    "cols=['Sales', 'Date']"
   ]
  },
  {
   "cell_type": "code",
   "execution_count": 188,
   "id": "cb710c07",
   "metadata": {},
   "outputs": [
    {
     "data": {
      "text/html": [
       "<div>\n",
       "<style scoped>\n",
       "    .dataframe tbody tr th:only-of-type {\n",
       "        vertical-align: middle;\n",
       "    }\n",
       "\n",
       "    .dataframe tbody tr th {\n",
       "        vertical-align: top;\n",
       "    }\n",
       "\n",
       "    .dataframe thead th {\n",
       "        text-align: right;\n",
       "    }\n",
       "</style>\n",
       "<table border=\"1\" class=\"dataframe\">\n",
       "  <thead>\n",
       "    <tr style=\"text-align: right;\">\n",
       "      <th></th>\n",
       "      <th>Sales</th>\n",
       "      <th>Date</th>\n",
       "    </tr>\n",
       "  </thead>\n",
       "  <tbody>\n",
       "    <tr>\n",
       "      <th>0</th>\n",
       "      <td>20.2</td>\n",
       "      <td>1-1-2014</td>\n",
       "    </tr>\n",
       "    <tr>\n",
       "      <th>1</th>\n",
       "      <td>8.0</td>\n",
       "      <td>1-2-2014</td>\n",
       "    </tr>\n",
       "    <tr>\n",
       "      <th>2</th>\n",
       "      <td>13.0</td>\n",
       "      <td>1-3-2014</td>\n",
       "    </tr>\n",
       "    <tr>\n",
       "      <th>3</th>\n",
       "      <td>2.0</td>\n",
       "      <td>1-1-2014</td>\n",
       "    </tr>\n",
       "    <tr>\n",
       "      <th>4</th>\n",
       "      <td>3.8</td>\n",
       "      <td>1-2-2014</td>\n",
       "    </tr>\n",
       "    <tr>\n",
       "      <th>5</th>\n",
       "      <td>NaN</td>\n",
       "      <td>1-3-2014</td>\n",
       "    </tr>\n",
       "    <tr>\n",
       "      <th>6</th>\n",
       "      <td>1.8</td>\n",
       "      <td>1-5-2014</td>\n",
       "    </tr>\n",
       "  </tbody>\n",
       "</table>\n",
       "</div>"
      ],
      "text/plain": [
       "   Sales      Date\n",
       "0   20.2  1-1-2014\n",
       "1    8.0  1-2-2014\n",
       "2   13.0  1-3-2014\n",
       "3    2.0  1-1-2014\n",
       "4    3.8  1-2-2014\n",
       "5    NaN  1-3-2014\n",
       "6    1.8  1-5-2014"
      ]
     },
     "execution_count": 188,
     "metadata": {},
     "output_type": "execute_result"
    }
   ],
   "source": [
    "sales.reindex(columns=cols)"
   ]
  },
  {
   "cell_type": "code",
   "execution_count": 189,
   "id": "cddec169",
   "metadata": {},
   "outputs": [
    {
     "data": {
      "text/html": [
       "<div>\n",
       "<style scoped>\n",
       "    .dataframe tbody tr th:only-of-type {\n",
       "        vertical-align: middle;\n",
       "    }\n",
       "\n",
       "    .dataframe tbody tr th {\n",
       "        vertical-align: top;\n",
       "    }\n",
       "\n",
       "    .dataframe thead th {\n",
       "        text-align: right;\n",
       "    }\n",
       "</style>\n",
       "<table border=\"1\" class=\"dataframe\">\n",
       "  <thead>\n",
       "    <tr style=\"text-align: right;\">\n",
       "      <th></th>\n",
       "      <th>UPC</th>\n",
       "      <th>Sales</th>\n",
       "      <th>Date</th>\n",
       "    </tr>\n",
       "  </thead>\n",
       "  <tbody>\n",
       "    <tr>\n",
       "      <th>0</th>\n",
       "      <td>1234</td>\n",
       "      <td>20.2</td>\n",
       "      <td>1-1-2014</td>\n",
       "    </tr>\n",
       "    <tr>\n",
       "      <th>1</th>\n",
       "      <td>1234</td>\n",
       "      <td>8.0</td>\n",
       "      <td>1-2-2014</td>\n",
       "    </tr>\n",
       "    <tr>\n",
       "      <th>2</th>\n",
       "      <td>1234</td>\n",
       "      <td>13.0</td>\n",
       "      <td>1-3-2014</td>\n",
       "    </tr>\n",
       "    <tr>\n",
       "      <th>3</th>\n",
       "      <td>789</td>\n",
       "      <td>2.0</td>\n",
       "      <td>1-1-2014</td>\n",
       "    </tr>\n",
       "    <tr>\n",
       "      <th>4</th>\n",
       "      <td>789</td>\n",
       "      <td>3.8</td>\n",
       "      <td>1-2-2014</td>\n",
       "    </tr>\n",
       "  </tbody>\n",
       "</table>\n",
       "</div>"
      ],
      "text/plain": [
       "    UPC  Sales      Date\n",
       "0  1234   20.2  1-1-2014\n",
       "1  1234    8.0  1-2-2014\n",
       "2  1234   13.0  1-3-2014\n",
       "3   789    2.0  1-1-2014\n",
       "4   789    3.8  1-2-2014"
      ]
     },
     "execution_count": 189,
     "metadata": {},
     "output_type": "execute_result"
    }
   ],
   "source": [
    "sales.head()"
   ]
  },
  {
   "cell_type": "code",
   "execution_count": 190,
   "id": "9c5bd11f",
   "metadata": {},
   "outputs": [
    {
     "data": {
      "text/html": [
       "<div>\n",
       "<style scoped>\n",
       "    .dataframe tbody tr th:only-of-type {\n",
       "        vertical-align: middle;\n",
       "    }\n",
       "\n",
       "    .dataframe tbody tr th {\n",
       "        vertical-align: top;\n",
       "    }\n",
       "\n",
       "    .dataframe thead th {\n",
       "        text-align: right;\n",
       "    }\n",
       "</style>\n",
       "<table border=\"1\" class=\"dataframe\">\n",
       "  <thead>\n",
       "    <tr style=\"text-align: right;\">\n",
       "      <th></th>\n",
       "      <th>UPC</th>\n",
       "      <th>Sales</th>\n",
       "      <th>Date</th>\n",
       "    </tr>\n",
       "  </thead>\n",
       "  <tbody>\n",
       "    <tr>\n",
       "      <th>5</th>\n",
       "      <td>789</td>\n",
       "      <td>NaN</td>\n",
       "      <td>1-3-2014</td>\n",
       "    </tr>\n",
       "    <tr>\n",
       "      <th>6</th>\n",
       "      <td>789</td>\n",
       "      <td>1.8</td>\n",
       "      <td>1-5-2014</td>\n",
       "    </tr>\n",
       "  </tbody>\n",
       "</table>\n",
       "</div>"
      ],
      "text/plain": [
       "    UPC  Sales      Date\n",
       "5   789    NaN  1-3-2014\n",
       "6   789    1.8  1-5-2014"
      ]
     },
     "execution_count": 190,
     "metadata": {},
     "output_type": "execute_result"
    }
   ],
   "source": [
    "sales.tail(2)"
   ]
  },
  {
   "cell_type": "code",
   "execution_count": null,
   "id": "1cd9f626",
   "metadata": {},
   "outputs": [],
   "source": []
  },
  {
   "cell_type": "code",
   "execution_count": 191,
   "id": "a423d557",
   "metadata": {},
   "outputs": [
    {
     "ename": "KeyError",
     "evalue": "'UPC'",
     "output_type": "error",
     "traceback": [
      "\u001b[1;31m---------------------------------------------------------------------------\u001b[0m",
      "\u001b[1;31mKeyError\u001b[0m                                  Traceback (most recent call last)",
      "\u001b[1;32m<ipython-input-191-7d4e991bc00b>\u001b[0m in \u001b[0;36m<module>\u001b[1;34m\u001b[0m\n\u001b[1;32m----> 1\u001b[1;33m \u001b[0msales\u001b[0m\u001b[1;33m.\u001b[0m\u001b[0msort_values\u001b[0m\u001b[1;33m(\u001b[0m\u001b[1;34m'UPC'\u001b[0m\u001b[1;33m)\u001b[0m\u001b[1;33m\u001b[0m\u001b[1;33m\u001b[0m\u001b[0m\n\u001b[0m",
      "\u001b[1;32mD:\\conda\\lib\\site-packages\\pandas\\core\\frame.py\u001b[0m in \u001b[0;36msort_values\u001b[1;34m(self, by, axis, ascending, inplace, kind, na_position, ignore_index, key)\u001b[0m\n\u001b[0;32m   5453\u001b[0m \u001b[1;33m\u001b[0m\u001b[0m\n\u001b[0;32m   5454\u001b[0m             \u001b[0mby\u001b[0m \u001b[1;33m=\u001b[0m \u001b[0mby\u001b[0m\u001b[1;33m[\u001b[0m\u001b[1;36m0\u001b[0m\u001b[1;33m]\u001b[0m\u001b[1;33m\u001b[0m\u001b[1;33m\u001b[0m\u001b[0m\n\u001b[1;32m-> 5455\u001b[1;33m             \u001b[0mk\u001b[0m \u001b[1;33m=\u001b[0m \u001b[0mself\u001b[0m\u001b[1;33m.\u001b[0m\u001b[0m_get_label_or_level_values\u001b[0m\u001b[1;33m(\u001b[0m\u001b[0mby\u001b[0m\u001b[1;33m,\u001b[0m \u001b[0maxis\u001b[0m\u001b[1;33m=\u001b[0m\u001b[0maxis\u001b[0m\u001b[1;33m)\u001b[0m\u001b[1;33m\u001b[0m\u001b[1;33m\u001b[0m\u001b[0m\n\u001b[0m\u001b[0;32m   5456\u001b[0m \u001b[1;33m\u001b[0m\u001b[0m\n\u001b[0;32m   5457\u001b[0m             \u001b[1;31m# need to rewrap column in Series to apply key function\u001b[0m\u001b[1;33m\u001b[0m\u001b[1;33m\u001b[0m\u001b[1;33m\u001b[0m\u001b[0m\n",
      "\u001b[1;32mD:\\conda\\lib\\site-packages\\pandas\\core\\generic.py\u001b[0m in \u001b[0;36m_get_label_or_level_values\u001b[1;34m(self, key, axis)\u001b[0m\n\u001b[0;32m   1682\u001b[0m             \u001b[0mvalues\u001b[0m \u001b[1;33m=\u001b[0m \u001b[0mself\u001b[0m\u001b[1;33m.\u001b[0m\u001b[0maxes\u001b[0m\u001b[1;33m[\u001b[0m\u001b[0maxis\u001b[0m\u001b[1;33m]\u001b[0m\u001b[1;33m.\u001b[0m\u001b[0mget_level_values\u001b[0m\u001b[1;33m(\u001b[0m\u001b[0mkey\u001b[0m\u001b[1;33m)\u001b[0m\u001b[1;33m.\u001b[0m\u001b[0m_values\u001b[0m\u001b[1;33m\u001b[0m\u001b[1;33m\u001b[0m\u001b[0m\n\u001b[0;32m   1683\u001b[0m         \u001b[1;32melse\u001b[0m\u001b[1;33m:\u001b[0m\u001b[1;33m\u001b[0m\u001b[1;33m\u001b[0m\u001b[0m\n\u001b[1;32m-> 1684\u001b[1;33m             \u001b[1;32mraise\u001b[0m \u001b[0mKeyError\u001b[0m\u001b[1;33m(\u001b[0m\u001b[0mkey\u001b[0m\u001b[1;33m)\u001b[0m\u001b[1;33m\u001b[0m\u001b[1;33m\u001b[0m\u001b[0m\n\u001b[0m\u001b[0;32m   1685\u001b[0m \u001b[1;33m\u001b[0m\u001b[0m\n\u001b[0;32m   1686\u001b[0m         \u001b[1;31m# Check for duplicates\u001b[0m\u001b[1;33m\u001b[0m\u001b[1;33m\u001b[0m\u001b[1;33m\u001b[0m\u001b[0m\n",
      "\u001b[1;31mKeyError\u001b[0m: 'UPC'"
     ]
    }
   ],
   "source": [
    "sales.sort_values('UPC')"
   ]
  },
  {
   "cell_type": "code",
   "execution_count": 192,
   "id": "3b68704e",
   "metadata": {},
   "outputs": [
    {
     "data": {
      "text/html": [
       "<div>\n",
       "<style scoped>\n",
       "    .dataframe tbody tr th:only-of-type {\n",
       "        vertical-align: middle;\n",
       "    }\n",
       "\n",
       "    .dataframe tbody tr th {\n",
       "        vertical-align: top;\n",
       "    }\n",
       "\n",
       "    .dataframe thead th {\n",
       "        text-align: right;\n",
       "    }\n",
       "</style>\n",
       "<table border=\"1\" class=\"dataframe\">\n",
       "  <thead>\n",
       "    <tr style=\"text-align: right;\">\n",
       "      <th></th>\n",
       "      <th>UPC</th>\n",
       "      <th>Sales</th>\n",
       "      <th>Date</th>\n",
       "    </tr>\n",
       "  </thead>\n",
       "  <tbody>\n",
       "    <tr>\n",
       "      <th>6</th>\n",
       "      <td>789</td>\n",
       "      <td>1.8</td>\n",
       "      <td>1-5-2014</td>\n",
       "    </tr>\n",
       "    <tr>\n",
       "      <th>5</th>\n",
       "      <td>789</td>\n",
       "      <td>NaN</td>\n",
       "      <td>1-3-2014</td>\n",
       "    </tr>\n",
       "    <tr>\n",
       "      <th>4</th>\n",
       "      <td>789</td>\n",
       "      <td>3.8</td>\n",
       "      <td>1-2-2014</td>\n",
       "    </tr>\n",
       "    <tr>\n",
       "      <th>3</th>\n",
       "      <td>789</td>\n",
       "      <td>2.0</td>\n",
       "      <td>1-1-2014</td>\n",
       "    </tr>\n",
       "    <tr>\n",
       "      <th>2</th>\n",
       "      <td>1234</td>\n",
       "      <td>13.0</td>\n",
       "      <td>1-3-2014</td>\n",
       "    </tr>\n",
       "    <tr>\n",
       "      <th>1</th>\n",
       "      <td>1234</td>\n",
       "      <td>8.0</td>\n",
       "      <td>1-2-2014</td>\n",
       "    </tr>\n",
       "    <tr>\n",
       "      <th>0</th>\n",
       "      <td>1234</td>\n",
       "      <td>20.2</td>\n",
       "      <td>1-1-2014</td>\n",
       "    </tr>\n",
       "  </tbody>\n",
       "</table>\n",
       "</div>"
      ],
      "text/plain": [
       "    UPC  Sales      Date\n",
       "6   789    1.8  1-5-2014\n",
       "5   789    NaN  1-3-2014\n",
       "4   789    3.8  1-2-2014\n",
       "3   789    2.0  1-1-2014\n",
       "2  1234   13.0  1-3-2014\n",
       "1  1234    8.0  1-2-2014\n",
       "0  1234   20.2  1-1-2014"
      ]
     },
     "execution_count": 192,
     "metadata": {},
     "output_type": "execute_result"
    }
   ],
   "source": [
    "sales.sort_index(ascending=False)"
   ]
  },
  {
   "cell_type": "markdown",
   "id": "60c75482",
   "metadata": {},
   "source": [
    "# Data Frame Statistics"
   ]
  },
  {
   "cell_type": "code",
   "execution_count": 195,
   "id": "7871660a",
   "metadata": {},
   "outputs": [],
   "source": [
    "df=pd.read_csv('snow_data.csv')"
   ]
  },
  {
   "cell_type": "code",
   "execution_count": 196,
   "id": "2afbc2a4",
   "metadata": {},
   "outputs": [
    {
     "data": {
      "text/html": [
       "<div>\n",
       "<style scoped>\n",
       "    .dataframe tbody tr th:only-of-type {\n",
       "        vertical-align: middle;\n",
       "    }\n",
       "\n",
       "    .dataframe tbody tr th {\n",
       "        vertical-align: top;\n",
       "    }\n",
       "\n",
       "    .dataframe thead th {\n",
       "        text-align: right;\n",
       "    }\n",
       "</style>\n",
       "<table border=\"1\" class=\"dataframe\">\n",
       "  <thead>\n",
       "    <tr style=\"text-align: right;\">\n",
       "      <th></th>\n",
       "      <th>year</th>\n",
       "      <th>tinches</th>\n",
       "      <th>tlocation</th>\n",
       "    </tr>\n",
       "  </thead>\n",
       "  <tbody>\n",
       "    <tr>\n",
       "      <th>0</th>\n",
       "      <td>2006 t633.5 tutah</td>\n",
       "      <td>NaN</td>\n",
       "      <td>NaN</td>\n",
       "    </tr>\n",
       "    <tr>\n",
       "      <th>1</th>\n",
       "      <td>2007 t356 tutah</td>\n",
       "      <td>NaN</td>\n",
       "      <td>NaN</td>\n",
       "    </tr>\n",
       "    <tr>\n",
       "      <th>2</th>\n",
       "      <td>2008 t654 tutah</td>\n",
       "      <td>NaN</td>\n",
       "      <td>NaN</td>\n",
       "    </tr>\n",
       "    <tr>\n",
       "      <th>3</th>\n",
       "      <td>2009 t578 tutah</td>\n",
       "      <td>NaN</td>\n",
       "      <td>NaN</td>\n",
       "    </tr>\n",
       "    <tr>\n",
       "      <th>4</th>\n",
       "      <td>2010 t430 tutah</td>\n",
       "      <td>NaN</td>\n",
       "      <td>NaN</td>\n",
       "    </tr>\n",
       "    <tr>\n",
       "      <th>5</th>\n",
       "      <td>2011 t553 tutah</td>\n",
       "      <td>NaN</td>\n",
       "      <td>NaN</td>\n",
       "    </tr>\n",
       "    <tr>\n",
       "      <th>6</th>\n",
       "      <td>2012 t329.5 tutah</td>\n",
       "      <td>NaN</td>\n",
       "      <td>NaN</td>\n",
       "    </tr>\n",
       "    <tr>\n",
       "      <th>7</th>\n",
       "      <td>2013 t382.5 tutah</td>\n",
       "      <td>NaN</td>\n",
       "      <td>NaN</td>\n",
       "    </tr>\n",
       "    <tr>\n",
       "      <th>8</th>\n",
       "      <td>2014 t357.5 tutah</td>\n",
       "      <td>NaN</td>\n",
       "      <td>NaN</td>\n",
       "    </tr>\n",
       "    <tr>\n",
       "      <th>9</th>\n",
       "      <td>2015 t267.5 tutah'''</td>\n",
       "      <td>NaN</td>\n",
       "      <td>NaN</td>\n",
       "    </tr>\n",
       "  </tbody>\n",
       "</table>\n",
       "</div>"
      ],
      "text/plain": [
       "                   year   tinches   tlocation\n",
       "0     2006 t633.5 tutah       NaN         NaN\n",
       "1       2007 t356 tutah       NaN         NaN\n",
       "2       2008 t654 tutah       NaN         NaN\n",
       "3       2009 t578 tutah       NaN         NaN\n",
       "4       2010 t430 tutah       NaN         NaN\n",
       "5       2011 t553 tutah       NaN         NaN\n",
       "6     2012 t329.5 tutah       NaN         NaN\n",
       "7     2013 t382.5 tutah       NaN         NaN\n",
       "8     2014 t357.5 tutah       NaN         NaN\n",
       "9  2015 t267.5 tutah'''       NaN         NaN"
      ]
     },
     "execution_count": 196,
     "metadata": {},
     "output_type": "execute_result"
    }
   ],
   "source": [
    "df"
   ]
  },
  {
   "cell_type": "code",
   "execution_count": 198,
   "id": "1456dde0",
   "metadata": {},
   "outputs": [
    {
     "data": {
      "text/html": [
       "<div>\n",
       "<style scoped>\n",
       "    .dataframe tbody tr th:only-of-type {\n",
       "        vertical-align: middle;\n",
       "    }\n",
       "\n",
       "    .dataframe tbody tr th {\n",
       "        vertical-align: top;\n",
       "    }\n",
       "\n",
       "    .dataframe thead th {\n",
       "        text-align: right;\n",
       "    }\n",
       "</style>\n",
       "<table border=\"1\" class=\"dataframe\">\n",
       "  <thead>\n",
       "    <tr style=\"text-align: right;\">\n",
       "      <th></th>\n",
       "      <th>tinches</th>\n",
       "      <th>tlocation</th>\n",
       "    </tr>\n",
       "  </thead>\n",
       "  <tbody>\n",
       "    <tr>\n",
       "      <th>count</th>\n",
       "      <td>0.0</td>\n",
       "      <td>0.0</td>\n",
       "    </tr>\n",
       "    <tr>\n",
       "      <th>mean</th>\n",
       "      <td>NaN</td>\n",
       "      <td>NaN</td>\n",
       "    </tr>\n",
       "    <tr>\n",
       "      <th>std</th>\n",
       "      <td>NaN</td>\n",
       "      <td>NaN</td>\n",
       "    </tr>\n",
       "    <tr>\n",
       "      <th>min</th>\n",
       "      <td>NaN</td>\n",
       "      <td>NaN</td>\n",
       "    </tr>\n",
       "    <tr>\n",
       "      <th>25%</th>\n",
       "      <td>NaN</td>\n",
       "      <td>NaN</td>\n",
       "    </tr>\n",
       "    <tr>\n",
       "      <th>50%</th>\n",
       "      <td>NaN</td>\n",
       "      <td>NaN</td>\n",
       "    </tr>\n",
       "    <tr>\n",
       "      <th>75%</th>\n",
       "      <td>NaN</td>\n",
       "      <td>NaN</td>\n",
       "    </tr>\n",
       "    <tr>\n",
       "      <th>max</th>\n",
       "      <td>NaN</td>\n",
       "      <td>NaN</td>\n",
       "    </tr>\n",
       "  </tbody>\n",
       "</table>\n",
       "</div>"
      ],
      "text/plain": [
       "        tinches   tlocation\n",
       "count       0.0         0.0\n",
       "mean        NaN         NaN\n",
       "std         NaN         NaN\n",
       "min         NaN         NaN\n",
       "25%         NaN         NaN\n",
       "50%         NaN         NaN\n",
       "75%         NaN         NaN\n",
       "max         NaN         NaN"
      ]
     },
     "execution_count": 198,
     "metadata": {},
     "output_type": "execute_result"
    }
   ],
   "source": [
    "df.describe()"
   ]
  },
  {
   "cell_type": "markdown",
   "id": "dbf59485",
   "metadata": {},
   "source": [
    "# Grouping, Pivoting, and Reshaping"
   ]
  },
  {
   "cell_type": "code",
   "execution_count": null,
   "id": "0dd256cd",
   "metadata": {},
   "outputs": [],
   "source": []
  },
  {
   "cell_type": "code",
   "execution_count": 199,
   "id": "4745210f",
   "metadata": {},
   "outputs": [],
   "source": [
    "scores = pd.DataFrame({\n",
    "'name':['Adam', 'Bob', 'Dave', 'Fred', 'Kofi', 'Ped', 'Frank'],\n",
    "'age': [15, 16, 16, 15, 12, 19, 18],\n",
    "'test1': [95, 81, 89, None, 70, 81, 71],\n",
    "'test2': [80, 82, 84, 88, 69, 91, 80],\n",
    "'teacher': ['Ashby', 'Ashby', 'Jones', 'Jones', 'Karim', 'Paul', 'Rita']})\n"
   ]
  },
  {
   "cell_type": "code",
   "execution_count": 200,
   "id": "2c05fb26",
   "metadata": {},
   "outputs": [
    {
     "data": {
      "text/html": [
       "<div>\n",
       "<style scoped>\n",
       "    .dataframe tbody tr th:only-of-type {\n",
       "        vertical-align: middle;\n",
       "    }\n",
       "\n",
       "    .dataframe tbody tr th {\n",
       "        vertical-align: top;\n",
       "    }\n",
       "\n",
       "    .dataframe thead th {\n",
       "        text-align: right;\n",
       "    }\n",
       "</style>\n",
       "<table border=\"1\" class=\"dataframe\">\n",
       "  <thead>\n",
       "    <tr style=\"text-align: right;\">\n",
       "      <th></th>\n",
       "      <th>name</th>\n",
       "      <th>age</th>\n",
       "      <th>test1</th>\n",
       "      <th>test2</th>\n",
       "      <th>teacher</th>\n",
       "    </tr>\n",
       "  </thead>\n",
       "  <tbody>\n",
       "    <tr>\n",
       "      <th>0</th>\n",
       "      <td>Adam</td>\n",
       "      <td>15</td>\n",
       "      <td>95.0</td>\n",
       "      <td>80</td>\n",
       "      <td>Ashby</td>\n",
       "    </tr>\n",
       "    <tr>\n",
       "      <th>1</th>\n",
       "      <td>Bob</td>\n",
       "      <td>16</td>\n",
       "      <td>81.0</td>\n",
       "      <td>82</td>\n",
       "      <td>Ashby</td>\n",
       "    </tr>\n",
       "    <tr>\n",
       "      <th>2</th>\n",
       "      <td>Dave</td>\n",
       "      <td>16</td>\n",
       "      <td>89.0</td>\n",
       "      <td>84</td>\n",
       "      <td>Jones</td>\n",
       "    </tr>\n",
       "    <tr>\n",
       "      <th>3</th>\n",
       "      <td>Fred</td>\n",
       "      <td>15</td>\n",
       "      <td>NaN</td>\n",
       "      <td>88</td>\n",
       "      <td>Jones</td>\n",
       "    </tr>\n",
       "    <tr>\n",
       "      <th>4</th>\n",
       "      <td>Kofi</td>\n",
       "      <td>12</td>\n",
       "      <td>70.0</td>\n",
       "      <td>69</td>\n",
       "      <td>Karim</td>\n",
       "    </tr>\n",
       "    <tr>\n",
       "      <th>5</th>\n",
       "      <td>Ped</td>\n",
       "      <td>19</td>\n",
       "      <td>81.0</td>\n",
       "      <td>91</td>\n",
       "      <td>Paul</td>\n",
       "    </tr>\n",
       "    <tr>\n",
       "      <th>6</th>\n",
       "      <td>Frank</td>\n",
       "      <td>18</td>\n",
       "      <td>71.0</td>\n",
       "      <td>80</td>\n",
       "      <td>Rita</td>\n",
       "    </tr>\n",
       "  </tbody>\n",
       "</table>\n",
       "</div>"
      ],
      "text/plain": [
       "    name  age  test1  test2 teacher\n",
       "0   Adam   15   95.0     80   Ashby\n",
       "1    Bob   16   81.0     82   Ashby\n",
       "2   Dave   16   89.0     84   Jones\n",
       "3   Fred   15    NaN     88   Jones\n",
       "4   Kofi   12   70.0     69   Karim\n",
       "5    Ped   19   81.0     91    Paul\n",
       "6  Frank   18   71.0     80    Rita"
      ]
     },
     "execution_count": 200,
     "metadata": {},
     "output_type": "execute_result"
    }
   ],
   "source": [
    "scores"
   ]
  },
  {
   "cell_type": "code",
   "execution_count": null,
   "id": "aa976ba5",
   "metadata": {},
   "outputs": [],
   "source": []
  },
  {
   "cell_type": "code",
   "execution_count": 201,
   "id": "85189503",
   "metadata": {},
   "outputs": [
    {
     "data": {
      "text/html": [
       "<div>\n",
       "<style scoped>\n",
       "    .dataframe tbody tr th:only-of-type {\n",
       "        vertical-align: middle;\n",
       "    }\n",
       "\n",
       "    .dataframe tbody tr th {\n",
       "        vertical-align: top;\n",
       "    }\n",
       "\n",
       "    .dataframe thead th {\n",
       "        text-align: right;\n",
       "    }\n",
       "</style>\n",
       "<table border=\"1\" class=\"dataframe\">\n",
       "  <thead>\n",
       "    <tr style=\"text-align: right;\">\n",
       "      <th></th>\n",
       "      <th>age</th>\n",
       "      <th>test1</th>\n",
       "      <th>test2</th>\n",
       "    </tr>\n",
       "    <tr>\n",
       "      <th>teacher</th>\n",
       "      <th></th>\n",
       "      <th></th>\n",
       "      <th></th>\n",
       "    </tr>\n",
       "  </thead>\n",
       "  <tbody>\n",
       "    <tr>\n",
       "      <th>Ashby</th>\n",
       "      <td>15.5</td>\n",
       "      <td>88.0</td>\n",
       "      <td>81.0</td>\n",
       "    </tr>\n",
       "    <tr>\n",
       "      <th>Jones</th>\n",
       "      <td>15.5</td>\n",
       "      <td>89.0</td>\n",
       "      <td>86.0</td>\n",
       "    </tr>\n",
       "    <tr>\n",
       "      <th>Karim</th>\n",
       "      <td>12.0</td>\n",
       "      <td>70.0</td>\n",
       "      <td>69.0</td>\n",
       "    </tr>\n",
       "    <tr>\n",
       "      <th>Paul</th>\n",
       "      <td>19.0</td>\n",
       "      <td>81.0</td>\n",
       "      <td>91.0</td>\n",
       "    </tr>\n",
       "    <tr>\n",
       "      <th>Rita</th>\n",
       "      <td>18.0</td>\n",
       "      <td>71.0</td>\n",
       "      <td>80.0</td>\n",
       "    </tr>\n",
       "  </tbody>\n",
       "</table>\n",
       "</div>"
      ],
      "text/plain": [
       "          age  test1  test2\n",
       "teacher                    \n",
       "Ashby    15.5   88.0   81.0\n",
       "Jones    15.5   89.0   86.0\n",
       "Karim    12.0   70.0   69.0\n",
       "Paul     19.0   81.0   91.0\n",
       "Rita     18.0   71.0   80.0"
      ]
     },
     "execution_count": 201,
     "metadata": {},
     "output_type": "execute_result"
    }
   ],
   "source": [
    "scores.groupby('teacher').median()"
   ]
  },
  {
   "cell_type": "code",
   "execution_count": null,
   "id": "d6975181",
   "metadata": {},
   "outputs": [],
   "source": []
  },
  {
   "cell_type": "code",
   "execution_count": null,
   "id": "b88f8ebe",
   "metadata": {},
   "outputs": [],
   "source": [
    "#groupby method"
   ]
  },
  {
   "cell_type": "code",
   "execution_count": 203,
   "id": "29835b9d",
   "metadata": {},
   "outputs": [
    {
     "data": {
      "text/html": [
       "<div>\n",
       "<style scoped>\n",
       "    .dataframe tbody tr th:only-of-type {\n",
       "        vertical-align: middle;\n",
       "    }\n",
       "\n",
       "    .dataframe tbody tr th {\n",
       "        vertical-align: top;\n",
       "    }\n",
       "\n",
       "    .dataframe thead th {\n",
       "        text-align: right;\n",
       "    }\n",
       "</style>\n",
       "<table border=\"1\" class=\"dataframe\">\n",
       "  <thead>\n",
       "    <tr style=\"text-align: right;\">\n",
       "      <th></th>\n",
       "      <th>test1</th>\n",
       "      <th>test2</th>\n",
       "    </tr>\n",
       "    <tr>\n",
       "      <th>teacher</th>\n",
       "      <th></th>\n",
       "      <th></th>\n",
       "    </tr>\n",
       "  </thead>\n",
       "  <tbody>\n",
       "    <tr>\n",
       "      <th>Ashby</th>\n",
       "      <td>88.0</td>\n",
       "      <td>81.0</td>\n",
       "    </tr>\n",
       "    <tr>\n",
       "      <th>Jones</th>\n",
       "      <td>89.0</td>\n",
       "      <td>86.0</td>\n",
       "    </tr>\n",
       "    <tr>\n",
       "      <th>Karim</th>\n",
       "      <td>70.0</td>\n",
       "      <td>69.0</td>\n",
       "    </tr>\n",
       "    <tr>\n",
       "      <th>Paul</th>\n",
       "      <td>81.0</td>\n",
       "      <td>91.0</td>\n",
       "    </tr>\n",
       "    <tr>\n",
       "      <th>Rita</th>\n",
       "      <td>71.0</td>\n",
       "      <td>80.0</td>\n",
       "    </tr>\n",
       "  </tbody>\n",
       "</table>\n",
       "</div>"
      ],
      "text/plain": [
       "         test1  test2\n",
       "teacher              \n",
       "Ashby     88.0   81.0\n",
       "Jones     89.0   86.0\n",
       "Karim     70.0   69.0\n",
       "Paul      81.0   91.0\n",
       "Rita      71.0   80.0"
      ]
     },
     "execution_count": 203,
     "metadata": {},
     "output_type": "execute_result"
    }
   ],
   "source": [
    "scores.groupby('teacher').median()[['test1', 'test2']]"
   ]
  },
  {
   "cell_type": "code",
   "execution_count": 204,
   "id": "3e833d96",
   "metadata": {},
   "outputs": [
    {
     "data": {
      "text/html": [
       "<div>\n",
       "<style scoped>\n",
       "    .dataframe tbody tr th:only-of-type {\n",
       "        vertical-align: middle;\n",
       "    }\n",
       "\n",
       "    .dataframe tbody tr th {\n",
       "        vertical-align: top;\n",
       "    }\n",
       "\n",
       "    .dataframe thead th {\n",
       "        text-align: right;\n",
       "    }\n",
       "</style>\n",
       "<table border=\"1\" class=\"dataframe\">\n",
       "  <thead>\n",
       "    <tr style=\"text-align: right;\">\n",
       "      <th></th>\n",
       "      <th></th>\n",
       "      <th>test1</th>\n",
       "      <th>test2</th>\n",
       "    </tr>\n",
       "    <tr>\n",
       "      <th>teacher</th>\n",
       "      <th>age</th>\n",
       "      <th></th>\n",
       "      <th></th>\n",
       "    </tr>\n",
       "  </thead>\n",
       "  <tbody>\n",
       "    <tr>\n",
       "      <th rowspan=\"2\" valign=\"top\">Ashby</th>\n",
       "      <th>15</th>\n",
       "      <td>95.0</td>\n",
       "      <td>80</td>\n",
       "    </tr>\n",
       "    <tr>\n",
       "      <th>16</th>\n",
       "      <td>81.0</td>\n",
       "      <td>82</td>\n",
       "    </tr>\n",
       "    <tr>\n",
       "      <th rowspan=\"2\" valign=\"top\">Jones</th>\n",
       "      <th>15</th>\n",
       "      <td>NaN</td>\n",
       "      <td>88</td>\n",
       "    </tr>\n",
       "    <tr>\n",
       "      <th>16</th>\n",
       "      <td>89.0</td>\n",
       "      <td>84</td>\n",
       "    </tr>\n",
       "    <tr>\n",
       "      <th>Karim</th>\n",
       "      <th>12</th>\n",
       "      <td>70.0</td>\n",
       "      <td>69</td>\n",
       "    </tr>\n",
       "    <tr>\n",
       "      <th>Paul</th>\n",
       "      <th>19</th>\n",
       "      <td>81.0</td>\n",
       "      <td>91</td>\n",
       "    </tr>\n",
       "    <tr>\n",
       "      <th>Rita</th>\n",
       "      <th>18</th>\n",
       "      <td>71.0</td>\n",
       "      <td>80</td>\n",
       "    </tr>\n",
       "  </tbody>\n",
       "</table>\n",
       "</div>"
      ],
      "text/plain": [
       "             test1  test2\n",
       "teacher age              \n",
       "Ashby   15    95.0     80\n",
       "        16    81.0     82\n",
       "Jones   15     NaN     88\n",
       "        16    89.0     84\n",
       "Karim   12    70.0     69\n",
       "Paul    19    81.0     91\n",
       "Rita    18    71.0     80"
      ]
     },
     "execution_count": 204,
     "metadata": {},
     "output_type": "execute_result"
    }
   ],
   "source": [
    "scores.groupby(['teacher', 'age']).median()"
   ]
  },
  {
   "cell_type": "code",
   "execution_count": 206,
   "id": "ab8fab7c",
   "metadata": {},
   "outputs": [
    {
     "data": {
      "text/html": [
       "<div>\n",
       "<style scoped>\n",
       "    .dataframe tbody tr th:only-of-type {\n",
       "        vertical-align: middle;\n",
       "    }\n",
       "\n",
       "    .dataframe tbody tr th {\n",
       "        vertical-align: top;\n",
       "    }\n",
       "\n",
       "    .dataframe thead tr th {\n",
       "        text-align: left;\n",
       "    }\n",
       "\n",
       "    .dataframe thead tr:last-of-type th {\n",
       "        text-align: right;\n",
       "    }\n",
       "</style>\n",
       "<table border=\"1\" class=\"dataframe\">\n",
       "  <thead>\n",
       "    <tr>\n",
       "      <th></th>\n",
       "      <th></th>\n",
       "      <th colspan=\"2\" halign=\"left\">name</th>\n",
       "      <th colspan=\"2\" halign=\"left\">test1</th>\n",
       "      <th colspan=\"2\" halign=\"left\">test2</th>\n",
       "    </tr>\n",
       "    <tr>\n",
       "      <th></th>\n",
       "      <th></th>\n",
       "      <th>min</th>\n",
       "      <th>max</th>\n",
       "      <th>min</th>\n",
       "      <th>max</th>\n",
       "      <th>min</th>\n",
       "      <th>max</th>\n",
       "    </tr>\n",
       "    <tr>\n",
       "      <th>teacher</th>\n",
       "      <th>age</th>\n",
       "      <th></th>\n",
       "      <th></th>\n",
       "      <th></th>\n",
       "      <th></th>\n",
       "      <th></th>\n",
       "      <th></th>\n",
       "    </tr>\n",
       "  </thead>\n",
       "  <tbody>\n",
       "    <tr>\n",
       "      <th rowspan=\"2\" valign=\"top\">Ashby</th>\n",
       "      <th>15</th>\n",
       "      <td>Adam</td>\n",
       "      <td>Adam</td>\n",
       "      <td>95.0</td>\n",
       "      <td>95.0</td>\n",
       "      <td>80</td>\n",
       "      <td>80</td>\n",
       "    </tr>\n",
       "    <tr>\n",
       "      <th>16</th>\n",
       "      <td>Bob</td>\n",
       "      <td>Bob</td>\n",
       "      <td>81.0</td>\n",
       "      <td>81.0</td>\n",
       "      <td>82</td>\n",
       "      <td>82</td>\n",
       "    </tr>\n",
       "    <tr>\n",
       "      <th rowspan=\"2\" valign=\"top\">Jones</th>\n",
       "      <th>15</th>\n",
       "      <td>Fred</td>\n",
       "      <td>Fred</td>\n",
       "      <td>NaN</td>\n",
       "      <td>NaN</td>\n",
       "      <td>88</td>\n",
       "      <td>88</td>\n",
       "    </tr>\n",
       "    <tr>\n",
       "      <th>16</th>\n",
       "      <td>Dave</td>\n",
       "      <td>Dave</td>\n",
       "      <td>89.0</td>\n",
       "      <td>89.0</td>\n",
       "      <td>84</td>\n",
       "      <td>84</td>\n",
       "    </tr>\n",
       "    <tr>\n",
       "      <th>Karim</th>\n",
       "      <th>12</th>\n",
       "      <td>Kofi</td>\n",
       "      <td>Kofi</td>\n",
       "      <td>70.0</td>\n",
       "      <td>70.0</td>\n",
       "      <td>69</td>\n",
       "      <td>69</td>\n",
       "    </tr>\n",
       "    <tr>\n",
       "      <th>Paul</th>\n",
       "      <th>19</th>\n",
       "      <td>Ped</td>\n",
       "      <td>Ped</td>\n",
       "      <td>81.0</td>\n",
       "      <td>81.0</td>\n",
       "      <td>91</td>\n",
       "      <td>91</td>\n",
       "    </tr>\n",
       "    <tr>\n",
       "      <th>Rita</th>\n",
       "      <th>18</th>\n",
       "      <td>Frank</td>\n",
       "      <td>Frank</td>\n",
       "      <td>71.0</td>\n",
       "      <td>71.0</td>\n",
       "      <td>80</td>\n",
       "      <td>80</td>\n",
       "    </tr>\n",
       "  </tbody>\n",
       "</table>\n",
       "</div>"
      ],
      "text/plain": [
       "              name        test1       test2    \n",
       "               min    max   min   max   min max\n",
       "teacher age                                    \n",
       "Ashby   15    Adam   Adam  95.0  95.0    80  80\n",
       "        16     Bob    Bob  81.0  81.0    82  82\n",
       "Jones   15    Fred   Fred   NaN   NaN    88  88\n",
       "        16    Dave   Dave  89.0  89.0    84  84\n",
       "Karim   12    Kofi   Kofi  70.0  70.0    69  69\n",
       "Paul    19     Ped    Ped  81.0  81.0    91  91\n",
       "Rita    18   Frank  Frank  71.0  71.0    80  80"
      ]
     },
     "execution_count": 206,
     "metadata": {},
     "output_type": "execute_result"
    }
   ],
   "source": [
    "scores.groupby(['teacher', 'age']).agg([min, max])"
   ]
  },
  {
   "cell_type": "markdown",
   "id": "36ddd1f2",
   "metadata": {},
   "source": [
    "# Pivot Tables"
   ]
  },
  {
   "cell_type": "code",
   "execution_count": 211,
   "id": "868f4ece",
   "metadata": {},
   "outputs": [
    {
     "data": {
      "text/html": [
       "<div>\n",
       "<style scoped>\n",
       "    .dataframe tbody tr th:only-of-type {\n",
       "        vertical-align: middle;\n",
       "    }\n",
       "\n",
       "    .dataframe tbody tr th {\n",
       "        vertical-align: top;\n",
       "    }\n",
       "\n",
       "    .dataframe thead th {\n",
       "        text-align: right;\n",
       "    }\n",
       "</style>\n",
       "<table border=\"1\" class=\"dataframe\">\n",
       "  <thead>\n",
       "    <tr style=\"text-align: right;\">\n",
       "      <th></th>\n",
       "      <th>test1</th>\n",
       "      <th>test2</th>\n",
       "    </tr>\n",
       "    <tr>\n",
       "      <th>teacher</th>\n",
       "      <th></th>\n",
       "      <th></th>\n",
       "    </tr>\n",
       "  </thead>\n",
       "  <tbody>\n",
       "    <tr>\n",
       "      <th>Ashby</th>\n",
       "      <td>88.0</td>\n",
       "      <td>81</td>\n",
       "    </tr>\n",
       "    <tr>\n",
       "      <th>Jones</th>\n",
       "      <td>89.0</td>\n",
       "      <td>86</td>\n",
       "    </tr>\n",
       "    <tr>\n",
       "      <th>Karim</th>\n",
       "      <td>70.0</td>\n",
       "      <td>69</td>\n",
       "    </tr>\n",
       "    <tr>\n",
       "      <th>Paul</th>\n",
       "      <td>81.0</td>\n",
       "      <td>91</td>\n",
       "    </tr>\n",
       "    <tr>\n",
       "      <th>Rita</th>\n",
       "      <td>71.0</td>\n",
       "      <td>80</td>\n",
       "    </tr>\n",
       "  </tbody>\n",
       "</table>\n",
       "</div>"
      ],
      "text/plain": [
       "         test1  test2\n",
       "teacher              \n",
       "Ashby     88.0     81\n",
       "Jones     89.0     86\n",
       "Karim     70.0     69\n",
       "Paul      81.0     91\n",
       "Rita      71.0     80"
      ]
     },
     "execution_count": 211,
     "metadata": {},
     "output_type": "execute_result"
    }
   ],
   "source": [
    "scores.pivot_table(index='teacher',\n",
    "                  values=['test1', 'test2'], \n",
    "                  aggfunc='median')"
   ]
  },
  {
   "cell_type": "code",
   "execution_count": 212,
   "id": "366cad52",
   "metadata": {},
   "outputs": [
    {
     "data": {
      "text/html": [
       "<div>\n",
       "<style scoped>\n",
       "    .dataframe tbody tr th:only-of-type {\n",
       "        vertical-align: middle;\n",
       "    }\n",
       "\n",
       "    .dataframe tbody tr th {\n",
       "        vertical-align: top;\n",
       "    }\n",
       "\n",
       "    .dataframe thead tr th {\n",
       "        text-align: left;\n",
       "    }\n",
       "\n",
       "    .dataframe thead tr:last-of-type th {\n",
       "        text-align: right;\n",
       "    }\n",
       "</style>\n",
       "<table border=\"1\" class=\"dataframe\">\n",
       "  <thead>\n",
       "    <tr>\n",
       "      <th></th>\n",
       "      <th></th>\n",
       "      <th colspan=\"2\" halign=\"left\">len</th>\n",
       "      <th colspan=\"2\" halign=\"left\">sum</th>\n",
       "    </tr>\n",
       "    <tr>\n",
       "      <th></th>\n",
       "      <th></th>\n",
       "      <th>test1</th>\n",
       "      <th>test2</th>\n",
       "      <th>test1</th>\n",
       "      <th>test2</th>\n",
       "    </tr>\n",
       "    <tr>\n",
       "      <th>teacher</th>\n",
       "      <th>age</th>\n",
       "      <th></th>\n",
       "      <th></th>\n",
       "      <th></th>\n",
       "      <th></th>\n",
       "    </tr>\n",
       "  </thead>\n",
       "  <tbody>\n",
       "    <tr>\n",
       "      <th rowspan=\"2\" valign=\"top\">Ashby</th>\n",
       "      <th>15</th>\n",
       "      <td>1.0</td>\n",
       "      <td>1</td>\n",
       "      <td>95.0</td>\n",
       "      <td>80</td>\n",
       "    </tr>\n",
       "    <tr>\n",
       "      <th>16</th>\n",
       "      <td>1.0</td>\n",
       "      <td>1</td>\n",
       "      <td>81.0</td>\n",
       "      <td>82</td>\n",
       "    </tr>\n",
       "    <tr>\n",
       "      <th rowspan=\"2\" valign=\"top\">Jones</th>\n",
       "      <th>15</th>\n",
       "      <td>1.0</td>\n",
       "      <td>1</td>\n",
       "      <td>0.0</td>\n",
       "      <td>88</td>\n",
       "    </tr>\n",
       "    <tr>\n",
       "      <th>16</th>\n",
       "      <td>1.0</td>\n",
       "      <td>1</td>\n",
       "      <td>89.0</td>\n",
       "      <td>84</td>\n",
       "    </tr>\n",
       "    <tr>\n",
       "      <th>Karim</th>\n",
       "      <th>12</th>\n",
       "      <td>1.0</td>\n",
       "      <td>1</td>\n",
       "      <td>70.0</td>\n",
       "      <td>69</td>\n",
       "    </tr>\n",
       "    <tr>\n",
       "      <th>Paul</th>\n",
       "      <th>19</th>\n",
       "      <td>1.0</td>\n",
       "      <td>1</td>\n",
       "      <td>81.0</td>\n",
       "      <td>91</td>\n",
       "    </tr>\n",
       "    <tr>\n",
       "      <th>Rita</th>\n",
       "      <th>18</th>\n",
       "      <td>1.0</td>\n",
       "      <td>1</td>\n",
       "      <td>71.0</td>\n",
       "      <td>80</td>\n",
       "    </tr>\n",
       "    <tr>\n",
       "      <th>All</th>\n",
       "      <th></th>\n",
       "      <td>6.0</td>\n",
       "      <td>6</td>\n",
       "      <td>487.0</td>\n",
       "      <td>486</td>\n",
       "    </tr>\n",
       "  </tbody>\n",
       "</table>\n",
       "</div>"
      ],
      "text/plain": [
       "              len          sum      \n",
       "            test1 test2  test1 test2\n",
       "teacher age                         \n",
       "Ashby   15    1.0     1   95.0    80\n",
       "        16    1.0     1   81.0    82\n",
       "Jones   15    1.0     1    0.0    88\n",
       "        16    1.0     1   89.0    84\n",
       "Karim   12    1.0     1   70.0    69\n",
       "Paul    19    1.0     1   81.0    91\n",
       "Rita    18    1.0     1   71.0    80\n",
       "All           6.0     6  487.0   486"
      ]
     },
     "execution_count": 212,
     "metadata": {},
     "output_type": "execute_result"
    }
   ],
   "source": [
    "scores.pivot_table(index=['teacher', 'age'], values=['test1', 'test2'],\n",
    "                  aggfunc=[len, sum], margins=True)"
   ]
  },
  {
   "cell_type": "code",
   "execution_count": 213,
   "id": "2068389a",
   "metadata": {},
   "outputs": [
    {
     "data": {
      "text/html": [
       "<div>\n",
       "<style scoped>\n",
       "    .dataframe tbody tr th:only-of-type {\n",
       "        vertical-align: middle;\n",
       "    }\n",
       "\n",
       "    .dataframe tbody tr th {\n",
       "        vertical-align: top;\n",
       "    }\n",
       "\n",
       "    .dataframe thead th {\n",
       "        text-align: right;\n",
       "    }\n",
       "</style>\n",
       "<table border=\"1\" class=\"dataframe\">\n",
       "  <thead>\n",
       "    <tr style=\"text-align: right;\">\n",
       "      <th></th>\n",
       "      <th>name</th>\n",
       "      <th>age</th>\n",
       "      <th>variable</th>\n",
       "      <th>value</th>\n",
       "    </tr>\n",
       "  </thead>\n",
       "  <tbody>\n",
       "    <tr>\n",
       "      <th>0</th>\n",
       "      <td>Adam</td>\n",
       "      <td>15</td>\n",
       "      <td>test1</td>\n",
       "      <td>95.0</td>\n",
       "    </tr>\n",
       "    <tr>\n",
       "      <th>1</th>\n",
       "      <td>Bob</td>\n",
       "      <td>16</td>\n",
       "      <td>test1</td>\n",
       "      <td>81.0</td>\n",
       "    </tr>\n",
       "    <tr>\n",
       "      <th>2</th>\n",
       "      <td>Dave</td>\n",
       "      <td>16</td>\n",
       "      <td>test1</td>\n",
       "      <td>89.0</td>\n",
       "    </tr>\n",
       "    <tr>\n",
       "      <th>3</th>\n",
       "      <td>Fred</td>\n",
       "      <td>15</td>\n",
       "      <td>test1</td>\n",
       "      <td>NaN</td>\n",
       "    </tr>\n",
       "    <tr>\n",
       "      <th>4</th>\n",
       "      <td>Kofi</td>\n",
       "      <td>12</td>\n",
       "      <td>test1</td>\n",
       "      <td>70.0</td>\n",
       "    </tr>\n",
       "    <tr>\n",
       "      <th>5</th>\n",
       "      <td>Ped</td>\n",
       "      <td>19</td>\n",
       "      <td>test1</td>\n",
       "      <td>81.0</td>\n",
       "    </tr>\n",
       "    <tr>\n",
       "      <th>6</th>\n",
       "      <td>Frank</td>\n",
       "      <td>18</td>\n",
       "      <td>test1</td>\n",
       "      <td>71.0</td>\n",
       "    </tr>\n",
       "    <tr>\n",
       "      <th>7</th>\n",
       "      <td>Adam</td>\n",
       "      <td>15</td>\n",
       "      <td>test2</td>\n",
       "      <td>80.0</td>\n",
       "    </tr>\n",
       "    <tr>\n",
       "      <th>8</th>\n",
       "      <td>Bob</td>\n",
       "      <td>16</td>\n",
       "      <td>test2</td>\n",
       "      <td>82.0</td>\n",
       "    </tr>\n",
       "    <tr>\n",
       "      <th>9</th>\n",
       "      <td>Dave</td>\n",
       "      <td>16</td>\n",
       "      <td>test2</td>\n",
       "      <td>84.0</td>\n",
       "    </tr>\n",
       "    <tr>\n",
       "      <th>10</th>\n",
       "      <td>Fred</td>\n",
       "      <td>15</td>\n",
       "      <td>test2</td>\n",
       "      <td>88.0</td>\n",
       "    </tr>\n",
       "    <tr>\n",
       "      <th>11</th>\n",
       "      <td>Kofi</td>\n",
       "      <td>12</td>\n",
       "      <td>test2</td>\n",
       "      <td>69.0</td>\n",
       "    </tr>\n",
       "    <tr>\n",
       "      <th>12</th>\n",
       "      <td>Ped</td>\n",
       "      <td>19</td>\n",
       "      <td>test2</td>\n",
       "      <td>91.0</td>\n",
       "    </tr>\n",
       "    <tr>\n",
       "      <th>13</th>\n",
       "      <td>Frank</td>\n",
       "      <td>18</td>\n",
       "      <td>test2</td>\n",
       "      <td>80.0</td>\n",
       "    </tr>\n",
       "  </tbody>\n",
       "</table>\n",
       "</div>"
      ],
      "text/plain": [
       "     name  age variable  value\n",
       "0    Adam   15    test1   95.0\n",
       "1     Bob   16    test1   81.0\n",
       "2    Dave   16    test1   89.0\n",
       "3    Fred   15    test1    NaN\n",
       "4    Kofi   12    test1   70.0\n",
       "5     Ped   19    test1   81.0\n",
       "6   Frank   18    test1   71.0\n",
       "7    Adam   15    test2   80.0\n",
       "8     Bob   16    test2   82.0\n",
       "9    Dave   16    test2   84.0\n",
       "10   Fred   15    test2   88.0\n",
       "11   Kofi   12    test2   69.0\n",
       "12    Ped   19    test2   91.0\n",
       "13  Frank   18    test2   80.0"
      ]
     },
     "execution_count": 213,
     "metadata": {},
     "output_type": "execute_result"
    }
   ],
   "source": [
    "pd.melt(scores, id_vars=['name', 'age'],\n",
    "       value_vars=['test1', 'test2'])\n"
   ]
  },
  {
   "cell_type": "code",
   "execution_count": 214,
   "id": "fea8d681",
   "metadata": {},
   "outputs": [
    {
     "data": {
      "text/html": [
       "<div>\n",
       "<style scoped>\n",
       "    .dataframe tbody tr th:only-of-type {\n",
       "        vertical-align: middle;\n",
       "    }\n",
       "\n",
       "    .dataframe tbody tr th {\n",
       "        vertical-align: top;\n",
       "    }\n",
       "\n",
       "    .dataframe thead th {\n",
       "        text-align: right;\n",
       "    }\n",
       "</style>\n",
       "<table border=\"1\" class=\"dataframe\">\n",
       "  <thead>\n",
       "    <tr style=\"text-align: right;\">\n",
       "      <th></th>\n",
       "      <th>name</th>\n",
       "      <th>age</th>\n",
       "      <th>test</th>\n",
       "      <th>score</th>\n",
       "    </tr>\n",
       "  </thead>\n",
       "  <tbody>\n",
       "    <tr>\n",
       "      <th>0</th>\n",
       "      <td>Adam</td>\n",
       "      <td>15</td>\n",
       "      <td>test1</td>\n",
       "      <td>95.0</td>\n",
       "    </tr>\n",
       "    <tr>\n",
       "      <th>1</th>\n",
       "      <td>Bob</td>\n",
       "      <td>16</td>\n",
       "      <td>test1</td>\n",
       "      <td>81.0</td>\n",
       "    </tr>\n",
       "    <tr>\n",
       "      <th>2</th>\n",
       "      <td>Dave</td>\n",
       "      <td>16</td>\n",
       "      <td>test1</td>\n",
       "      <td>89.0</td>\n",
       "    </tr>\n",
       "    <tr>\n",
       "      <th>3</th>\n",
       "      <td>Fred</td>\n",
       "      <td>15</td>\n",
       "      <td>test1</td>\n",
       "      <td>NaN</td>\n",
       "    </tr>\n",
       "    <tr>\n",
       "      <th>4</th>\n",
       "      <td>Kofi</td>\n",
       "      <td>12</td>\n",
       "      <td>test1</td>\n",
       "      <td>70.0</td>\n",
       "    </tr>\n",
       "    <tr>\n",
       "      <th>5</th>\n",
       "      <td>Ped</td>\n",
       "      <td>19</td>\n",
       "      <td>test1</td>\n",
       "      <td>81.0</td>\n",
       "    </tr>\n",
       "    <tr>\n",
       "      <th>6</th>\n",
       "      <td>Frank</td>\n",
       "      <td>18</td>\n",
       "      <td>test1</td>\n",
       "      <td>71.0</td>\n",
       "    </tr>\n",
       "    <tr>\n",
       "      <th>7</th>\n",
       "      <td>Adam</td>\n",
       "      <td>15</td>\n",
       "      <td>test2</td>\n",
       "      <td>80.0</td>\n",
       "    </tr>\n",
       "    <tr>\n",
       "      <th>8</th>\n",
       "      <td>Bob</td>\n",
       "      <td>16</td>\n",
       "      <td>test2</td>\n",
       "      <td>82.0</td>\n",
       "    </tr>\n",
       "    <tr>\n",
       "      <th>9</th>\n",
       "      <td>Dave</td>\n",
       "      <td>16</td>\n",
       "      <td>test2</td>\n",
       "      <td>84.0</td>\n",
       "    </tr>\n",
       "    <tr>\n",
       "      <th>10</th>\n",
       "      <td>Fred</td>\n",
       "      <td>15</td>\n",
       "      <td>test2</td>\n",
       "      <td>88.0</td>\n",
       "    </tr>\n",
       "    <tr>\n",
       "      <th>11</th>\n",
       "      <td>Kofi</td>\n",
       "      <td>12</td>\n",
       "      <td>test2</td>\n",
       "      <td>69.0</td>\n",
       "    </tr>\n",
       "    <tr>\n",
       "      <th>12</th>\n",
       "      <td>Ped</td>\n",
       "      <td>19</td>\n",
       "      <td>test2</td>\n",
       "      <td>91.0</td>\n",
       "    </tr>\n",
       "    <tr>\n",
       "      <th>13</th>\n",
       "      <td>Frank</td>\n",
       "      <td>18</td>\n",
       "      <td>test2</td>\n",
       "      <td>80.0</td>\n",
       "    </tr>\n",
       "  </tbody>\n",
       "</table>\n",
       "</div>"
      ],
      "text/plain": [
       "     name  age   test  score\n",
       "0    Adam   15  test1   95.0\n",
       "1     Bob   16  test1   81.0\n",
       "2    Dave   16  test1   89.0\n",
       "3    Fred   15  test1    NaN\n",
       "4    Kofi   12  test1   70.0\n",
       "5     Ped   19  test1   81.0\n",
       "6   Frank   18  test1   71.0\n",
       "7    Adam   15  test2   80.0\n",
       "8     Bob   16  test2   82.0\n",
       "9    Dave   16  test2   84.0\n",
       "10   Fred   15  test2   88.0\n",
       "11   Kofi   12  test2   69.0\n",
       "12    Ped   19  test2   91.0\n",
       "13  Frank   18  test2   80.0"
      ]
     },
     "execution_count": 214,
     "metadata": {},
     "output_type": "execute_result"
    }
   ],
   "source": [
    "pd.melt(scores, id_vars=['name', 'age'],\n",
    "       value_vars=['test1', 'test2'],\n",
    "       var_name='test', value_name='score')"
   ]
  },
  {
   "cell_type": "code",
   "execution_count": null,
   "id": "34ed1830",
   "metadata": {},
   "outputs": [],
   "source": []
  },
  {
   "cell_type": "code",
   "execution_count": null,
   "id": "d4f24f88",
   "metadata": {},
   "outputs": [],
   "source": []
  },
  {
   "cell_type": "code",
   "execution_count": null,
   "id": "42406c88",
   "metadata": {},
   "outputs": [],
   "source": []
  },
  {
   "cell_type": "code",
   "execution_count": null,
   "id": "789896d2",
   "metadata": {},
   "outputs": [],
   "source": []
  },
  {
   "cell_type": "code",
   "execution_count": null,
   "id": "40ce42e6",
   "metadata": {},
   "outputs": [],
   "source": []
  },
  {
   "cell_type": "code",
   "execution_count": null,
   "id": "d60c50e0",
   "metadata": {},
   "outputs": [],
   "source": []
  },
  {
   "cell_type": "code",
   "execution_count": null,
   "id": "8dae4604",
   "metadata": {},
   "outputs": [],
   "source": []
  },
  {
   "cell_type": "code",
   "execution_count": null,
   "id": "3bd0455d",
   "metadata": {},
   "outputs": [],
   "source": []
  },
  {
   "cell_type": "code",
   "execution_count": null,
   "id": "889bd557",
   "metadata": {},
   "outputs": [],
   "source": []
  },
  {
   "cell_type": "code",
   "execution_count": null,
   "id": "cf0096f2",
   "metadata": {},
   "outputs": [],
   "source": []
  },
  {
   "cell_type": "code",
   "execution_count": null,
   "id": "a7e69eba",
   "metadata": {},
   "outputs": [],
   "source": []
  },
  {
   "cell_type": "code",
   "execution_count": null,
   "id": "193d4647",
   "metadata": {},
   "outputs": [],
   "source": []
  },
  {
   "cell_type": "code",
   "execution_count": null,
   "id": "7b64847e",
   "metadata": {},
   "outputs": [],
   "source": []
  },
  {
   "cell_type": "code",
   "execution_count": null,
   "id": "03d3e9ae",
   "metadata": {},
   "outputs": [],
   "source": []
  },
  {
   "cell_type": "code",
   "execution_count": null,
   "id": "57fe7150",
   "metadata": {},
   "outputs": [],
   "source": []
  },
  {
   "cell_type": "code",
   "execution_count": null,
   "id": "e02b6cdd",
   "metadata": {},
   "outputs": [],
   "source": []
  },
  {
   "cell_type": "code",
   "execution_count": null,
   "id": "4f757f48",
   "metadata": {},
   "outputs": [],
   "source": []
  },
  {
   "cell_type": "code",
   "execution_count": null,
   "id": "cd1ce0cd",
   "metadata": {},
   "outputs": [],
   "source": []
  },
  {
   "cell_type": "code",
   "execution_count": null,
   "id": "b0270440",
   "metadata": {},
   "outputs": [],
   "source": []
  },
  {
   "cell_type": "code",
   "execution_count": null,
   "id": "24dd85a5",
   "metadata": {},
   "outputs": [],
   "source": []
  },
  {
   "cell_type": "code",
   "execution_count": null,
   "id": "56ecb9c2",
   "metadata": {},
   "outputs": [],
   "source": []
  },
  {
   "cell_type": "code",
   "execution_count": null,
   "id": "b802786e",
   "metadata": {},
   "outputs": [],
   "source": []
  },
  {
   "cell_type": "code",
   "execution_count": null,
   "id": "776ab5da",
   "metadata": {},
   "outputs": [],
   "source": []
  },
  {
   "cell_type": "code",
   "execution_count": null,
   "id": "8a6f87f6",
   "metadata": {},
   "outputs": [],
   "source": []
  }
 ],
 "metadata": {
  "kernelspec": {
   "display_name": "Python 3",
   "language": "python",
   "name": "python3"
  },
  "language_info": {
   "codemirror_mode": {
    "name": "ipython",
    "version": 3
   },
   "file_extension": ".py",
   "mimetype": "text/x-python",
   "name": "python",
   "nbconvert_exporter": "python",
   "pygments_lexer": "ipython3",
   "version": "3.8.8"
  }
 },
 "nbformat": 4,
 "nbformat_minor": 5
}
